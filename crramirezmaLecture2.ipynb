{
 "cells": [
  {
   "cell_type": "markdown",
   "metadata": {},
   "source": [
    "# Introduction to Python\n",
    "by Maxwell Margenot\n",
    "\n",
    "Part of the Quantopian Lecture Series:\n",
    "\n",
    "* [www.quantopian.com/lectures](https://www.quantopian.com/lectures)\n",
    "* [github.com/quantopian/research_public](https://github.com/quantopian/research_public)\n",
    "\n",
    "\n",
    "---\n",
    "\n",
    "All of the coding that you will do on the Quantopian platform will be in Python. It is also just a good, jack-of-all-trades language to know! Here we will provide you with the basics so that you can feel confident going through our other lectures and understanding what is happening."
   ]
  },
  {
   "cell_type": "markdown",
   "metadata": {},
   "source": [
    "## Code Comments\n",
    "\n",
    "A comment is a note made by a programmer in the source code of a program. Its purpose is to clarify the source code and make it easier for people to follow along with what is happening. Anything in a comment is generally ignored when the code is actually run, making comments useful for including explanations and reasoning as well as removing specific lines of code that you may be unsure about. Comments in Python are created by using the pound symbol (`# Insert Text Here`). Including a `#` in a line of code will comment out anything that follows it."
   ]
  },
  {
   "cell_type": "code",
   "execution_count": 1,
   "metadata": {},
   "outputs": [],
   "source": [
    "# This is a comment\n",
    "# These lines of code will not change any values\n",
    "# Anything following the first # is not run as code"
   ]
  },
  {
   "cell_type": "code",
   "execution_count": 2,
   "metadata": {},
   "outputs": [],
   "source": [
    "# las lineas de comentarios no afectan al programa en tiempo de ejecucion\n",
    "# le permiten al desarrollador tener un mayor control del codigo que realiza\n",
    "# ademas de que agilizan el trabajo en equipos"
   ]
  },
  {
   "cell_type": "markdown",
   "metadata": {},
   "source": [
    "You may hear text enclosed in triple quotes (`\"\"\" Insert Text Here \"\"\"`) referred to as multi-line comments, but this is not entirely accurate. This is a special type of `string` (a data type we will cover), called a `docstring`, used to explain the purpose of a function."
   ]
  },
  {
   "cell_type": "code",
   "execution_count": 3,
   "metadata": {},
   "outputs": [
    {
     "data": {
      "text/plain": [
       "' This is a special string '"
      ]
     },
     "execution_count": 3,
     "metadata": {},
     "output_type": "execute_result"
    }
   ],
   "source": [
    "\"\"\" This is a special string \"\"\""
   ]
  },
  {
   "cell_type": "code",
   "execution_count": 4,
   "metadata": {},
   "outputs": [
    {
     "data": {
      "text/plain": [
       "' este es un string especial con distintas caracteristicas,\\n    son comentarios que permiten salto de linea,\\n    y se usan para explicar alguna funcion'"
      ]
     },
     "execution_count": 4,
     "metadata": {},
     "output_type": "execute_result"
    }
   ],
   "source": [
    "\"\"\" este es un string especial con distintas caracteristicas,\n",
    "    son comentarios que permiten salto de linea,\n",
    "    y se usan para explicar alguna funcion\"\"\""
   ]
  },
  {
   "cell_type": "markdown",
   "metadata": {},
   "source": [
    "Make sure you read the comments within each code cell (if they are there). They will provide more real-time explanations of what is going on as you look at each line of code."
   ]
  },
  {
   "cell_type": "markdown",
   "metadata": {},
   "source": [
    "## Variables\n",
    "\n",
    "Variables provide names for values in programming. If you want to save a value for later or repeated use, you give the value a name, storing the contents in a variable. Variables in programming work in a fundamentally similar way to variables in algebra, but in Python they can take on various different data types.\n",
    "\n",
    "The basic variable types that we will cover in this section are `integers`, `floating point numbers`, `booleans`, and `strings`. \n",
    "\n",
    "An `integer` in programming is the same as in mathematics, a round number with no values after the decimal point. We use the built-in `print` function here to display the values of our variables as well as their types!"
   ]
  },
  {
   "cell_type": "code",
   "execution_count": 5,
   "metadata": {},
   "outputs": [
    {
     "data": {
      "text/plain": [
       "'my_integer = 50\\nprint my_integer, type(my_integer)'"
      ]
     },
     "execution_count": 5,
     "metadata": {},
     "output_type": "execute_result"
    }
   ],
   "source": [
    "\"\"\"my_integer = 50\n",
    "print my_integer, type(my_integer)\"\"\""
   ]
  },
  {
   "cell_type": "code",
   "execution_count": 6,
   "metadata": {
    "scrolled": true
   },
   "outputs": [
    {
     "name": "stdout",
     "output_type": "stream",
     "text": [
      "50 <class 'int'>\n"
     ]
    }
   ],
   "source": [
    "un_entero = 50\n",
    "#los valores enteros son los numeros que no poseen coma decimal\n",
    "print un_entero, type(un_entero)\n"
   ]
  },
  {
   "cell_type": "markdown",
   "metadata": {},
   "source": [
    "Variables, regardless of type, are assigned by using a single equals sign (`=`). Variables are case-sensitive so any changes in variation in the capitals of a variable name will reference a different variable entirely."
   ]
  },
  {
   "cell_type": "code",
   "execution_count": 7,
   "metadata": {},
   "outputs": [
    {
     "data": {
      "text/plain": [
       "'one = 1\\nprint One'"
      ]
     },
     "execution_count": 7,
     "metadata": {},
     "output_type": "execute_result"
    }
   ],
   "source": [
    "\"\"\"one = 1\n",
    "print One\"\"\""
   ]
  },
  {
   "cell_type": "code",
   "execution_count": 8,
   "metadata": {},
   "outputs": [
    {
     "name": "stdout",
     "output_type": "stream",
     "text": [
      "1\n",
      "50\n"
     ]
    }
   ],
   "source": [
    "Un_entero=1\n",
    "#esta variable es distinta a la anterior ya que, como python es sensible a las mayusculas, \n",
    "#no las reconoce como iguales\n",
    "print Un_entero\n",
    "print un_entero"
   ]
  },
  {
   "cell_type": "markdown",
   "metadata": {},
   "source": [
    "A `floating point` number, or a `float` is a fancy name for a real number (again as in mathematics). To define a `float`, we need to either include a decimal point or specify that the value is a float."
   ]
  },
  {
   "cell_type": "code",
   "execution_count": 9,
   "metadata": {
    "scrolled": true
   },
   "outputs": [
    {
     "data": {
      "text/plain": [
       "'my_float = 1.0\\nprint my_float, type(my_float)\\nmy_float = float(1)\\nprint my_float, type(my_float)'"
      ]
     },
     "execution_count": 9,
     "metadata": {},
     "output_type": "execute_result"
    }
   ],
   "source": [
    "\"\"\"my_float = 1.0\n",
    "print my_float, type(my_float)\n",
    "my_float = float(1)\n",
    "print my_float, type(my_float)\"\"\""
   ]
  },
  {
   "cell_type": "code",
   "execution_count": 10,
   "metadata": {
    "scrolled": true
   },
   "outputs": [
    {
     "name": "stdout",
     "output_type": "stream",
     "text": [
      "14.85 <class 'float'>\n",
      "14.0 <class 'float'>\n"
     ]
    }
   ],
   "source": [
    "#existen dos maneras de especificar un float\n",
    "#la primera poniendo el punto o coma decimal(python usa el punto)\n",
    "un_float=14.85\n",
    "print un_float, type(un_float)\n",
    "#la segunda es espcificando de manera explicita que se trata de un float\n",
    "un_float=float(14)\n",
    "print un_float, type(un_float)"
   ]
  },
  {
   "cell_type": "markdown",
   "metadata": {},
   "source": [
    "A variable of type `float` will not round the number that you store in it, while a variable of type `integer` will. This makes `floats` more suitable for mathematical calculations where you want more than just integers.\n",
    "\n",
    "Note that as we used the `float()` function to force an number to be considered a `float`, we can use the `int()` function to force a number to be considered an `int`."
   ]
  },
  {
   "cell_type": "code",
   "execution_count": 11,
   "metadata": {},
   "outputs": [
    {
     "data": {
      "text/plain": [
       "'my_int = int(3.14159)\\nprint my_int, type(my_int)'"
      ]
     },
     "execution_count": 11,
     "metadata": {},
     "output_type": "execute_result"
    }
   ],
   "source": [
    "\"\"\"my_int = int(3.14159)\n",
    "print my_int, type(my_int)\"\"\""
   ]
  },
  {
   "cell_type": "code",
   "execution_count": 12,
   "metadata": {},
   "outputs": [
    {
     "name": "stdout",
     "output_type": "stream",
     "text": [
      "1344 <class 'int'>\n"
     ]
    }
   ],
   "source": [
    "#las variables de tipo int son poco usadas para estadisticas puesto que redondean \n",
    "#el numero para que no tenga valor decimal\n",
    "un_int=int(1344.68695)\n",
    "#si se fuerza un numero real a ser entero, este devolvera el valor de la funcion piso para ese numero\n",
    "print un_int, type(un_int)"
   ]
  },
  {
   "cell_type": "markdown",
   "metadata": {},
   "source": [
    "The `int()` function will also truncate any digits that a number may have after the decimal point!\n",
    "\n",
    "Strings allow you to include text as a variable to operate on. They are defined using either single quotes ('') or double quotes (\"\")."
   ]
  },
  {
   "cell_type": "code",
   "execution_count": 13,
   "metadata": {},
   "outputs": [
    {
     "data": {
      "text/plain": [
       "'my_string = \\'This is a string with single quotes\\'\\nprint my_string\\nmy_string = \"This is a string with double quotes\"\\nprint my_string'"
      ]
     },
     "execution_count": 13,
     "metadata": {},
     "output_type": "execute_result"
    }
   ],
   "source": [
    "\"\"\"my_string = 'This is a string with single quotes'\n",
    "print my_string\n",
    "my_string = \"This is a string with double quotes\"\n",
    "print my_string\"\"\""
   ]
  },
  {
   "cell_type": "code",
   "execution_count": 14,
   "metadata": {},
   "outputs": [
    {
     "name": "stdout",
     "output_type": "stream",
     "text": [
      "hola mundo\n",
      "hola mundo\n",
      "True\n"
     ]
    }
   ],
   "source": [
    "#los strings tienen dos formas de escribirse, con ('') o con (\"\")(otros lenguajes no permiten esto)\n",
    "un_string='hola mundo'\n",
    "print un_string\n",
    "Un_string=\"hola mundo\"\n",
    "print Un_string\n",
    "print (un_string==Un_string)"
   ]
  },
  {
   "cell_type": "markdown",
   "metadata": {},
   "source": [
    "Both are allowed so that we can include apostrophes or quotation marks in a string if we so choose."
   ]
  },
  {
   "cell_type": "code",
   "execution_count": 15,
   "metadata": {},
   "outputs": [
    {
     "data": {
      "text/plain": [
       "'my_string = \\'\"Jabberwocky\", by Lewis Carroll\\'\\nprint my_string\\nmy_string = \"\\'Twas brillig, and the slithy toves / Did gyre and gimble in the wabe;\"\\nprint my_string'"
      ]
     },
     "execution_count": 15,
     "metadata": {},
     "output_type": "execute_result"
    }
   ],
   "source": [
    "\"\"\"my_string = '\"Jabberwocky\", by Lewis Carroll'\n",
    "print my_string\n",
    "my_string = \"'Twas brillig, and the slithy toves / Did gyre and gimble in the wabe;\"\n",
    "print my_string\"\"\""
   ]
  },
  {
   "cell_type": "code",
   "execution_count": 16,
   "metadata": {},
   "outputs": [
    {
     "name": "stdout",
     "output_type": "stream",
     "text": [
      "'adios mundo', que tal todos\n",
      "\"hola mundo\", adios todos\n"
     ]
    }
   ],
   "source": [
    "#y de igual manera, dentro del string podemos poner ('')(\"\") como parte de la cadena\n",
    "un_string=\"'adios mundo', que tal todos\"\n",
    "print un_string\n",
    "Un_string='\"hola mundo\", adios todos'\n",
    "print Un_string"
   ]
  },
  {
   "cell_type": "markdown",
   "metadata": {},
   "source": [
    "Booleans, or `bools` are binary variable types. A `bool` can only take on one of two values, these being `True` or `False`. There is much more to this idea of truth values when it comes to programming, which we cover later in the [Logical Operators](#id-section5) of this notebook."
   ]
  },
  {
   "cell_type": "code",
   "execution_count": 17,
   "metadata": {},
   "outputs": [
    {
     "data": {
      "text/plain": [
       "'my_bool = True\\nprint my_bool, type(my_bool)'"
      ]
     },
     "execution_count": 17,
     "metadata": {},
     "output_type": "execute_result"
    }
   ],
   "source": [
    "\"\"\"my_bool = True\n",
    "print my_bool, type(my_bool)\"\"\""
   ]
  },
  {
   "cell_type": "code",
   "execution_count": 18,
   "metadata": {},
   "outputs": [
    {
     "name": "stdout",
     "output_type": "stream",
     "text": [
      "False <class 'bool'>\n"
     ]
    }
   ],
   "source": [
    "un_bool=False\n",
    "print un_bool, type(un_bool)"
   ]
  },
  {
   "cell_type": "markdown",
   "metadata": {},
   "source": [
    "There are many more data types that you can assign as variables in Python, but these are the basic ones! We will cover a few more later as we move through this tutorial."
   ]
  },
  {
   "cell_type": "markdown",
   "metadata": {},
   "source": [
    "## Basic Math\n",
    "\n",
    "Python has a number of built-in math functions. These can be extended even further by importing the **math** package or by including any number of other calculation-based packages.\n",
    "\n",
    "All of the basic arithmetic operations are supported: `+`, `-`, `/`, and `*`. You can create exponents by using `**` and modular arithmetic is introduced with the mod operator, `%`."
   ]
  },
  {
   "cell_type": "code",
   "execution_count": 19,
   "metadata": {},
   "outputs": [
    {
     "data": {
      "text/plain": [
       "\"print 'Addition: ', 2 + 2\\nprint 'Subtraction: ', 7 - 4\\nprint 'Multiplication: ', 2 * 5\\nprint 'Division: ', 10 / 2\\nprint 'Exponentiation: ', 3**2\""
      ]
     },
     "execution_count": 19,
     "metadata": {},
     "output_type": "execute_result"
    }
   ],
   "source": [
    "\"\"\"print 'Addition: ', 2 + 2\n",
    "print 'Subtraction: ', 7 - 4\n",
    "print 'Multiplication: ', 2 * 5\n",
    "print 'Division: ', 10 / 2\n",
    "print 'Exponentiation: ', 3**2\"\"\""
   ]
  },
  {
   "cell_type": "code",
   "execution_count": 20,
   "metadata": {},
   "outputs": [
    {
     "name": "stdout",
     "output_type": "stream",
     "text": [
      "Addition:  246\n",
      "Subtraction:  -3295\n",
      "Multiplication:  150\n",
      "Division:  1.0\n",
      "Exponentiation:  125\n"
     ]
    }
   ],
   "source": [
    "#operaciones aritmeticas basicas de python\n",
    "print 'Addition: ', 2 + 2+8+234\n",
    "print 'Subtraction: ', 7 - 4-5-3293\n",
    "print 'Multiplication: ', 2 * 5 *15\n",
    "print 'Division: ', 10 / 2 /5\n",
    "print 'Exponentiation: ', 5**3"
   ]
  },
  {
   "cell_type": "markdown",
   "metadata": {},
   "source": [
    "If you are not familiar with the the mod operator, it operates like a remainder function. If we type $15 \\ \\% \\ 4$, it will return the remainder after dividing $15$ by $4$."
   ]
  },
  {
   "cell_type": "code",
   "execution_count": 21,
   "metadata": {},
   "outputs": [
    {
     "data": {
      "text/plain": [
       "\"print 'Modulo: ', 15 % 4\""
      ]
     },
     "execution_count": 21,
     "metadata": {},
     "output_type": "execute_result"
    }
   ],
   "source": [
    "\"\"\"print 'Modulo: ', 15 % 4\"\"\""
   ]
  },
  {
   "cell_type": "code",
   "execution_count": 22,
   "metadata": {},
   "outputs": [
    {
     "name": "stdout",
     "output_type": "stream",
     "text": [
      "Modulo:  5\n"
     ]
    }
   ],
   "source": [
    "#el modulo devuelve el residuo de la division de a/b\n",
    "print 'Modulo: ', 20 % 15"
   ]
  },
  {
   "cell_type": "markdown",
   "metadata": {},
   "source": [
    "Mathematical functions also work on variables!"
   ]
  },
  {
   "cell_type": "code",
   "execution_count": 23,
   "metadata": {
    "scrolled": true
   },
   "outputs": [
    {
     "data": {
      "text/plain": [
       "'first_integer = 4\\nsecond_integer = 5\\nprint first_integer * second_integer'"
      ]
     },
     "execution_count": 23,
     "metadata": {},
     "output_type": "execute_result"
    }
   ],
   "source": [
    "\"\"\"first_integer = 4\n",
    "second_integer = 5\n",
    "print first_integer * second_integer\"\"\""
   ]
  },
  {
   "cell_type": "code",
   "execution_count": 24,
   "metadata": {
    "scrolled": true
   },
   "outputs": [
    {
     "name": "stdout",
     "output_type": "stream",
     "text": [
      "15625\n"
     ]
    }
   ],
   "source": [
    "#al igual que en valores constantes, las operaciones aritmeticas tambien funcionan con variables\n",
    "entero_1=25\n",
    "entero_2=3\n",
    "print entero_1**entero_2\n"
   ]
  },
  {
   "cell_type": "markdown",
   "metadata": {},
   "source": [
    "Make sure that your variables are floats if you want to have decimal points in your answer. If you perform math exclusively with integers, you get an integer. Including any float in the calculation will make the result a float."
   ]
  },
  {
   "cell_type": "code",
   "execution_count": 25,
   "metadata": {},
   "outputs": [
    {
     "data": {
      "text/plain": [
       "'first_integer = 11\\nsecond_integer = 3\\nprint first_integer / second_integer'"
      ]
     },
     "execution_count": 25,
     "metadata": {},
     "output_type": "execute_result"
    }
   ],
   "source": [
    "\"\"\"first_integer = 11\n",
    "second_integer = 3\n",
    "print first_integer / second_integer\"\"\""
   ]
  },
  {
   "cell_type": "code",
   "execution_count": 26,
   "metadata": {},
   "outputs": [
    {
     "data": {
      "text/plain": [
       "'first_number = 11.0\\nsecond_number = 3.0\\nprint first_number / second_number'"
      ]
     },
     "execution_count": 26,
     "metadata": {},
     "output_type": "execute_result"
    }
   ],
   "source": [
    "\"\"\"first_number = 11.0\n",
    "second_number = 3.0\n",
    "print first_number / second_number\"\"\""
   ]
  },
  {
   "cell_type": "code",
   "execution_count": 27,
   "metadata": {},
   "outputs": [
    {
     "name": "stdout",
     "output_type": "stream",
     "text": [
      "division en enteros: 2.4\n",
      "division en reales:  2.4\n"
     ]
    }
   ],
   "source": [
    "#la division de reales y de enteros en python se comportan de maneras distintas,\n",
    "#en ambas la division se hara normal, pero el valor que se guarde en int solo sera la parte entera\n",
    "un_entero=12\n",
    "Un_entero=5\n",
    "print \"division en enteros:\", un_entero/Un_entero\n",
    "\n",
    "un_float=12.0\n",
    "Un_float=5.0\n",
    "print \"division en reales: \", un_float/Un_float"
   ]
  },
  {
   "cell_type": "markdown",
   "metadata": {},
   "source": [
    "Python has a few built-in math functions. The most notable of these are:\n",
    "\n",
    "* `abs()`\n",
    "* `round()`\n",
    "* `max()`\n",
    "* `min()`\n",
    "* `sum()`\n",
    "\n",
    "These functions all act as you would expect, given their names. Calling `abs()` on a number will return its absolute value. The `round()` function will round a number to a specified number of the decimal points (the default is $0$). Calling `max()` or `min()` on a collection of numbers will return, respectively, the maximum or minimum value in the collection. Calling `sum()` on a collection of numbers will add them all up. If you're not familiar with how collections of values in Python work, don't worry! We will cover collections in-depth in the next section. \n",
    "\n",
    "Additional math functionality can be added in with the `math` package."
   ]
  },
  {
   "cell_type": "code",
   "execution_count": 28,
   "metadata": {},
   "outputs": [
    {
     "data": {
      "text/plain": [
       "'import math'"
      ]
     },
     "execution_count": 28,
     "metadata": {},
     "output_type": "execute_result"
    }
   ],
   "source": [
    "\"\"\"import math\"\"\""
   ]
  },
  {
   "cell_type": "code",
   "execution_count": 29,
   "metadata": {},
   "outputs": [],
   "source": [
    "#ademas se le puede asignar nombre propio a la libreria importada\n",
    "import math as mat"
   ]
  },
  {
   "cell_type": "markdown",
   "metadata": {},
   "source": [
    "The math library adds a long list of new mathematical functions to Python. Feel free to check out the [documentation](https://docs.python.org/2/library/math.html) for the full list and details. It concludes some mathematical constants"
   ]
  },
  {
   "cell_type": "code",
   "execution_count": 30,
   "metadata": {},
   "outputs": [
    {
     "data": {
      "text/plain": [
       "'print \\'Pi: \\', math.pi\\nprint \"Euler\\'s Constant: \", math.e'"
      ]
     },
     "execution_count": 30,
     "metadata": {},
     "output_type": "execute_result"
    }
   ],
   "source": [
    "\"\"\"print 'Pi: ', math.pi\n",
    "print \"Euler's Constant: \", math.e\"\"\""
   ]
  },
  {
   "cell_type": "code",
   "execution_count": 31,
   "metadata": {},
   "outputs": [
    {
     "name": "stdout",
     "output_type": "stream",
     "text": [
      "Pi:  3.141592653589793\n",
      "Constante de euler:  2.718281828459045\n"
     ]
    }
   ],
   "source": [
    "print 'Pi: ', mat.pi\n",
    "print \"Constante de euler: \", mat.e"
   ]
  },
  {
   "cell_type": "markdown",
   "metadata": {},
   "source": [
    "As well as some commonly used math functions"
   ]
  },
  {
   "cell_type": "code",
   "execution_count": 32,
   "metadata": {},
   "outputs": [
    {
     "data": {
      "text/plain": [
       "\"print 'Cosine of pi: ', math.cos(math.pi)\""
      ]
     },
     "execution_count": 32,
     "metadata": {},
     "output_type": "execute_result"
    }
   ],
   "source": [
    "\"\"\"print 'Cosine of pi: ', math.cos(math.pi)\"\"\""
   ]
  },
  {
   "cell_type": "code",
   "execution_count": 33,
   "metadata": {},
   "outputs": [
    {
     "name": "stdout",
     "output_type": "stream",
     "text": [
      "Seno de 2pi:  -2.4492935982947064e-16\n"
     ]
    }
   ],
   "source": [
    "print \"Seno de 2pi: \", mat.sin(mat.pi*2)"
   ]
  },
  {
   "cell_type": "markdown",
   "metadata": {},
   "source": [
    "## Collections\n",
    "### Lists\n",
    "\n",
    "A `list` in Python is an ordered collection of objects that can contain any data type. We define a `list` using brackets (`[]`)."
   ]
  },
  {
   "cell_type": "code",
   "execution_count": 34,
   "metadata": {},
   "outputs": [
    {
     "data": {
      "text/plain": [
       "'my_list = [1, 2, 3]\\nprint my_list'"
      ]
     },
     "execution_count": 34,
     "metadata": {},
     "output_type": "execute_result"
    }
   ],
   "source": [
    "\"\"\"my_list = [1, 2, 3]\n",
    "print my_list\"\"\""
   ]
  },
  {
   "cell_type": "code",
   "execution_count": 35,
   "metadata": {},
   "outputs": [
    {
     "name": "stdout",
     "output_type": "stream",
     "text": [
      "[2, 4, 6, 8, 10]\n"
     ]
    }
   ],
   "source": [
    "una_lista=[2,4,6,8,10]\n",
    "print una_lista"
   ]
  },
  {
   "cell_type": "markdown",
   "metadata": {},
   "source": [
    "We can access and index the list by using brackets as well. In order to select an individual element, simply type the list name followed by the index of the item you are looking for in braces."
   ]
  },
  {
   "cell_type": "code",
   "execution_count": 36,
   "metadata": {},
   "outputs": [
    {
     "data": {
      "text/plain": [
       "'print my_list[0]\\nprint my_list[2]'"
      ]
     },
     "execution_count": 36,
     "metadata": {},
     "output_type": "execute_result"
    }
   ],
   "source": [
    "\"\"\"print my_list[0]\n",
    "print my_list[2]\"\"\""
   ]
  },
  {
   "cell_type": "code",
   "execution_count": 37,
   "metadata": {},
   "outputs": [
    {
     "name": "stdout",
     "output_type": "stream",
     "text": [
      "4\n",
      "10\n"
     ]
    }
   ],
   "source": [
    "#se puede acceder a cualquier posicion de la lista(recordar que las posiciones comienzan en 0 y no en 1)\n",
    "print una_lista[1]\n",
    "print una_lista[4]"
   ]
  },
  {
   "cell_type": "markdown",
   "metadata": {},
   "source": [
    "Indexing in Python starts from $0$. If you have a list of length $n$, the first element of the list is at index $0$, the second element is at index $1$, and so on and so forth. The final element of the list will be at index $n-1$. Be careful! Trying to access a non-existent index will cause an error."
   ]
  },
  {
   "cell_type": "code",
   "execution_count": 38,
   "metadata": {},
   "outputs": [
    {
     "data": {
      "text/plain": [
       "\"print 'The first, second, and third list elements: ', my_list[0], my_list[1], my_list[2]\\nprint 'Accessing outside the list bounds causes an error: ', my_list[3]\""
      ]
     },
     "execution_count": 38,
     "metadata": {},
     "output_type": "execute_result"
    }
   ],
   "source": [
    "\"\"\"print 'The first, second, and third list elements: ', my_list[0], my_list[1], my_list[2]\n",
    "print 'Accessing outside the list bounds causes an error: ', my_list[3]\"\"\""
   ]
  },
  {
   "cell_type": "code",
   "execution_count": 39,
   "metadata": {},
   "outputs": [
    {
     "ename": "SyntaxError",
     "evalue": "Missing parentheses in call to 'print' (<ipython-input-39-a35f198809ac>, line 2)",
     "output_type": "error",
     "traceback": [
      "\u001b[0;36m  File \u001b[0;32m\"<ipython-input-39-a35f198809ac>\"\u001b[0;36m, line \u001b[0;32m2\u001b[0m\n\u001b[0;31m    print \"cuarta posicion\", una lista[3]\u001b[0m\n\u001b[0m                          ^\u001b[0m\n\u001b[0;31mSyntaxError\u001b[0m\u001b[0;31m:\u001b[0m Missing parentheses in call to 'print'\n"
     ]
    }
   ],
   "source": [
    "print \"primera posicion\", una_lista[0]\n",
    "print \"cuarta posicion\", una lista[3]\n",
    "#si se accede a una posicion que no existe, se genera error, y como \"una_lista\" tiene 5 elementos, no se puede llegar al indice 5\n"
   ]
  },
  {
   "cell_type": "markdown",
   "metadata": {},
   "source": [
    "We can see the number of elements in a list by calling the `len()` function."
   ]
  },
  {
   "cell_type": "code",
   "execution_count": 40,
   "metadata": {},
   "outputs": [
    {
     "data": {
      "text/plain": [
       "'print len(my_list)'"
      ]
     },
     "execution_count": 40,
     "metadata": {},
     "output_type": "execute_result"
    }
   ],
   "source": [
    "\"\"\"print len(my_list)\"\"\""
   ]
  },
  {
   "cell_type": "code",
   "execution_count": 41,
   "metadata": {},
   "outputs": [
    {
     "name": "stdout",
     "output_type": "stream",
     "text": [
      "cantidad de elementos en la lista:  5\n"
     ]
    }
   ],
   "source": [
    "print \"cantidad de elementos en la lista: \", len(una_lista)"
   ]
  },
  {
   "cell_type": "markdown",
   "metadata": {},
   "source": [
    "We can update and change a list by accessing an index and assigning new value."
   ]
  },
  {
   "cell_type": "code",
   "execution_count": 42,
   "metadata": {},
   "outputs": [
    {
     "data": {
      "text/plain": [
       "'print my_list\\nmy_list[0] = 42\\nprint my_list'"
      ]
     },
     "execution_count": 42,
     "metadata": {},
     "output_type": "execute_result"
    }
   ],
   "source": [
    "\"\"\"print my_list\n",
    "my_list[0] = 42\n",
    "print my_list\"\"\""
   ]
  },
  {
   "cell_type": "code",
   "execution_count": 43,
   "metadata": {},
   "outputs": [
    {
     "name": "stdout",
     "output_type": "stream",
     "text": [
      "[2, 4, 6, 8, 10]\n",
      "[2, 4, 6, 8, 3457]\n"
     ]
    }
   ],
   "source": [
    "print una_lista\n",
    "#puedo modificar cualquier valor en cualquier posicion si lo especifico\n",
    "una_lista[4]=3457\n",
    "print una_lista"
   ]
  },
  {
   "cell_type": "markdown",
   "metadata": {},
   "source": [
    "This is fundamentally different from how strings are handled. A `list` is mutable, meaning that you can change a `list`'s elements without changing the list itself. Some data types, like `strings`, are immutable, meaning you cannot change them at all. Once a `string` or other immutable data type has been created, it cannot be directly modified without creating an entirely new object."
   ]
  },
  {
   "cell_type": "code",
   "execution_count": 44,
   "metadata": {},
   "outputs": [
    {
     "data": {
      "text/plain": [
       "'my_string = \"Strings never change\"\\nmy_string[0] = \\'Z\\''"
      ]
     },
     "execution_count": 44,
     "metadata": {},
     "output_type": "execute_result"
    }
   ],
   "source": [
    "\"\"\"my_string = \"Strings never change\"\n",
    "my_string[0] = 'Z'\"\"\""
   ]
  },
  {
   "cell_type": "code",
   "execution_count": 45,
   "metadata": {},
   "outputs": [
    {
     "data": {
      "text/plain": [
       "\"un_string='hola mundo'\\nun_string[10]='s'\""
      ]
     },
     "execution_count": 45,
     "metadata": {},
     "output_type": "execute_result"
    }
   ],
   "source": [
    "#un string es una variable inmutable, significa que no se puede modificar los valores en cada posicion\n",
    "#por separado\n",
    "\"\"\"un_string='hola mundo'\n",
    "un_string[10]='s'\"\"\"\n",
    "#estas lineas causaran error"
   ]
  },
  {
   "cell_type": "markdown",
   "metadata": {},
   "source": [
    "As we stated before, a list can contain any data type. Thus, lists can also contain strings."
   ]
  },
  {
   "cell_type": "code",
   "execution_count": 46,
   "metadata": {},
   "outputs": [
    {
     "data": {
      "text/plain": [
       "\"my_list_2 = ['one', 'two', 'three']\\nprint my_list_2\""
      ]
     },
     "execution_count": 46,
     "metadata": {},
     "output_type": "execute_result"
    }
   ],
   "source": [
    "\"\"\"my_list_2 = ['one', 'two', 'three']\n",
    "print my_list_2\"\"\""
   ]
  },
  {
   "cell_type": "code",
   "execution_count": 47,
   "metadata": {},
   "outputs": [
    {
     "name": "stdout",
     "output_type": "stream",
     "text": [
      "[False, True, False, True]\n"
     ]
    }
   ],
   "source": [
    "#las listas pueden contener cualquier tipo de dato que python soporte\n",
    "una_segunda_lista=[False, True, False, True]\n",
    "print una_segunda_lista"
   ]
  },
  {
   "cell_type": "markdown",
   "metadata": {},
   "source": [
    "Lists can also contain multiple different data types at once!"
   ]
  },
  {
   "cell_type": "code",
   "execution_count": 48,
   "metadata": {},
   "outputs": [
    {
     "data": {
      "text/plain": [
       "\"my_list_3 = [True, 'False', 42]\""
      ]
     },
     "execution_count": 48,
     "metadata": {},
     "output_type": "execute_result"
    }
   ],
   "source": [
    "\"\"\"my_list_3 = [True, 'False', 42]\"\"\""
   ]
  },
  {
   "cell_type": "code",
   "execution_count": 49,
   "metadata": {},
   "outputs": [
    {
     "name": "stdout",
     "output_type": "stream",
     "text": [
      "['hola que tal a todos', 12, 12.654, True]\n"
     ]
    }
   ],
   "source": [
    "#ademas las listas no necesariamente deben contener el msmo tipo de datos\n",
    "una_tercera_lista=[\"hola que tal a todos\",12,12.654,True]\n",
    "print una_tercera_lista"
   ]
  },
  {
   "cell_type": "markdown",
   "metadata": {},
   "source": [
    "If you want to put two lists together, they can be combined with a `+` symbol."
   ]
  },
  {
   "cell_type": "code",
   "execution_count": 50,
   "metadata": {},
   "outputs": [
    {
     "data": {
      "text/plain": [
       "'my_list_4 = my_list + my_list_2 + my_list_3\\nprint my_list_4'"
      ]
     },
     "execution_count": 50,
     "metadata": {},
     "output_type": "execute_result"
    }
   ],
   "source": [
    "\"\"\"my_list_4 = my_list + my_list_2 + my_list_3\n",
    "print my_list_4\"\"\""
   ]
  },
  {
   "cell_type": "code",
   "execution_count": 51,
   "metadata": {},
   "outputs": [
    {
     "name": "stdout",
     "output_type": "stream",
     "text": [
      "[2, 4, 6, 8, 3457, False, True, False, True, 'hola que tal a todos', 12, 12.654, True]\n"
     ]
    }
   ],
   "source": [
    "#se pueden fusionar las listas con \"+\"\n",
    "una_cuarta_lista=una_lista+una_segunda_lista+una_tercera_lista\n",
    "print una_cuarta_lista"
   ]
  },
  {
   "cell_type": "markdown",
   "metadata": {},
   "source": [
    "In addition to accessing individual elements of a list, we can access groups of elements through slicing."
   ]
  },
  {
   "cell_type": "code",
   "execution_count": 52,
   "metadata": {},
   "outputs": [
    {
     "data": {
      "text/plain": [
       "\"my_list = ['friends', 'romans', 'countrymen', 'lend', 'me', 'your', 'ears']\""
      ]
     },
     "execution_count": 52,
     "metadata": {},
     "output_type": "execute_result"
    }
   ],
   "source": [
    "\"\"\"my_list = ['friends', 'romans', 'countrymen', 'lend', 'me', 'your', 'ears']\"\"\""
   ]
  },
  {
   "cell_type": "markdown",
   "metadata": {},
   "source": [
    "#### Slicing\n",
    "\n",
    "We use the colon (`:`) to slice lists. "
   ]
  },
  {
   "cell_type": "code",
   "execution_count": 53,
   "metadata": {
    "scrolled": true
   },
   "outputs": [
    {
     "data": {
      "text/plain": [
       "'print my_list[2:4]'"
      ]
     },
     "execution_count": 53,
     "metadata": {},
     "output_type": "execute_result"
    }
   ],
   "source": [
    "\"\"\"print my_list[2:4]\"\"\""
   ]
  },
  {
   "cell_type": "code",
   "execution_count": 54,
   "metadata": {},
   "outputs": [
    {
     "name": "stdout",
     "output_type": "stream",
     "text": [
      "[8, 3457, False, True]\n"
     ]
    }
   ],
   "source": [
    "#se puede acceder a un conjunto de datos de una lista usando \"[:]\"\n",
    "print una_cuarta_lista[3:7]"
   ]
  },
  {
   "cell_type": "markdown",
   "metadata": {},
   "source": [
    "Using `:` we can select a group of elements in the list starting from the first element indicated and going up to  (but not including) the last element indicated.\n",
    "\n",
    "We can also select everything after a certain point"
   ]
  },
  {
   "cell_type": "code",
   "execution_count": 55,
   "metadata": {
    "scrolled": true
   },
   "outputs": [
    {
     "data": {
      "text/plain": [
       "'print my_list[1:]'"
      ]
     },
     "execution_count": 55,
     "metadata": {},
     "output_type": "execute_result"
    }
   ],
   "source": [
    "\"\"\"print my_list[1:]\"\"\""
   ]
  },
  {
   "cell_type": "markdown",
   "metadata": {},
   "source": [
    "And everything before a certain point"
   ]
  },
  {
   "cell_type": "code",
   "execution_count": 56,
   "metadata": {
    "scrolled": true
   },
   "outputs": [
    {
     "data": {
      "text/plain": [
       "'print my_list[:4]'"
      ]
     },
     "execution_count": 56,
     "metadata": {},
     "output_type": "execute_result"
    }
   ],
   "source": [
    "\"\"\"print my_list[:4]\"\"\""
   ]
  },
  {
   "cell_type": "code",
   "execution_count": 57,
   "metadata": {},
   "outputs": [
    {
     "name": "stdout",
     "output_type": "stream",
     "text": [
      "[2, 4, 6, 8, 3457, False, True]\n",
      "[True, False, True, 'hola que tal a todos', 12, 12.654, True]\n"
     ]
    }
   ],
   "source": [
    "#ademas se puede seleccionar cierto punto o hasta cierto punto de la lista\n",
    "\n",
    "#ejemplo de hasta cierto punto\n",
    "print una_cuarta_lista[:7]\n",
    "\n",
    "#ejemplo de desde cierto punto\n",
    "print una_cuarta_lista[6:]\n"
   ]
  },
  {
   "cell_type": "markdown",
   "metadata": {},
   "source": [
    "Using negative numbers will count from the end of the indices instead of from the beginning. For example, an index of `-1` indicates the last element of the list."
   ]
  },
  {
   "cell_type": "code",
   "execution_count": 58,
   "metadata": {},
   "outputs": [
    {
     "data": {
      "text/plain": [
       "'print my_list[-1]'"
      ]
     },
     "execution_count": 58,
     "metadata": {},
     "output_type": "execute_result"
    }
   ],
   "source": [
    "\"\"\"print my_list[-1]\"\"\""
   ]
  },
  {
   "cell_type": "code",
   "execution_count": 59,
   "metadata": {},
   "outputs": [
    {
     "name": "stdout",
     "output_type": "stream",
     "text": [
      "True\n"
     ]
    }
   ],
   "source": [
    "#un \"-1\" como posicion especifica el ultimo elemento de la lista\n",
    "print una_cuarta_lista[-1]"
   ]
  },
  {
   "cell_type": "markdown",
   "metadata": {},
   "source": [
    "You can also add a third component to slicing. Instead of simply indicating the first and final parts of your slice, you can specify the step size that you want to take. So instead of taking every single element, you can take every other element."
   ]
  },
  {
   "cell_type": "code",
   "execution_count": 60,
   "metadata": {},
   "outputs": [
    {
     "data": {
      "text/plain": [
       "'print my_list[0:7:2]'"
      ]
     },
     "execution_count": 60,
     "metadata": {},
     "output_type": "execute_result"
    }
   ],
   "source": [
    "\"\"\"print my_list[0:7:2]\"\"\""
   ]
  },
  {
   "cell_type": "code",
   "execution_count": 61,
   "metadata": {},
   "outputs": [
    {
     "name": "stdout",
     "output_type": "stream",
     "text": [
      "[4, 3457, False, 12]\n"
     ]
    }
   ],
   "source": [
    "#ademas de desde donde hasta donde, se puede especificar de a cuantas posiciones mostrar\n",
    "print una_cuarta_lista[1:13:3]"
   ]
  },
  {
   "cell_type": "markdown",
   "metadata": {},
   "source": [
    "Here we have selected the entire list (because `0:7` will yield elements `0` through `6`) and we have selected a step size of `2`. So this will spit out element `0` , element `2`, element `4`, and so on through the list element selected. We can skip indicated the beginning and end of our slice, only indicating the step, if we like."
   ]
  },
  {
   "cell_type": "code",
   "execution_count": 62,
   "metadata": {},
   "outputs": [
    {
     "data": {
      "text/plain": [
       "'print my_list[::2]'"
      ]
     },
     "execution_count": 62,
     "metadata": {},
     "output_type": "execute_result"
    }
   ],
   "source": [
    "\"\"\"print my_list[::2]\"\"\""
   ]
  },
  {
   "cell_type": "code",
   "execution_count": 63,
   "metadata": {},
   "outputs": [
    {
     "name": "stdout",
     "output_type": "stream",
     "text": [
      "[2, False]\n"
     ]
    }
   ],
   "source": [
    "#no es necesario especifcar desde donde hasta donde ir para especificar los saltos en la lista\n",
    "print una_cuarta_lista[::7]"
   ]
  },
  {
   "cell_type": "markdown",
   "metadata": {},
   "source": [
    "Lists implictly select the beginning and end of the list when not otherwise specified."
   ]
  },
  {
   "cell_type": "code",
   "execution_count": 64,
   "metadata": {},
   "outputs": [
    {
     "data": {
      "text/plain": [
       "'print my_list[:]'"
      ]
     },
     "execution_count": 64,
     "metadata": {},
     "output_type": "execute_result"
    }
   ],
   "source": [
    "\"\"\"print my_list[:]\"\"\""
   ]
  },
  {
   "cell_type": "code",
   "execution_count": 65,
   "metadata": {},
   "outputs": [
    {
     "name": "stdout",
     "output_type": "stream",
     "text": [
      "True\n",
      "False\n"
     ]
    }
   ],
   "source": [
    "#python implicitamente \"[:]\" cuando selecciona una lista\n",
    "print una_cuarta_lista==una_cuarta_lista[:]\n",
    "print una_cuarta_lista==una_cuarta_lista[1:5]"
   ]
  },
  {
   "cell_type": "markdown",
   "metadata": {},
   "source": [
    "With a negative step size we can even reverse the list!"
   ]
  },
  {
   "cell_type": "code",
   "execution_count": 66,
   "metadata": {},
   "outputs": [
    {
     "name": "stdout",
     "output_type": "stream",
     "text": [
      "[True, 12.654, 12, 'hola que tal a todos', True, False, True, False, 3457, 8, 6, 4, 2]\n",
      "[2, 4, 6, 8, 3457, False, True, False, True, 'hola que tal a todos', 12, 12.654, True]\n"
     ]
    }
   ],
   "source": [
    "#con una especificacion de salto \"-1\", se imprimira en reversa la lista\n",
    "print una_cuarta_lista[::-1]\n",
    "print una_cuarta_lista"
   ]
  },
  {
   "cell_type": "markdown",
   "metadata": {},
   "source": [
    "Python does not have native matrices, but with lists we can produce a working fascimile. Other packages, such as `numpy`, add matrices as a separate data type, but in base Python the best way to create a matrix is to use a list of lists."
   ]
  },
  {
   "cell_type": "markdown",
   "metadata": {},
   "source": [
    "We can also use built-in functions to generate lists. In particular we will look at `range()` (because we will be using it later!). Range can take several different inputs and will return a list."
   ]
  },
  {
   "cell_type": "code",
   "execution_count": 67,
   "metadata": {},
   "outputs": [
    {
     "data": {
      "text/plain": [
       "'b = 10\\nmy_list = range(b)\\nprint my_list'"
      ]
     },
     "execution_count": 67,
     "metadata": {},
     "output_type": "execute_result"
    }
   ],
   "source": [
    "\"\"\"b = 10\n",
    "my_list = range(b)\n",
    "print my_list\"\"\""
   ]
  },
  {
   "cell_type": "markdown",
   "metadata": {},
   "source": [
    "Similar to our list-slicing methods from before, we can define both a start and an end for our range. This will return a list that is includes the start and excludes the end, just like a slice."
   ]
  },
  {
   "cell_type": "code",
   "execution_count": 68,
   "metadata": {},
   "outputs": [
    {
     "data": {
      "text/plain": [
       "'a = 0\\nb = 10\\nmy_list = range(a, b)\\nprint my_list'"
      ]
     },
     "execution_count": 68,
     "metadata": {},
     "output_type": "execute_result"
    }
   ],
   "source": [
    "\"\"\"a = 0\n",
    "b = 10\n",
    "my_list = range(a, b)\n",
    "print my_list\"\"\""
   ]
  },
  {
   "cell_type": "markdown",
   "metadata": {},
   "source": [
    "We can also specify a step size. This again has the same behavior as a slice."
   ]
  },
  {
   "cell_type": "code",
   "execution_count": 69,
   "metadata": {
    "scrolled": true
   },
   "outputs": [
    {
     "data": {
      "text/plain": [
       "'a = 0\\nb = 10\\nstep = 2\\nmy_list = range(a, b, step)\\nprint my_list'"
      ]
     },
     "execution_count": 69,
     "metadata": {},
     "output_type": "execute_result"
    }
   ],
   "source": [
    "\"\"\"a = 0\n",
    "b = 10\n",
    "step = 2\n",
    "my_list = range(a, b, step)\n",
    "print my_list\"\"\""
   ]
  },
  {
   "cell_type": "code",
   "execution_count": 70,
   "metadata": {},
   "outputs": [
    {
     "name": "stdout",
     "output_type": "stream",
     "text": [
      "range(10)=  [0, 1, 2, 3, 4, 5, 6, 7, 8, 9]\n",
      "range(3,15)=  [3, 4, 5, 6, 7, 8, 9, 10, 11, 12, 13, 14]\n",
      "range(3,15,3)=  [3, 6, 9, 12]\n"
     ]
    }
   ],
   "source": [
    "#se pueden usar funciones de python para que se genere la lista\n",
    "una_lista=list(range(10))\n",
    "print \"range(10)= \", una_lista\n",
    "\n",
    "#y ademas, seleccionar los rangos para   la lista\n",
    "una_lista=list(range(3,15))\n",
    "print \"range(3,15)= \", una_lista\n",
    "\n",
    "#por ultimo, se puede especificar la distancia entre los numeros, o mas conocidos como pasos\n",
    "una_lista=list(range(3,15,3))\n",
    "print \"range(3,15,3)= \", una_lista"
   ]
  },
  {
   "cell_type": "markdown",
   "metadata": {},
   "source": [
    "### Tuples\n",
    "\n",
    "A `tuple` is a data type similar to a list in that it can hold different kinds of data types. The key difference here is that a `tuple` is immutable. We define a `tuple` by separating the elements we want to include by commas. It is conventional to surround a `tuple` with parentheses."
   ]
  },
  {
   "cell_type": "code",
   "execution_count": 71,
   "metadata": {},
   "outputs": [
    {
     "data": {
      "text/plain": [
       "\"my_tuple = 'I', 'have', 30, 'cats'\\nprint my_tuple\""
      ]
     },
     "execution_count": 71,
     "metadata": {},
     "output_type": "execute_result"
    }
   ],
   "source": [
    "\"\"\"my_tuple = 'I', 'have', 30, 'cats'\n",
    "print my_tuple\"\"\""
   ]
  },
  {
   "cell_type": "code",
   "execution_count": 72,
   "metadata": {},
   "outputs": [
    {
     "data": {
      "text/plain": [
       "\"my_tuple = ('I', 'have', 30, 'cats')\\nprint my_tuple\""
      ]
     },
     "execution_count": 72,
     "metadata": {},
     "output_type": "execute_result"
    }
   ],
   "source": [
    "\"\"\"my_tuple = ('I', 'have', 30, 'cats')\n",
    "print my_tuple\"\"\""
   ]
  },
  {
   "cell_type": "code",
   "execution_count": 73,
   "metadata": {},
   "outputs": [
    {
     "name": "stdout",
     "output_type": "stream",
     "text": [
      "(0, 1, 2, 3, 4, 5, 6, 7, 8, 9, 10, 11, 12, 13, 14, 15, 16, 17, 18, 19)\n",
      "(1, 2, 3, 4, 5, 6)\n"
     ]
    }
   ],
   "source": [
    "#las tuplas son inmutables, ademas de eso, son iguales a las listas\n",
    "una_tupla=tuple(range(20))\n",
    "print una_tupla\n",
    "\n",
    "#y se suele especificar los datos entre parentesis\n",
    "una_tupla=(1,2,3,4,5,6)\n",
    "print una_tupla\n",
    "\n",
    "#al ser inmutables, no se puede cambiar dato por dato, si se intenta, generaria error"
   ]
  },
  {
   "cell_type": "markdown",
   "metadata": {},
   "source": [
    "As mentioned before, tuples are immutable. You can't change any part of them without defining a new tuple."
   ]
  },
  {
   "cell_type": "code",
   "execution_count": 74,
   "metadata": {},
   "outputs": [
    {
     "data": {
      "text/plain": [
       "\"my_tuple[3] = 'dogs' # Attempts to change the 'cats' value stored in the the tuple to 'dogs'\""
      ]
     },
     "execution_count": 74,
     "metadata": {},
     "output_type": "execute_result"
    }
   ],
   "source": [
    "\"\"\"my_tuple[3] = 'dogs' # Attempts to change the 'cats' value stored in the the tuple to 'dogs'\"\"\""
   ]
  },
  {
   "cell_type": "markdown",
   "metadata": {},
   "source": [
    "You can slice tuples the same way that you slice lists!"
   ]
  },
  {
   "cell_type": "code",
   "execution_count": 75,
   "metadata": {},
   "outputs": [
    {
     "data": {
      "text/plain": [
       "'print my_tuple[1:3]'"
      ]
     },
     "execution_count": 75,
     "metadata": {},
     "output_type": "execute_result"
    }
   ],
   "source": [
    "\"\"\"print my_tuple[1:3]\"\"\""
   ]
  },
  {
   "cell_type": "code",
   "execution_count": 76,
   "metadata": {},
   "outputs": [
    {
     "name": "stdout",
     "output_type": "stream",
     "text": [
      "(1, 3)\n"
     ]
    }
   ],
   "source": [
    "#como ya fue mencionado, funciona como una lista en el resto de cosas\n",
    "print una_tupla[:4:2]"
   ]
  },
  {
   "cell_type": "markdown",
   "metadata": {},
   "source": [
    "And concatenate them the way that you would with strings!"
   ]
  },
  {
   "cell_type": "code",
   "execution_count": 77,
   "metadata": {},
   "outputs": [
    {
     "data": {
      "text/plain": [
       "\"my_other_tuple = ('make', 'that', 50)\\nprint my_tuple + my_other_tuple\""
      ]
     },
     "execution_count": 77,
     "metadata": {},
     "output_type": "execute_result"
    }
   ],
   "source": [
    "\"\"\"my_other_tuple = ('make', 'that', 50)\n",
    "print my_tuple + my_other_tuple\"\"\""
   ]
  },
  {
   "cell_type": "code",
   "execution_count": 78,
   "metadata": {},
   "outputs": [
    {
     "name": "stdout",
     "output_type": "stream",
     "text": [
      "(1, 2, 3, 4, 5, 6, 'hola', 'adios', 'que tal')\n"
     ]
    }
   ],
   "source": [
    "#se pueden concatenar\n",
    "una_segunda_tupla=('hola','adios','que tal')\n",
    "print una_tupla+una_segunda_tupla"
   ]
  },
  {
   "cell_type": "markdown",
   "metadata": {},
   "source": [
    "We can 'pack' values together, creating a tuple (as above), or we can 'unpack' values from a tuple, taking them out."
   ]
  },
  {
   "cell_type": "code",
   "execution_count": 79,
   "metadata": {},
   "outputs": [
    {
     "data": {
      "text/plain": [
       "'str_1, str_2, int_1 = my_other_tuple\\nprint str_1, str_2, int_1'"
      ]
     },
     "execution_count": 79,
     "metadata": {},
     "output_type": "execute_result"
    }
   ],
   "source": [
    "\"\"\"str_1, str_2, int_1 = my_other_tuple\n",
    "print str_1, str_2, int_1\"\"\""
   ]
  },
  {
   "cell_type": "markdown",
   "metadata": {},
   "source": [
    "Unpacking assigns each value of the tuple in order to each variable on the left hand side of the equals sign. Some functions, including user-defined functions, may return tuples, so we can use this to directly unpack them and access the values that we want."
   ]
  },
  {
   "cell_type": "markdown",
   "metadata": {},
   "source": [
    "### Sets\n",
    "\n",
    "A `set` is a collection of unordered, unique elements. It works almost exactly as you would expect a normal set of things in mathematics to work and is defined using braces (`{}`)."
   ]
  },
  {
   "cell_type": "code",
   "execution_count": 80,
   "metadata": {},
   "outputs": [
    {
     "data": {
      "text/plain": [
       "\"things_i_like = {'dogs', 7, 'the number 4', 4, 4, 4, 42, 'lizards', 'man I just LOVE the number 4'}\\nprint things_i_like, type(things_i_like)\""
      ]
     },
     "execution_count": 80,
     "metadata": {},
     "output_type": "execute_result"
    }
   ],
   "source": [
    "\"\"\"things_i_like = {'dogs', 7, 'the number 4', 4, 4, 4, 42, 'lizards', 'man I just LOVE the number 4'}\n",
    "print things_i_like, type(things_i_like)\"\"\""
   ]
  },
  {
   "cell_type": "code",
   "execution_count": 81,
   "metadata": {},
   "outputs": [
    {
     "name": "stdout",
     "output_type": "stream",
     "text": [
      "<class 'set'>\n",
      "un_set={'hola',1,2,3,False,'algunas otras cosas',8,8,8,8}=  {False, 1, 2, 3, 'hola', 8, 'algunas otras cosas'}\n"
     ]
    }
   ],
   "source": [
    "#un set se selecciona entre llaves, y elimina cualquier dato repetido\n",
    "un_set={'hola',1,2,3,False,'algunas otras cosas',8,8,8,8}\n",
    "\n",
    "print type(un_set)\n",
    "\n",
    "print \"un_set={'hola',1,2,3,False,'algunas otras cosas',8,8,8,8}= \", un_set"
   ]
  },
  {
   "cell_type": "markdown",
   "metadata": {},
   "source": [
    "Note how any extra instances of the same item are removed in the final set. We can also create a `set` from a list, using the `set()` function."
   ]
  },
  {
   "cell_type": "code",
   "execution_count": 82,
   "metadata": {},
   "outputs": [
    {
     "data": {
      "text/plain": [
       "\"animal_list = ['cats', 'dogs', 'dogs', 'dogs', 'lizards', 'sponges', 'cows', 'bats', 'sponges']\\nanimal_set = set(animal_list)\\nprint animal_set # Removes all extra instances from the list\""
      ]
     },
     "execution_count": 82,
     "metadata": {},
     "output_type": "execute_result"
    }
   ],
   "source": [
    "\"\"\"animal_list = ['cats', 'dogs', 'dogs', 'dogs', 'lizards', 'sponges', 'cows', 'bats', 'sponges']\n",
    "animal_set = set(animal_list)\n",
    "print animal_set # Removes all extra instances from the list\"\"\""
   ]
  },
  {
   "cell_type": "markdown",
   "metadata": {},
   "source": [
    "Calling `len()` on a set will tell you how many elements are in it."
   ]
  },
  {
   "cell_type": "code",
   "execution_count": 83,
   "metadata": {},
   "outputs": [
    {
     "data": {
      "text/plain": [
       "'print len(animal_set)'"
      ]
     },
     "execution_count": 83,
     "metadata": {},
     "output_type": "execute_result"
    }
   ],
   "source": [
    "\"\"\"print len(animal_set)\"\"\""
   ]
  },
  {
   "cell_type": "markdown",
   "metadata": {},
   "source": [
    "Because a `set` is unordered, we can't access individual elements using an index. We can, however, easily check for membership (to see if something is contained in a set) and take the unions and intersections of sets by using the built-in set functions."
   ]
  },
  {
   "cell_type": "code",
   "execution_count": 84,
   "metadata": {},
   "outputs": [
    {
     "data": {
      "text/plain": [
       "\"'cats' in animal_set # Here we check for membership using the `in` keyword.\""
      ]
     },
     "execution_count": 84,
     "metadata": {},
     "output_type": "execute_result"
    }
   ],
   "source": [
    "\"\"\"'cats' in animal_set # Here we check for membership using the `in` keyword.\"\"\""
   ]
  },
  {
   "cell_type": "code",
   "execution_count": 85,
   "metadata": {},
   "outputs": [
    {
     "name": "stdout",
     "output_type": "stream",
     "text": [
      "7\n",
      "True\n"
     ]
    }
   ],
   "source": [
    "#tiene similitudes con las listas, como la funcion len\n",
    "print len(un_set)\n",
    "\n",
    "#pero al no ser una lista ordenada, y eliminar datos repetidos, no se puede acceder por posicion\n",
    "#pero si se puede revisar si existe un elemento dentro del set\n",
    "\n",
    "print 'hola' in un_set"
   ]
  },
  {
   "cell_type": "markdown",
   "metadata": {},
   "source": [
    "Here we checked to see whether the string 'cats' was contained within our `animal_set` and it returned `True`, telling us that it is indeed in our set.\n",
    "\n",
    "We can connect sets by using typical mathematical set operators, namely `|`, for union, and `&`, for intersection. Using `|` or `&` will return exactly what you would expect if you are familiar with sets in mathematics."
   ]
  },
  {
   "cell_type": "code",
   "execution_count": 86,
   "metadata": {},
   "outputs": [
    {
     "data": {
      "text/plain": [
       "'print animal_set | things_i_like # You can also write things_i_like | animal_set with no difference'"
      ]
     },
     "execution_count": 86,
     "metadata": {},
     "output_type": "execute_result"
    }
   ],
   "source": [
    "\"\"\"print animal_set | things_i_like # You can also write things_i_like | animal_set with no difference\"\"\""
   ]
  },
  {
   "cell_type": "markdown",
   "metadata": {},
   "source": [
    "Pairing two sets together with `|` combines the sets, removing any repetitions to make every set element unique."
   ]
  },
  {
   "cell_type": "code",
   "execution_count": 87,
   "metadata": {},
   "outputs": [
    {
     "data": {
      "text/plain": [
       "'print animal_set & things_i_like # You can also write things_i_like & animal_set with no difference'"
      ]
     },
     "execution_count": 87,
     "metadata": {},
     "output_type": "execute_result"
    }
   ],
   "source": [
    "\"\"\"print animal_set & things_i_like # You can also write things_i_like & animal_set with no difference\"\"\""
   ]
  },
  {
   "cell_type": "code",
   "execution_count": 88,
   "metadata": {},
   "outputs": [
    {
     "name": "stdout",
     "output_type": "stream",
     "text": [
      "union=  {False, 1, 2, 3, 'ahdhfakjhdgsfheh', 4, 'hola', 6, 8, 'algunas otras cosas'}\n",
      "interseccion=  {1, 2}\n"
     ]
    }
   ],
   "source": [
    "#ya que los set funcionan como conjuntos, poseen unas cuantas funciones de estos\n",
    "#\"|\" sirve como funcion de union y \"&\" como interseccion\n",
    "un_segundo_set={1,2,4,6,'ahdhfakjhdgsfheh'}\n",
    "print \"union= \", un_set|un_segundo_set\n",
    "\n",
    "print \"interseccion= \", un_set&un_segundo_set"
   ]
  },
  {
   "cell_type": "markdown",
   "metadata": {},
   "source": [
    "Pairing two sets together with `&` will calculate the intersection of both sets, returning a set that only contains what they have in common.\n",
    "\n",
    "If you are interested in learning more about the built-in functions for sets, feel free to check out the [documentation](https://docs.python.org/2/library/sets.html)."
   ]
  },
  {
   "cell_type": "markdown",
   "metadata": {},
   "source": [
    "### Dictionaries\n",
    "\n",
    "Another essential data structure in Python is the dictionary. Dictionaries are defined with a combination of curly braces (`{}`) and colons (`:`). The braces define the beginning and end of a dictionary and the colons indicate key-value pairs. A dictionary is essentially a set of key-value pairs. The key of any entry must be an immutable data type. This makes both strings and tuples candidates. Keys can be both added and deleted.\n",
    "\n",
    "In the following example, we have a dictionary composed of key-value pairs where the key is a genre of fiction (`string`) and the value is a list of books (`list`) within that genre. Since a collection is still considered a single entity, we can use one to collect multiple variables or values into one key-value pair."
   ]
  },
  {
   "cell_type": "code",
   "execution_count": 89,
   "metadata": {},
   "outputs": [
    {
     "data": {
      "text/plain": [
       "'my_dict = {\"High Fantasy\": [\"Wheel of Time\", \"Lord of the Rings\"], \\n           \"Sci-fi\": [\"Book of the New Sun\", \"Neuromancer\", \"Snow Crash\"],\\n           \"Weird Fiction\": [\"At the Mountains of Madness\", \"The House on the Borderland\"]}'"
      ]
     },
     "execution_count": 89,
     "metadata": {},
     "output_type": "execute_result"
    }
   ],
   "source": [
    "\"\"\"my_dict = {\"High Fantasy\": [\"Wheel of Time\", \"Lord of the Rings\"], \n",
    "           \"Sci-fi\": [\"Book of the New Sun\", \"Neuromancer\", \"Snow Crash\"],\n",
    "           \"Weird Fiction\": [\"At the Mountains of Madness\", \"The House on the Borderland\"]}\"\"\""
   ]
  },
  {
   "cell_type": "markdown",
   "metadata": {},
   "source": [
    "After defining a dictionary, we can access any individual value by indicating its key in brackets."
   ]
  },
  {
   "cell_type": "code",
   "execution_count": 90,
   "metadata": {},
   "outputs": [
    {
     "data": {
      "text/plain": [
       "'print my_dict[\"Sci-fi\"]'"
      ]
     },
     "execution_count": 90,
     "metadata": {},
     "output_type": "execute_result"
    }
   ],
   "source": [
    "\"\"\"print my_dict[\"Sci-fi\"]\"\"\""
   ]
  },
  {
   "cell_type": "code",
   "execution_count": 91,
   "metadata": {},
   "outputs": [
    {
     "name": "stdout",
     "output_type": "stream",
     "text": [
      "[1, 3]\n"
     ]
    }
   ],
   "source": [
    "diccionario={'hola mundo':[1,3],'adios':[False,True]}\n",
    "\n",
    "#se puede acceder a cualquier valor del diccionario especificando su llave\n",
    "print diccionario['hola mundo']"
   ]
  },
  {
   "cell_type": "markdown",
   "metadata": {},
   "source": [
    "We can also change the value associated with a given key"
   ]
  },
  {
   "cell_type": "code",
   "execution_count": 92,
   "metadata": {},
   "outputs": [
    {
     "data": {
      "text/plain": [
       "'my_dict[\"Sci-fi\"] = \"I can\\'t read\"\\nprint my_dict[\"Sci-fi\"]'"
      ]
     },
     "execution_count": 92,
     "metadata": {},
     "output_type": "execute_result"
    }
   ],
   "source": [
    "\"\"\"my_dict[\"Sci-fi\"] = \"I can't read\"\n",
    "print my_dict[\"Sci-fi\"]\"\"\""
   ]
  },
  {
   "cell_type": "markdown",
   "metadata": {},
   "source": [
    "Adding a new key-value pair is as simple as defining it."
   ]
  },
  {
   "cell_type": "code",
   "execution_count": 93,
   "metadata": {},
   "outputs": [
    {
     "data": {
      "text/plain": [
       "'my_dict[\"Historical Fiction\"] = [\"Pillars of the Earth\"]\\nprint my_dict[\"Historical Fiction\"]'"
      ]
     },
     "execution_count": 93,
     "metadata": {},
     "output_type": "execute_result"
    }
   ],
   "source": [
    "\"\"\"my_dict[\"Historical Fiction\"] = [\"Pillars of the Earth\"]\n",
    "print my_dict[\"Historical Fiction\"]\"\"\""
   ]
  },
  {
   "cell_type": "code",
   "execution_count": 94,
   "metadata": {},
   "outputs": [
    {
     "data": {
      "text/plain": [
       "'print my_dict'"
      ]
     },
     "execution_count": 94,
     "metadata": {},
     "output_type": "execute_result"
    }
   ],
   "source": [
    "\"\"\"print my_dict\"\"\""
   ]
  },
  {
   "cell_type": "code",
   "execution_count": 95,
   "metadata": {},
   "outputs": [
    {
     "name": "stdout",
     "output_type": "stream",
     "text": [
      "['hola', 'que tal']\n",
      "[False, False, False]\n",
      "{'si cierto': [False, False, False], 'adios': [False, True], 'hola mundo': ['hola', 'que tal']}\n"
     ]
    }
   ],
   "source": [
    "#se puede cambiar los items asociados a un key especificandole los nuevos datos\n",
    "diccionario['hola mundo']=['hola','que tal']\n",
    "print diccionario['hola mundo']\n",
    "#aunque si no existe la llave, la misma operacion creara una llave nueva\n",
    "diccionario['si cierto']=[False,False,False]\n",
    "print diccionario['si cierto']\n",
    "\n",
    "print diccionario"
   ]
  },
  {
   "cell_type": "markdown",
   "metadata": {},
   "source": [
    "## String Shenanigans\n",
    "\n",
    "We already know that strings are generally used for text. We can used built-in operations to combine, split, and format strings easily, depending on our needs.\n",
    "\n",
    "The `+` symbol indicates concatenation in string language. It will combine two strings into a longer string."
   ]
  },
  {
   "cell_type": "code",
   "execution_count": 96,
   "metadata": {},
   "outputs": [
    {
     "data": {
      "text/plain": [
       "'first_string = \\'\"Beware the Jabberwock, my son! /The jaws that bite, the claws that catch! /\\'\\nsecond_string = \\'Beware the Jubjub bird, and shun /The frumious Bandersnatch!\"/\\'\\nthird_string = first_string + second_string\\nprint third_string'"
      ]
     },
     "execution_count": 96,
     "metadata": {},
     "output_type": "execute_result"
    }
   ],
   "source": [
    "\"\"\"first_string = '\"Beware the Jabberwock, my son! /The jaws that bite, the claws that catch! /'\n",
    "second_string = 'Beware the Jubjub bird, and shun /The frumious Bandersnatch!\"/'\n",
    "third_string = first_string + second_string\n",
    "print third_string\"\"\""
   ]
  },
  {
   "cell_type": "code",
   "execution_count": 97,
   "metadata": {},
   "outputs": [
    {
     "name": "stdout",
     "output_type": "stream",
     "text": [
      "que tal esta todo por afuera, muy bien muchas gracias\n",
      "que tal esta todo por afuera, muy bien muchas gracias\n"
     ]
    }
   ],
   "source": [
    "#Los strings se pueden concatenar con el simbolo \"+\"\n",
    "primer_string=\"que tal esta todo por afuera, \"\n",
    "segundo_string=\"muy bien muchas gracias\"\n",
    "\n",
    "print primer_string+segundo_string\n",
    "\n",
    "resultado_string=primer_string+segundo_string\n",
    "print resultado_string"
   ]
  },
  {
   "cell_type": "markdown",
   "metadata": {},
   "source": [
    "Strings are also indexed much in the same way that lists are."
   ]
  },
  {
   "cell_type": "code",
   "execution_count": 98,
   "metadata": {},
   "outputs": [
    {
     "data": {
      "text/plain": [
       "\"my_string = 'Supercalifragilisticexpialidocious'\\nprint 'The first letter is: ', my_string[0] # Uppercase S\\nprint 'The last letter is: ', my_string[-1] # lowercase s\\nprint 'The second to last letter is: ', my_string[-2] # lowercase u\\nprint 'The first five characters are: ', my_string[0:5] # Remember: slicing doesn't include the final element!\\nprint 'Reverse it!: ', my_string[::-1]\""
      ]
     },
     "execution_count": 98,
     "metadata": {},
     "output_type": "execute_result"
    }
   ],
   "source": [
    "\"\"\"my_string = 'Supercalifragilisticexpialidocious'\n",
    "print 'The first letter is: ', my_string[0] # Uppercase S\n",
    "print 'The last letter is: ', my_string[-1] # lowercase s\n",
    "print 'The second to last letter is: ', my_string[-2] # lowercase u\n",
    "print 'The first five characters are: ', my_string[0:5] # Remember: slicing doesn't include the final element!\n",
    "print 'Reverse it!: ', my_string[::-1]\"\"\""
   ]
  },
  {
   "cell_type": "code",
   "execution_count": 99,
   "metadata": {},
   "outputs": [
    {
     "name": "stdout",
     "output_type": "stream",
     "text": [
      "letra del medio:  l\n",
      "salteando de 2 en 2:  qeatd\n"
     ]
    }
   ],
   "source": [
    "#los strings son inmutables pero si puede obtenerse el varacter o caracter en alguna posicion\n",
    "hola='quetaltodo'\n",
    "print \"letra del medio: \",hola [int(len(hola)/2)]\n",
    "print \"salteando de 2 en 2: \", hola[::2]"
   ]
  },
  {
   "cell_type": "markdown",
   "metadata": {},
   "source": [
    "Built-in objects and classes often have special functions associated with them that are called methods. We access these methods by using a period ('.'). We will cover objects and their associated methods more in another lecture!\n",
    "\n",
    "Using string methods we can count instances of a character or group of characters."
   ]
  },
  {
   "cell_type": "code",
   "execution_count": 100,
   "metadata": {
    "scrolled": true
   },
   "outputs": [
    {
     "data": {
      "text/plain": [
       "'print \\'Count of the letter i in Supercalifragilisticexpialidocious: \\', my_string.count(\\'i\\')\\nprint \\'Count of \"li\" in the same word: \\', my_string.count(\\'li\\')'"
      ]
     },
     "execution_count": 100,
     "metadata": {},
     "output_type": "execute_result"
    }
   ],
   "source": [
    "\"\"\"print 'Count of the letter i in Supercalifragilisticexpialidocious: ', my_string.count('i')\n",
    "print 'Count of \"li\" in the same word: ', my_string.count('li')\"\"\""
   ]
  },
  {
   "cell_type": "code",
   "execution_count": 101,
   "metadata": {},
   "outputs": [
    {
     "name": "stdout",
     "output_type": "stream",
     "text": [
      "cantidad de 'tal' dentro del string:  4\n",
      "cantidad de 'la' dentro del string:  2\n"
     ]
    }
   ],
   "source": [
    "#Con .count se puede contar cuantas veces existe una subcadena en una cadena\n",
    "\n",
    "rep=\"tal que tal la talera talalera\"\n",
    "print \"cantidad de 'tal' dentro del string: \", rep.count(\"tal\")\n",
    "print \"cantidad de 'la' dentro del string: \", rep.count(\"la\")"
   ]
  },
  {
   "cell_type": "markdown",
   "metadata": {},
   "source": [
    "We can also find the first instance of a character or group of characters in a string."
   ]
  },
  {
   "cell_type": "code",
   "execution_count": 102,
   "metadata": {},
   "outputs": [
    {
     "data": {
      "text/plain": [
       "\"print 'The first time i appears is at index: ', my_string.find('i')\""
      ]
     },
     "execution_count": 102,
     "metadata": {},
     "output_type": "execute_result"
    }
   ],
   "source": [
    "\"\"\"print 'The first time i appears is at index: ', my_string.find('i')\"\"\""
   ]
  },
  {
   "cell_type": "markdown",
   "metadata": {},
   "source": [
    "As well as replace characters in a string."
   ]
  },
  {
   "cell_type": "code",
   "execution_count": 103,
   "metadata": {},
   "outputs": [
    {
     "data": {
      "text/plain": [
       "'print \"All i\\'s are now a\\'s: \", my_string.replace(\\'i\\', \\'a\\')'"
      ]
     },
     "execution_count": 103,
     "metadata": {},
     "output_type": "execute_result"
    }
   ],
   "source": [
    "\"\"\"print \"All i's are now a's: \", my_string.replace('i', 'a')\"\"\""
   ]
  },
  {
   "cell_type": "code",
   "execution_count": 104,
   "metadata": {},
   "outputs": [
    {
     "data": {
      "text/plain": [
       "'print \"It\\'s raining cats and dogs\".replace(\\'dogs\\', \\'more cats\\')'"
      ]
     },
     "execution_count": 104,
     "metadata": {},
     "output_type": "execute_result"
    }
   ],
   "source": [
    "\"\"\"print \"It's raining cats and dogs\".replace('dogs', 'more cats')\"\"\""
   ]
  },
  {
   "cell_type": "code",
   "execution_count": 105,
   "metadata": {},
   "outputs": [
    {
     "name": "stdout",
     "output_type": "stream",
     "text": [
      "0\n"
     ]
    },
    {
     "data": {
      "text/plain": [
       "'cal cual que cal cual ala cal cualera cal cuaalalera'"
      ]
     },
     "execution_count": 105,
     "metadata": {},
     "output_type": "execute_result"
    }
   ],
   "source": [
    "#podemos buscar la primera posicion de una subcadena\n",
    "print rep.find(\"tal\")\n",
    "\n",
    "#o reemplazar subcadenas\n",
    "rep=rep.replace(\"tal\",\"cal cual\")\n",
    "rep=rep.replace(\"la\",\"ala\")\n",
    "rep"
   ]
  },
  {
   "cell_type": "markdown",
   "metadata": {},
   "source": [
    "There are also some methods that are unique to strings. The function `upper()` will convert all characters in a string to uppercase, while `lower()` will convert all characters in a string to lowercase!"
   ]
  },
  {
   "cell_type": "code",
   "execution_count": 106,
   "metadata": {},
   "outputs": [
    {
     "data": {
      "text/plain": [
       "'my_string = \"I can\\'t hear you\"\\nprint my_string.upper()\\nmy_string = \"I said HELLO\"\\nprint my_string.lower()'"
      ]
     },
     "execution_count": 106,
     "metadata": {},
     "output_type": "execute_result"
    }
   ],
   "source": [
    "\"\"\"my_string = \"I can't hear you\"\n",
    "print my_string.upper()\n",
    "my_string = \"I said HELLO\"\n",
    "print my_string.lower()\"\"\""
   ]
  },
  {
   "cell_type": "markdown",
   "metadata": {},
   "source": [
    "### String Formatting\n",
    "\n",
    "Using the `format()` method we can add in variable values and generally format our strings."
   ]
  },
  {
   "cell_type": "code",
   "execution_count": 107,
   "metadata": {},
   "outputs": [
    {
     "data": {
      "text/plain": [
       "'my_string = \"{0} {1}\".format(\\'Marco\\', \\'Polo\\')\\nprint my_string'"
      ]
     },
     "execution_count": 107,
     "metadata": {},
     "output_type": "execute_result"
    }
   ],
   "source": [
    "\"\"\"my_string = \"{0} {1}\".format('Marco', 'Polo')\n",
    "print my_string\"\"\""
   ]
  },
  {
   "cell_type": "code",
   "execution_count": 108,
   "metadata": {},
   "outputs": [
    {
     "data": {
      "text/plain": [
       "'my_string = \"{1} {0}\".format(\\'Marco\\', \\'Polo\\')\\nprint my_string'"
      ]
     },
     "execution_count": 108,
     "metadata": {},
     "output_type": "execute_result"
    }
   ],
   "source": [
    "\"\"\"my_string = \"{1} {0}\".format('Marco', 'Polo')\n",
    "print my_string\"\"\""
   ]
  },
  {
   "cell_type": "code",
   "execution_count": 109,
   "metadata": {},
   "outputs": [
    {
     "name": "stdout",
     "output_type": "stream",
     "text": [
      "primer uso de format:  primero segundo tercero\n",
      "segundo uso de format:  tercero primero segundo\n"
     ]
    }
   ],
   "source": [
    "un_string=\"{0} {1} {2}\".format(\"primero\",\"segundo\",\"tercero\")\n",
    "\n",
    "print \"primer uso de format: \",un_string\n",
    "\n",
    "un_string=\"{2} {0} {1}\".format(\"primero\",\"segundo\",\"tercero\")\n",
    "print \"segundo uso de format: \", un_string"
   ]
  },
  {
   "cell_type": "markdown",
   "metadata": {},
   "source": [
    "We use braces (`{}`) to indicate parts of the string that will be filled in later and we use the arguments of the `format()` function to provide the values to substitute. The numbers within the braces indicate the index of the value in the `format()` arguments."
   ]
  },
  {
   "cell_type": "markdown",
   "metadata": {},
   "source": [
    "See the `format()` [documentation](https://docs.python.org/2/library/string.html#format-examples) for additional examples."
   ]
  },
  {
   "cell_type": "markdown",
   "metadata": {},
   "source": [
    "If you need some quick and dirty formatting, you can instead use the `%` symbol, called the string formatting operator. "
   ]
  },
  {
   "cell_type": "code",
   "execution_count": 110,
   "metadata": {},
   "outputs": [
    {
     "data": {
      "text/plain": [
       "\"print 'insert %s here' % 'value'\""
      ]
     },
     "execution_count": 110,
     "metadata": {},
     "output_type": "execute_result"
    }
   ],
   "source": [
    "\"\"\"print 'insert %s here' % 'value'\"\"\""
   ]
  },
  {
   "cell_type": "markdown",
   "metadata": {},
   "source": [
    "The `%` symbol basically cues Python to create a placeholder. Whatever character follows the `%` (in the string) indicates what sort of type the value put into the placeholder will have. This character is called a *conversion type*. Once the string has been closed, we need another `%` that will be followed by the values to insert. In the case of one value, you can just put it there. If you are inserting more than one value, they must be enclosed in a tuple."
   ]
  },
  {
   "cell_type": "code",
   "execution_count": 111,
   "metadata": {},
   "outputs": [
    {
     "data": {
      "text/plain": [
       "\"print 'There are %s cats in my %s' % (13, 'apartment')\""
      ]
     },
     "execution_count": 111,
     "metadata": {},
     "output_type": "execute_result"
    }
   ],
   "source": [
    "\"\"\"print 'There are %s cats in my %s' % (13, 'apartment')\"\"\""
   ]
  },
  {
   "cell_type": "code",
   "execution_count": 112,
   "metadata": {},
   "outputs": [
    {
     "name": "stdout",
     "output_type": "stream",
     "text": [
      "que tal hola estan todos\n",
      "no hay 15 humanos corriendo por aqui\n"
     ]
    }
   ],
   "source": [
    "#forma rapida de format\n",
    "un_string=\"que tal %s estan todos\" %\"hola\"\n",
    "print un_string\n",
    "\n",
    "#y se puede colocar mas de un valor para agregar\n",
    "un_string='no hay %s corriendo por %s' %(\"15 humanos\",\"aqui\")\n",
    "print un_string"
   ]
  },
  {
   "cell_type": "markdown",
   "metadata": {},
   "source": [
    "In these examples, the `%s` indicates that Python should convert the values into strings. There are multiple conversion types that you can use to get more specific with the the formatting. See the string formatting [documentation](https://docs.python.org/2/library/stdtypes.html#string-formatting) for additional examples and more complete details on use."
   ]
  },
  {
   "cell_type": "markdown",
   "metadata": {},
   "source": [
    "## Logical Operators\n",
    "### Basic Logic\n",
    "\n",
    "Logical operators deal with `boolean` values, as we briefly covered before. If you recall, a `bool` takes on one of two values, `True` or `False` (or $1$ or $0$). The basic logical statements that we can make are defined using the built-in comparators. These are `==` (equal), `!=` (not equal), `<` (less than), `>` (greater than), `<=` (less than or equal to), and `>=` (greater than or equal to)."
   ]
  },
  {
   "cell_type": "code",
   "execution_count": 113,
   "metadata": {},
   "outputs": [
    {
     "data": {
      "text/plain": [
       "'print 5 == 5'"
      ]
     },
     "execution_count": 113,
     "metadata": {},
     "output_type": "execute_result"
    }
   ],
   "source": [
    "\"\"\"print 5 == 5\"\"\""
   ]
  },
  {
   "cell_type": "code",
   "execution_count": 114,
   "metadata": {},
   "outputs": [
    {
     "data": {
      "text/plain": [
       "'print 5 > 5'"
      ]
     },
     "execution_count": 114,
     "metadata": {},
     "output_type": "execute_result"
    }
   ],
   "source": [
    "\"\"\"print 5 > 5\"\"\""
   ]
  },
  {
   "cell_type": "markdown",
   "metadata": {},
   "source": [
    "These comparators also work in conjunction with variables."
   ]
  },
  {
   "cell_type": "code",
   "execution_count": 115,
   "metadata": {},
   "outputs": [
    {
     "data": {
      "text/plain": [
       "'m = 2\\nn = 23\\nprint m < n'"
      ]
     },
     "execution_count": 115,
     "metadata": {},
     "output_type": "execute_result"
    }
   ],
   "source": [
    "\"\"\"m = 2\n",
    "n = 23\n",
    "print m < n\"\"\""
   ]
  },
  {
   "cell_type": "code",
   "execution_count": 116,
   "metadata": {},
   "outputs": [
    {
     "name": "stdout",
     "output_type": "stream",
     "text": [
      "comparando constantes:  True\n",
      "Comparando variables:  True\n"
     ]
    }
   ],
   "source": [
    "#operadores booleanos\n",
    "#se puede usar con valores constantes\n",
    "print \"comparando constantes: \", (28<33)==(38.99>1)\n",
    "\n",
    "#o variables\n",
    "x=True\n",
    "y=5\n",
    "\n",
    "print \"Comparando variables: \", (y<33 or x)"
   ]
  },
  {
   "cell_type": "markdown",
   "metadata": {},
   "source": [
    "We can string these comparators together to make more complex logical statements using the logical operators `or`, `and`, and `not`. "
   ]
  },
  {
   "cell_type": "code",
   "execution_count": 117,
   "metadata": {},
   "outputs": [
    {
     "data": {
      "text/plain": [
       "'statement_1 = 10 > 2\\nstatement_2 = 4 <= 6\\nprint \"Statement 1 truth value: {0}\".format(statement_1)\\nprint \"Statement 2 truth value: {0}\".format(statement_2)\\nprint \"Statement 1 and Statement 2: {0}\".format(statement_1 and statement_2)'"
      ]
     },
     "execution_count": 117,
     "metadata": {},
     "output_type": "execute_result"
    }
   ],
   "source": [
    "\"\"\"statement_1 = 10 > 2\n",
    "statement_2 = 4 <= 6\n",
    "print \"Statement 1 truth value: {0}\".format(statement_1)\n",
    "print \"Statement 2 truth value: {0}\".format(statement_2)\n",
    "print \"Statement 1 and Statement 2: {0}\".format(statement_1 and statement_2)\"\"\""
   ]
  },
  {
   "cell_type": "code",
   "execution_count": 118,
   "metadata": {},
   "outputs": [
    {
     "name": "stdout",
     "output_type": "stream",
     "text": [
      "ambos booleanos, el primero(True), y el segundo(False), operados con 'and'(False)\n"
     ]
    }
   ],
   "source": [
    "#usando format para juntar resultados booleanso en un Stirng\n",
    "bool_1=True or False\n",
    "bool_2=1>783\n",
    "\n",
    "print \"ambos booleanos, el primero({0}), y el segundo({1}), operados con 'and'({2})\".format(bool_1,bool_2,bool_1 and bool_2)"
   ]
  },
  {
   "cell_type": "markdown",
   "metadata": {},
   "source": [
    "The `or` operator performs a logical `or` calculation. This is an inclusive `or`, so if either component paired together by `or` is `True`, the whole statement will be `True`. The `and` statement only outputs `True` if all components that are `and`ed together are True. Otherwise it will output `False`. The `not` statement simply inverts the truth value of whichever statement follows it. So a `True` statement will be evaluated as `False` when a `not` is placed in front of it. Similarly, a `False` statement will become `True` when a `not` is in front of it.\n",
    "\n",
    "Say that we have two logical statements, or assertions, $P$ and $Q$. The truth table for the basic logical operators is as follows:\n",
    "\n",
    "|  P  |  Q  | `not` P| P `and` Q | P `or` Q|\n",
    "|:-----:|:-----:|:---:|:---:|:---:|\n",
    "| `True` | `True` | `False` | `True` | `True` |\n",
    "| `False` | `True` | `True` | `False` | `True` |\n",
    "| `True` | `False` | `False` | `False` | `True` |\n",
    "| `False` | `False` | `True` | `False` | `False` |\n",
    "\n",
    "We can string multiple logical statements together using the logical operators."
   ]
  },
  {
   "cell_type": "code",
   "execution_count": 119,
   "metadata": {},
   "outputs": [
    {
     "data": {
      "text/plain": [
       "'print ((2 < 3) and (3 > 0)) or ((5 > 6) and not (4 < 2))'"
      ]
     },
     "execution_count": 119,
     "metadata": {},
     "output_type": "execute_result"
    }
   ],
   "source": [
    "\"\"\"print ((2 < 3) and (3 > 0)) or ((5 > 6) and not (4 < 2))\"\"\""
   ]
  },
  {
   "cell_type": "markdown",
   "metadata": {},
   "source": [
    "Logical statements can be as simple or complex as we like, depending on what we need to express. Evaluating the above logical statement step by step we see that we are evaluating (`True and True`) `or` (`False and not False`). This becomes `True or (False and True`), subsequently becoming `True or False`, ultimately being evaluated as `True`."
   ]
  },
  {
   "cell_type": "markdown",
   "metadata": {},
   "source": [
    "#### Truthiness\n",
    "\n",
    "Data types in Python have a fun characteristic called truthiness. What this means is that most built-in types will evaluate as either `True` or `False` when a boolean value is needed (such as with an if-statement). As a general rule, containers like strings, tuples, dictionaries, lists, and sets, will return `True` if they contain anything at all and `False` if they contain nothing."
   ]
  },
  {
   "cell_type": "code",
   "execution_count": 120,
   "metadata": {},
   "outputs": [
    {
     "data": {
      "text/plain": [
       "\"# Similar to how float() and int() work, bool() forces a value to be considered a boolean!\\nprint bool('')\""
      ]
     },
     "execution_count": 120,
     "metadata": {},
     "output_type": "execute_result"
    }
   ],
   "source": [
    "\"\"\"# Similar to how float() and int() work, bool() forces a value to be considered a boolean!\n",
    "print bool('')\"\"\""
   ]
  },
  {
   "cell_type": "code",
   "execution_count": 121,
   "metadata": {},
   "outputs": [
    {
     "data": {
      "text/plain": [
       "\"print bool('I have character!')\""
      ]
     },
     "execution_count": 121,
     "metadata": {},
     "output_type": "execute_result"
    }
   ],
   "source": [
    "\"\"\"print bool('I have character!')\"\"\""
   ]
  },
  {
   "cell_type": "code",
   "execution_count": 122,
   "metadata": {},
   "outputs": [
    {
     "data": {
      "text/plain": [
       "'print bool([])'"
      ]
     },
     "execution_count": 122,
     "metadata": {},
     "output_type": "execute_result"
    }
   ],
   "source": [
    "\"\"\"print bool([])\"\"\""
   ]
  },
  {
   "cell_type": "code",
   "execution_count": 123,
   "metadata": {},
   "outputs": [
    {
     "data": {
      "text/plain": [
       "'print bool([1, 2, 3])'"
      ]
     },
     "execution_count": 123,
     "metadata": {},
     "output_type": "execute_result"
    }
   ],
   "source": [
    "\"\"\"print bool([1, 2, 3])\"\"\""
   ]
  },
  {
   "cell_type": "code",
   "execution_count": 124,
   "metadata": {},
   "outputs": [
    {
     "name": "stdout",
     "output_type": "stream",
     "text": [
      "Falsos\n",
      "False\n",
      "False\n",
      "False\n",
      "Verdaderos\n",
      "True\n",
      "True\n"
     ]
    }
   ],
   "source": [
    "#forzando el bool\n",
    "#no tener nada o un 0 es False, de resto es true \n",
    "print \"Falsos\"\n",
    "print bool(0)\n",
    "print bool('')\n",
    "print bool([])\n",
    "print \"Verdaderos\"\n",
    "print bool(1)\n",
    "print bool('hola mundo')"
   ]
  },
  {
   "cell_type": "markdown",
   "metadata": {},
   "source": [
    "And so on, for the other collections and containers. `None` also evaluates as `False`. The number `1` is equivalent to `True` and the number `0` is equivalent to `False` as well, in a boolean context."
   ]
  },
  {
   "cell_type": "markdown",
   "metadata": {},
   "source": [
    "### If-statements\n",
    "\n",
    "We can create segments of code that only execute if a set of conditions is met. We use if-statements in conjunction with logical statements in order to create branches in our code. \n",
    "\n",
    "An `if` block gets entered when the condition is considered to be `True`. If condition is evaluated as `False`, the `if` block will simply be skipped unless there is an `else` block to accompany it. Conditions are made using either logical operators or by using the truthiness of values in Python. An if-statement is defined with a colon and a block of indented text."
   ]
  },
  {
   "cell_type": "code",
   "execution_count": 125,
   "metadata": {},
   "outputs": [
    {
     "data": {
      "text/plain": [
       "'# This is the basic format of an if statement. This is a vacuous example. \\n# The string \"Condition\" will always evaluated as True because it is a\\n# non-empty string. he purpose of this code is to show the formatting of\\n# an if-statement.\\nif \"Condition\": \\n    # This block of code will execute because the string is non-empty\\n    # Everything on these indented lines\\n    print True\\nelse:\\n    # So if the condition that we examined with if is in fact False\\n    # This block of code will execute INSTEAD of the first block of code\\n    # Everything on these indented lines\\n    print False\\n# The else block here will never execute because \"Condition\" is a non-empty string.'"
      ]
     },
     "execution_count": 125,
     "metadata": {},
     "output_type": "execute_result"
    }
   ],
   "source": [
    "\"\"\"# This is the basic format of an if statement. This is a vacuous example. \n",
    "# The string \"Condition\" will always evaluated as True because it is a\n",
    "# non-empty string. he purpose of this code is to show the formatting of\n",
    "# an if-statement.\n",
    "if \"Condition\": \n",
    "    # This block of code will execute because the string is non-empty\n",
    "    # Everything on these indented lines\n",
    "    print True\n",
    "else:\n",
    "    # So if the condition that we examined with if is in fact False\n",
    "    # This block of code will execute INSTEAD of the first block of code\n",
    "    # Everything on these indented lines\n",
    "    print False\n",
    "# The else block here will never execute because \"Condition\" is a non-empty string.\"\"\""
   ]
  },
  {
   "cell_type": "code",
   "execution_count": 126,
   "metadata": {},
   "outputs": [
    {
     "data": {
      "text/plain": [
       "\"i = 4\\nif i == 5:\\n    print 'The variable i has a value of 5'\""
      ]
     },
     "execution_count": 126,
     "metadata": {},
     "output_type": "execute_result"
    }
   ],
   "source": [
    "\"\"\"i = 4\n",
    "if i == 5:\n",
    "    print 'The variable i has a value of 5'\"\"\""
   ]
  },
  {
   "cell_type": "code",
   "execution_count": 127,
   "metadata": {},
   "outputs": [
    {
     "name": "stdout",
     "output_type": "stream",
     "text": [
      "15 es mayor a 14\n"
     ]
    }
   ],
   "source": [
    "i=10\n",
    "if bool(1) and 15>14:\n",
    "    i=15\n",
    "print i, \"es mayor a 14\""
   ]
  },
  {
   "cell_type": "markdown",
   "metadata": {},
   "source": [
    "Because in this example `i = 4` and the if-statement is only looking for whether `i` is equal to `5`, the print statement will never be executed. We can add in an `else` statement to create a contingency block of code in case the condition in the if-statement is not evaluated as `True`."
   ]
  },
  {
   "cell_type": "code",
   "execution_count": 128,
   "metadata": {},
   "outputs": [
    {
     "data": {
      "text/plain": [
       "'i = 4\\nif i == 5:\\n    print \"All lines in this indented block are part of this block\"\\n    print \\'The variable i has a value of 5\\'\\nelse:\\n    print \"All lines in this indented block are part of this block\"\\n    print \\'The variable i is not equal to 5\\''"
      ]
     },
     "execution_count": 128,
     "metadata": {},
     "output_type": "execute_result"
    }
   ],
   "source": [
    "\"\"\"i = 4\n",
    "if i == 5:\n",
    "    print \"All lines in this indented block are part of this block\"\n",
    "    print 'The variable i has a value of 5'\n",
    "else:\n",
    "    print \"All lines in this indented block are part of this block\"\n",
    "    print 'The variable i is not equal to 5'\"\"\""
   ]
  },
  {
   "cell_type": "code",
   "execution_count": 129,
   "metadata": {},
   "outputs": [
    {
     "name": "stdout",
     "output_type": "stream",
     "text": [
      "23 es mayor a 14\n"
     ]
    }
   ],
   "source": [
    "i=23\n",
    "if i>13 and (i<34 or 12==12):\n",
    "    print \"23 es mayor a 14\"\n",
    "else:\n",
    "    print \"23 es menor a 14\""
   ]
  },
  {
   "cell_type": "markdown",
   "metadata": {},
   "source": [
    "We can implement other branches off of the same if-statement by using `elif`, an abbreviation of \"else if\". We can include as many `elifs` as we like until we have exhausted all the logical branches of a condition."
   ]
  },
  {
   "cell_type": "code",
   "execution_count": 130,
   "metadata": {},
   "outputs": [
    {
     "data": {
      "text/plain": [
       "'i = 1\\nif i == 1:\\n    print \\'The variable i has a value of 1\\'\\nelif i == 2:\\n    print \\'The variable i has a value of 2\\'\\nelif i == 3:\\n    print \\'The variable i has a value of 3\\'\\nelse:\\n    print \"I don\\'t care what i is\" '"
      ]
     },
     "execution_count": 130,
     "metadata": {},
     "output_type": "execute_result"
    }
   ],
   "source": [
    "\"\"\"i = 1\n",
    "if i == 1:\n",
    "    print 'The variable i has a value of 1'\n",
    "elif i == 2:\n",
    "    print 'The variable i has a value of 2'\n",
    "elif i == 3:\n",
    "    print 'The variable i has a value of 3'\n",
    "else:\n",
    "    print \"I don't care what i is\" \"\"\""
   ]
  },
  {
   "cell_type": "code",
   "execution_count": 131,
   "metadata": {},
   "outputs": [
    {
     "ename": "SyntaxError",
     "evalue": "invalid syntax (<ipython-input-131-209073605741>, line 5)",
     "output_type": "error",
     "traceback": [
      "\u001b[0;36m  File \u001b[0;32m\"<ipython-input-131-209073605741>\"\u001b[0;36m, line \u001b[0;32m5\u001b[0m\n\u001b[0;31m    elif i%13=0:\u001b[0m\n\u001b[0m             ^\u001b[0m\n\u001b[0;31mSyntaxError\u001b[0m\u001b[0;31m:\u001b[0m invalid syntax\n"
     ]
    }
   ],
   "source": [
    "i=14\n",
    "j=1\n",
    "if i==14:\n",
    "    j=2\n",
    "elif i%13=0:\n",
    "    j=3\n",
    "else:\n",
    "    j=4\n",
    "print \"el valor de j es: \", j"
   ]
  },
  {
   "cell_type": "markdown",
   "metadata": {},
   "source": [
    "You can also nest if-statements within if-statements to check for further conditions."
   ]
  },
  {
   "cell_type": "code",
   "execution_count": 132,
   "metadata": {},
   "outputs": [
    {
     "data": {
      "text/plain": [
       "\"i = 10\\nif i % 2 == 0:\\n    if i % 3 == 0:\\n        print 'i is divisible by both 2 and 3! Wow!'\\n    elif i % 5 == 0:\\n        print 'i is divisible by both 2 and 5! Wow!'\\n    else:\\n        print 'i is divisible by 2, but not 3 or 5. Meh.'\\nelse:\\n    print 'I guess that i is an odd number. Boring.'\""
      ]
     },
     "execution_count": 132,
     "metadata": {},
     "output_type": "execute_result"
    }
   ],
   "source": [
    "\"\"\"i = 10\n",
    "if i % 2 == 0:\n",
    "    if i % 3 == 0:\n",
    "        print 'i is divisible by both 2 and 3! Wow!'\n",
    "    elif i % 5 == 0:\n",
    "        print 'i is divisible by both 2 and 5! Wow!'\n",
    "    else:\n",
    "        print 'i is divisible by 2, but not 3 or 5. Meh.'\n",
    "else:\n",
    "    print 'I guess that i is an odd number. Boring.'\"\"\""
   ]
  },
  {
   "cell_type": "code",
   "execution_count": 133,
   "metadata": {},
   "outputs": [
    {
     "name": "stdout",
     "output_type": "stream",
     "text": [
      "hola, i es igual a 78\n"
     ]
    }
   ],
   "source": [
    "#if anidado\n",
    "i=78\n",
    "un_string='hola'\n",
    "if i==78:\n",
    "    if un_string=='hola':\n",
    "        print \"hola, i es igual a 78\"\n",
    "    else :\n",
    "        print \"i es igual a 78\"\n",
    "else:\n",
    "    if un_string=='hola':\n",
    "        print \"hola, i no es igual a 78\"\n",
    "    else:\n",
    "        print \"i no es igual a 78\""
   ]
  },
  {
   "cell_type": "markdown",
   "metadata": {},
   "source": [
    "Remember that we can group multiple conditions together by using the logical operators!"
   ]
  },
  {
   "cell_type": "code",
   "execution_count": 134,
   "metadata": {},
   "outputs": [
    {
     "data": {
      "text/plain": [
       "\"i = 5\\nj = 12\\nif i < 10 and j > 11:\\n    print '{0} is less than 10 and {1} is greater than 11! How novel and interesting!'.format(i, j)\""
      ]
     },
     "execution_count": 134,
     "metadata": {},
     "output_type": "execute_result"
    }
   ],
   "source": [
    "\"\"\"i = 5\n",
    "j = 12\n",
    "if i < 10 and j > 11:\n",
    "    print '{0} is less than 10 and {1} is greater than 11! How novel and interesting!'.format(i, j)\"\"\""
   ]
  },
  {
   "cell_type": "markdown",
   "metadata": {},
   "source": [
    "You can use the logical comparators to compare strings!"
   ]
  },
  {
   "cell_type": "code",
   "execution_count": 135,
   "metadata": {},
   "outputs": [
    {
     "data": {
      "text/plain": [
       "'my_string = \"Carthago delenda est\"\\nif my_string == \"Carthago delenda est\":\\n    print \\'And so it was! For the glory of Rome!\\'\\nelse:\\n    print \\'War elephants are TERRIFYING. I am staying home.\\''"
      ]
     },
     "execution_count": 135,
     "metadata": {},
     "output_type": "execute_result"
    }
   ],
   "source": [
    "\"\"\"my_string = \"Carthago delenda est\"\n",
    "if my_string == \"Carthago delenda est\":\n",
    "    print 'And so it was! For the glory of Rome!'\n",
    "else:\n",
    "    print 'War elephants are TERRIFYING. I am staying home.'\"\"\""
   ]
  },
  {
   "cell_type": "code",
   "execution_count": 136,
   "metadata": {},
   "outputs": [
    {
     "name": "stdout",
     "output_type": "stream",
     "text": [
      "i es igual a 8, por consiguiente 8%2 es 0\n"
     ]
    }
   ],
   "source": [
    "#se pueden usar expresiones booleanas mas comlejas para el if\n",
    "i=8\n",
    "un_string=\"que tal\"\n",
    "if i==8 and i%2==0 or i>7 :\n",
    "    print \"i es igual a 8, por consiguiente 8%2 es 0\"\n",
    "elif un_string=='que tal':\n",
    "    print 'i no es igual a 8'"
   ]
  },
  {
   "cell_type": "markdown",
   "metadata": {},
   "source": [
    "As with other data types, `==` will check for whether the two things on either side of it have the same value. In this case, we compare whether the value of the strings are the same. Using `>` or `<` or any of the other comparators is not quite so intuitive, however, so we will stay from using comparators with strings in this lecture. Comparators will examine the [lexicographical order](https://en.wikipedia.org/wiki/Lexicographical_order) of the strings, which might be a bit more in-depth than you might like."
   ]
  },
  {
   "cell_type": "markdown",
   "metadata": {},
   "source": [
    "Some built-in functions return a boolean value, so they can be used as conditions in an if-statement. User-defined functions can also be constructed so that they return a boolean value. This will be covered later with function definition!\n",
    "\n",
    "The `in` keyword is generally used to check membership of a value within another value. We can check memebership in the context of an if-statement and use it to output a truth value."
   ]
  },
  {
   "cell_type": "code",
   "execution_count": 137,
   "metadata": {},
   "outputs": [
    {
     "data": {
      "text/plain": [
       "\"if 'a' in my_string or 'e' in my_string:\\n    print 'Those are my favorite vowels!'\""
      ]
     },
     "execution_count": 137,
     "metadata": {},
     "output_type": "execute_result"
    }
   ],
   "source": [
    "\"\"\"if 'a' in my_string or 'e' in my_string:\n",
    "    print 'Those are my favorite vowels!'\"\"\""
   ]
  },
  {
   "cell_type": "code",
   "execution_count": 138,
   "metadata": {},
   "outputs": [
    {
     "name": "stdout",
     "output_type": "stream",
     "text": [
      "z no esta detro de  carro\n"
     ]
    }
   ],
   "source": [
    "un_string='carro'\n",
    "if 'z' in un_string:\n",
    "    print \"z esta dentro de \", un_string\n",
    "else:\n",
    "    print \"z no esta detro de \", un_string"
   ]
  },
  {
   "cell_type": "markdown",
   "metadata": {},
   "source": [
    "Here we use `in` to check whether the variable `my_string` contains any particular letters. We will later use `in` to iterate through lists!"
   ]
  },
  {
   "cell_type": "markdown",
   "metadata": {},
   "source": [
    "## Loop Structures\n",
    "\n",
    "Loop structures are one of the most important parts of programming. The `for` loop and the `while` loop provide a way to repeatedly run a block of code repeatedly. A `while` loop will iterate until a certain condition has been met. If at any point after an iteration that condition is no longer satisfied, the loop terminates. A `for` loop will iterate over a sequence of values and terminate when the sequence has ended. You can instead include conditions within the `for` loop to decide whether it should terminate early or you could simply let it run its course."
   ]
  },
  {
   "cell_type": "code",
   "execution_count": 139,
   "metadata": {},
   "outputs": [
    {
     "data": {
      "text/plain": [
       "\"i = 5\\nwhile i > 0: # We can write this as 'while i:' because 0 is False!\\n    i -= 1\\n    print 'I am looping! {0} more to go!'.format(i)\""
      ]
     },
     "execution_count": 139,
     "metadata": {},
     "output_type": "execute_result"
    }
   ],
   "source": [
    "\"\"\"i = 5\n",
    "while i > 0: # We can write this as 'while i:' because 0 is False!\n",
    "    i -= 1\n",
    "    print 'I am looping! {0} more to go!'.format(i)\"\"\""
   ]
  },
  {
   "cell_type": "code",
   "execution_count": 140,
   "metadata": {},
   "outputs": [
    {
     "name": "stdout",
     "output_type": "stream",
     "text": [
      "0\n",
      "2\n",
      "4\n",
      "6\n",
      "8\n",
      "10\n",
      "12\n",
      "14\n",
      "16\n",
      "18\n",
      "20\n",
      "22\n",
      "24\n"
     ]
    }
   ],
   "source": [
    "i=0\n",
    "while i<25:\n",
    "    print i\n",
    "    i+=2\n",
    "    "
   ]
  },
  {
   "cell_type": "markdown",
   "metadata": {},
   "source": [
    "\n",
    "With `while` loops we need to make sure that something actually changes from iteration to iteration so that that the loop actually terminates. In this case, we use the shorthand `i -= 1` (short for `i = i - 1`) so that the value of `i` gets smaller with each iteration. Eventually `i` will be reduced to `0`, rendering the condition `False` and exiting the loop."
   ]
  },
  {
   "cell_type": "markdown",
   "metadata": {},
   "source": [
    "A `for` loop iterates a set number of times, determined when you state the entry into the loop. In this case we are iterating over the list returned from `range()`. The `for` loop selects a value from the list, in order, and temporarily assigns the value of `i` to it so that operations can be performed with the value."
   ]
  },
  {
   "cell_type": "code",
   "execution_count": 141,
   "metadata": {},
   "outputs": [
    {
     "ename": "SyntaxError",
     "evalue": "invalid syntax (<ipython-input-141-9fee8be799d0>, line 2)",
     "output_type": "error",
     "traceback": [
      "\u001b[0;36m  File \u001b[0;32m\"<ipython-input-141-9fee8be799d0>\"\u001b[0;36m, line \u001b[0;32m2\u001b[0m\n\u001b[0;31m    print 'I am looping! I have looped {0} times!'.format(i + 1)\"\"\"\u001b[0m\n\u001b[0m                                                                   \n^\u001b[0m\n\u001b[0;31mSyntaxError\u001b[0m\u001b[0;31m:\u001b[0m invalid syntax\n"
     ]
    }
   ],
   "source": [
    "for \"\"\"i in range(5):\n",
    "    print 'I am looping! I have looped {0} times!'.format(i + 1)\"\"\""
   ]
  },
  {
   "cell_type": "code",
   "execution_count": 142,
   "metadata": {},
   "outputs": [
    {
     "name": "stdout",
     "output_type": "stream",
     "text": [
      "este numero es par:  0\n",
      "este numero es par:  2\n",
      "este numero es par:  4\n",
      "este numero es par:  6\n",
      "este numero es par:  8\n",
      "este numero es par:  10\n"
     ]
    }
   ],
   "source": [
    "for i in range(0,11,2):\n",
    "    print \"este numero es par: \",i"
   ]
  },
  {
   "cell_type": "markdown",
   "metadata": {},
   "source": [
    "Note that in this `for` loop we use the `in` keyword. Use of the `in` keyword is not limited to checking for membership as in the if-statement example. You can iterate over any collection with a `for` loop by using the `in` keyword.\n",
    "\n",
    "In this next example, we will iterate over a `set` because we want to check for containment and add to a new set."
   ]
  },
  {
   "cell_type": "code",
   "execution_count": 143,
   "metadata": {},
   "outputs": [
    {
     "data": {
      "text/plain": [
       "\"my_list = {'cats', 'dogs', 'lizards', 'cows', 'bats', 'sponges', 'humans'} # Lists all the animals in the world\\nmammal_list = {'cats', 'dogs', 'cows', 'bats', 'humans'} # Lists all the mammals in the world\\nmy_new_list = set()\\nfor animal in my_list:\\n    if animal in mammal_list:\\n        # This adds any animal that is both in my_list and mammal_list to my_new_list\\n        my_new_list.add(animal)\\n        \\nprint my_new_list\""
      ]
     },
     "execution_count": 143,
     "metadata": {},
     "output_type": "execute_result"
    }
   ],
   "source": [
    "\"\"\"my_list = {'cats', 'dogs', 'lizards', 'cows', 'bats', 'sponges', 'humans'} # Lists all the animals in the world\n",
    "mammal_list = {'cats', 'dogs', 'cows', 'bats', 'humans'} # Lists all the mammals in the world\n",
    "my_new_list = set()\n",
    "for animal in my_list:\n",
    "    if animal in mammal_list:\n",
    "        # This adds any animal that is both in my_list and mammal_list to my_new_list\n",
    "        my_new_list.add(animal)\n",
    "        \n",
    "print my_new_list\"\"\""
   ]
  },
  {
   "cell_type": "code",
   "execution_count": 144,
   "metadata": {},
   "outputs": [
    {
     "name": "stdout",
     "output_type": "stream",
     "text": [
      "{0, 24, 18, 12, 6}\n"
     ]
    }
   ],
   "source": [
    "primera_lista=list(range(0,25,2))\n",
    "segunda_lista=list(range(0,25,3))\n",
    "un_set=set()\n",
    "\n",
    "#usare esto para calcular los multiplos en comun de dos y de tres\n",
    "for number in segunda_lista:\n",
    "    if number in primera_lista:\n",
    "        un_set.add(number)\n",
    "\n",
    "print un_set"
   ]
  },
  {
   "cell_type": "markdown",
   "metadata": {},
   "source": [
    "There are two statements that are very helpful in dealing with both `for` and `while` loops. These are `break` and `continue`. If `break` is encountered at any point while a loop is executing, the loop will immediately end."
   ]
  },
  {
   "cell_type": "code",
   "execution_count": 145,
   "metadata": {},
   "outputs": [
    {
     "data": {
      "text/plain": [
       "'i = 10\\nwhile True:\\n    if i == 14:\\n        break\\n    i += 1 # This is shorthand for i = i + 1. It increments i with each iteration.\\n    print i'"
      ]
     },
     "execution_count": 145,
     "metadata": {},
     "output_type": "execute_result"
    }
   ],
   "source": [
    "\"\"\"i = 10\n",
    "while True:\n",
    "    if i == 14:\n",
    "        break\n",
    "    i += 1 # This is shorthand for i = i + 1. It increments i with each iteration.\n",
    "    print i\"\"\""
   ]
  },
  {
   "cell_type": "code",
   "execution_count": 146,
   "metadata": {},
   "outputs": [
    {
     "data": {
      "text/plain": [
       "'for i in range(5):\\n    if i == 2:\\n        break\\n    print i'"
      ]
     },
     "execution_count": 146,
     "metadata": {},
     "output_type": "execute_result"
    }
   ],
   "source": [
    "\"\"\"for i in range(5):\n",
    "    if i == 2:\n",
    "        break\n",
    "    print i\"\"\""
   ]
  },
  {
   "cell_type": "code",
   "execution_count": 147,
   "metadata": {},
   "outputs": [
    {
     "name": "stdout",
     "output_type": "stream",
     "text": [
      "Break en un for:  17\n",
      "Break en while:  2\n"
     ]
    }
   ],
   "source": [
    "j=0\n",
    "for i in range(20):\n",
    "    if i==18:\n",
    "        break\n",
    "    j=i\n",
    "print \"Break en un for: \", j\n",
    "\n",
    "while j>0:\n",
    "    if j==2:\n",
    "        break\n",
    "    j-=1\n",
    "print \"Break en while: \", j"
   ]
  },
  {
   "cell_type": "markdown",
   "metadata": {},
   "source": [
    "The `continue` statement will tell the loop to immediately end this iteration and continue onto the next iteration of the loop."
   ]
  },
  {
   "cell_type": "code",
   "execution_count": 148,
   "metadata": {},
   "outputs": [
    {
     "data": {
      "text/plain": [
       "'i = 0\\nwhile i < 5:\\n    i += 1\\n    if i == 3:\\n        continue\\n    print i'"
      ]
     },
     "execution_count": 148,
     "metadata": {},
     "output_type": "execute_result"
    }
   ],
   "source": [
    "\"\"\"i = 0\n",
    "while i < 5:\n",
    "    i += 1\n",
    "    if i == 3:\n",
    "        continue\n",
    "    print i\"\"\""
   ]
  },
  {
   "cell_type": "code",
   "execution_count": 149,
   "metadata": {},
   "outputs": [
    {
     "name": "stdout",
     "output_type": "stream",
     "text": [
      "1\n",
      "2\n",
      "4\n",
      "5\n",
      "7\n",
      "8\n"
     ]
    }
   ],
   "source": [
    "for i in range(10):\n",
    "    if i%3==0:\n",
    "        continue\n",
    "    print i"
   ]
  },
  {
   "cell_type": "markdown",
   "metadata": {},
   "source": [
    "This loop skips printing the number $3$ because of the `continue` statement that executes when we enter the if-statement. The code never sees the command to print the number $3$ because it has already moved to the next iteration. The `break` and `continue` statements are further tools to help you control the flow of your loops and, as a result, your code."
   ]
  },
  {
   "cell_type": "markdown",
   "metadata": {},
   "source": [
    "The variable that we use to iterate over a loop will retain its value when the loop exits. Similarly, any variables defined within the context of the loop will continue to exist outside of it."
   ]
  },
  {
   "cell_type": "code",
   "execution_count": 150,
   "metadata": {},
   "outputs": [
    {
     "data": {
      "text/plain": [
       "\"for i in range(5):\\n    loop_string = 'I transcend the loop!'\\n    print 'I am eternal! I am {0} and I exist everywhere!'.format(i)\\n\\nprint 'I persist! My value is {0}'.format(i)\\nprint loop_string\""
      ]
     },
     "execution_count": 150,
     "metadata": {},
     "output_type": "execute_result"
    }
   ],
   "source": [
    "\"\"\"for i in range(5):\n",
    "    loop_string = 'I transcend the loop!'\n",
    "    print 'I am eternal! I am {0} and I exist everywhere!'.format(i)\n",
    "\n",
    "print 'I persist! My value is {0}'.format(i)\n",
    "print loop_string\"\"\""
   ]
  },
  {
   "cell_type": "code",
   "execution_count": 151,
   "metadata": {},
   "outputs": [
    {
     "name": "stdout",
     "output_type": "stream",
     "text": [
      "primer valor de i, antes del loop:  0\n",
      "ultimo valor de i, desues del loop:  20\n"
     ]
    }
   ],
   "source": [
    "#los valores de las variable usadas en el for para iterar\n",
    "#existen tambien fuera del loop\n",
    "i=0\n",
    "print 'primer valor de i, antes del loop: ',i\n",
    "while True:\n",
    "    if i==20:\n",
    "        break\n",
    "    i+=1\n",
    "print 'ultimo valor de i, desues del loop: ', i"
   ]
  },
  {
   "cell_type": "markdown",
   "metadata": {},
   "source": [
    "We can also iterate over a dictionary!"
   ]
  },
  {
   "cell_type": "code",
   "execution_count": 152,
   "metadata": {},
   "outputs": [],
   "source": [
    "my_dict = {'firstname' : 'Inigo', 'lastname' : 'Montoya', 'nemesis' : 'Rugen'}"
   ]
  },
  {
   "cell_type": "code",
   "execution_count": 153,
   "metadata": {},
   "outputs": [
    {
     "data": {
      "text/plain": [
       "'for key in my_dict:\\n    print key'"
      ]
     },
     "execution_count": 153,
     "metadata": {},
     "output_type": "execute_result"
    }
   ],
   "source": [
    "\"\"\"for key in my_dict:\n",
    "    print key\"\"\""
   ]
  },
  {
   "cell_type": "code",
   "execution_count": 154,
   "metadata": {},
   "outputs": [
    {
     "name": "stdout",
     "output_type": "stream",
     "text": [
      "nemesis\n",
      "1\n",
      "firstname\n"
     ]
    }
   ],
   "source": [
    "i=0\n",
    "for key in my_dict:\n",
    "    if i%2==0:\n",
    "        print key\n",
    "    else:\n",
    "        print i\n",
    "    i+=1"
   ]
  },
  {
   "cell_type": "markdown",
   "metadata": {},
   "source": [
    "If we just iterate over a dictionary without doing anything else, we will only get the keys. We can either use the keys to get the values, like so:"
   ]
  },
  {
   "cell_type": "code",
   "execution_count": 155,
   "metadata": {},
   "outputs": [
    {
     "data": {
      "text/plain": [
       "'for key in my_dict:\\n    print my_dict[key]'"
      ]
     },
     "execution_count": 155,
     "metadata": {},
     "output_type": "execute_result"
    }
   ],
   "source": [
    "\"\"\"for key in my_dict:\n",
    "    print my_dict[key]\"\"\""
   ]
  },
  {
   "cell_type": "code",
   "execution_count": 156,
   "metadata": {},
   "outputs": [
    {
     "name": "stdout",
     "output_type": "stream",
     "text": [
      "Rugen\n",
      "1\n",
      "Inigo\n"
     ]
    }
   ],
   "source": [
    "i=0\n",
    "for key in my_dict:\n",
    "    if i%2==0:\n",
    "        print my_dict[key]\n",
    "    else:\n",
    "        print i\n",
    "    i+=1"
   ]
  },
  {
   "cell_type": "markdown",
   "metadata": {},
   "source": [
    "Or we can use the `items()` function to get both key and value at the same time."
   ]
  },
  {
   "cell_type": "code",
   "execution_count": 157,
   "metadata": {},
   "outputs": [
    {
     "data": {
      "text/plain": [
       "\"for key, value in my_dict.items():\\n    print key, ':', value\""
      ]
     },
     "execution_count": 157,
     "metadata": {},
     "output_type": "execute_result"
    }
   ],
   "source": [
    "\"\"\"for key, value in my_dict.items():\n",
    "    print key, ':', value\"\"\""
   ]
  },
  {
   "cell_type": "code",
   "execution_count": 158,
   "metadata": {},
   "outputs": [
    {
     "name": "stdout",
     "output_type": "stream",
     "text": [
      "nemesis / Rugen\n",
      "1\n",
      "firstname / Inigo\n"
     ]
    }
   ],
   "source": [
    "i=0\n",
    "for key,val in my_dict.items():\n",
    "    if i%2==0:\n",
    "        print key,\"/\", val\n",
    "    else:\n",
    "        print i\n",
    "    i+=1"
   ]
  },
  {
   "cell_type": "markdown",
   "metadata": {},
   "source": [
    "The `items()` function creates a tuple of each key-value pair and the for loop unpacks that tuple into `key, value` on each separate execution of the loop!"
   ]
  },
  {
   "cell_type": "markdown",
   "metadata": {},
   "source": [
    "## Functions\n",
    "\n",
    "A function is a reusable block of code that you can call repeatedly to make calculations, output data, or really do anything that you want. This is one of the key aspects of using a programming language. To add to the built-in functions in Python, you can define your own!"
   ]
  },
  {
   "cell_type": "code",
   "execution_count": 159,
   "metadata": {},
   "outputs": [
    {
     "data": {
      "text/plain": [
       "\"def hello_world():\\n    \\n    print 'Hello, world!'\\n\\nhello_world()\""
      ]
     },
     "execution_count": 159,
     "metadata": {},
     "output_type": "execute_result"
    }
   ],
   "source": [
    "\"\"\"def hello_world():\n",
    "    \n",
    "    print 'Hello, world!'\n",
    "\n",
    "hello_world()\"\"\""
   ]
  },
  {
   "cell_type": "code",
   "execution_count": 160,
   "metadata": {},
   "outputs": [
    {
     "data": {
      "text/plain": [
       "'for i in range(5):\\n    hello_world()'"
      ]
     },
     "execution_count": 160,
     "metadata": {},
     "output_type": "execute_result"
    }
   ],
   "source": [
    "\"\"\"for i in range(5):\n",
    "    hello_world()\"\"\""
   ]
  },
  {
   "cell_type": "code",
   "execution_count": 161,
   "metadata": {},
   "outputs": [
    {
     "name": "stdout",
     "output_type": "stream",
     "text": [
      "hola usuario numero 1, que tal estas?\n",
      "hola usuario numero 2, que tal estas?\n",
      "hola usuario numero 3, que tal estas?\n",
      "hola usuario numero 4, que tal estas?\n",
      "hola usuario numero 5, que tal estas?\n",
      "hola usuario numero 6, que tal estas?\n",
      "hola usuario numero 7, que tal estas?\n",
      "hola usuario numero 8, que tal estas?\n",
      "hola usuario numero 9, que tal estas?\n",
      "hola usuario numero 10, que tal estas?\n",
      "hola usuario numero 11, que tal estas?\n",
      "hola usuario numero 12, que tal estas?\n",
      "hola usuario numero 13, que tal estas?\n",
      "hola usuario numero 14, que tal estas?\n",
      "hola usuario numero 15, que tal estas?\n",
      "hola usuario numero 16, que tal estas?\n",
      "hola usuario numero 17, que tal estas?\n",
      "hola usuario numero 18, que tal estas?\n",
      "hola usuario numero 19, que tal estas?\n",
      "hola usuario numero 20, que tal estas?\n"
     ]
    }
   ],
   "source": [
    "def hola_user(i):\n",
    "    print \"hola usuario numero {0}, que tal estas?\".format(i+1)\n",
    "\n",
    "for i in range(20):\n",
    "    hola_user(i)"
   ]
  },
  {
   "cell_type": "markdown",
   "metadata": {},
   "source": [
    "Functions are defined with `def`, a function name, a list of parameters, and a colon. Everything indented below the colon will be included in the definition of the function.\n",
    "\n",
    "We can have our functions do anything that you can do with a normal block of code. For example, our `hello_world()` function prints a string every time it is called. If we want to keep a value that a function calculates, we can define the function so that it will `return` the value we want. This is a very important feature of functions, as any variable defined purely within a function will not exist outside of it."
   ]
  },
  {
   "cell_type": "code",
   "execution_count": 162,
   "metadata": {},
   "outputs": [
    {
     "data": {
      "text/plain": [
       "'def see_the_scope():\\n    in_function_string = \"I\\'m stuck in here!\"\\n\\nsee_the_scope()\\nprint in_function_string'"
      ]
     },
     "execution_count": 162,
     "metadata": {},
     "output_type": "execute_result"
    }
   ],
   "source": [
    "\"\"\"def see_the_scope():\n",
    "    in_function_string = \"I'm stuck in here!\"\n",
    "\n",
    "see_the_scope()\n",
    "print in_function_string\"\"\""
   ]
  },
  {
   "cell_type": "code",
   "execution_count": 163,
   "metadata": {},
   "outputs": [
    {
     "data": {
      "text/plain": [
       "'def funct_error():\\n    hola=20\\nfunct_error()\\nprint hola'"
      ]
     },
     "execution_count": 163,
     "metadata": {},
     "output_type": "execute_result"
    }
   ],
   "source": [
    "#la variables declaradas dentro de una funcion solo existen dentro de ella\n",
    "#la siguiente funcion genera error\n",
    "\"\"\"def funct_error():\n",
    "    hola=20\n",
    "funct_error()\n",
    "print hola\"\"\""
   ]
  },
  {
   "cell_type": "markdown",
   "metadata": {},
   "source": [
    " The **scope** of a variable is the part of a block of code where that variable is tied to a particular value. Functions in Python have an enclosed scope, making it so that variables defined within them can only be accessed directly within them. If we pass those values to a return statement we can get them out of the function. This makes it so that the function call returns values so that you can store them in variables that have a greater scope.\n",
    " \n",
    "In this case specifically, including a return statement allows us to keep the string value that we define in the function."
   ]
  },
  {
   "cell_type": "code",
   "execution_count": 164,
   "metadata": {},
   "outputs": [
    {
     "data": {
      "text/plain": [
       "'def free_the_scope():\\n    in_function_string = \"Anything you can do I can do better!\"\\n    return in_function_string\\nmy_string = free_the_scope()\\nprint my_string'"
      ]
     },
     "execution_count": 164,
     "metadata": {},
     "output_type": "execute_result"
    }
   ],
   "source": [
    "\"\"\"def free_the_scope():\n",
    "    in_function_string = \"Anything you can do I can do better!\"\n",
    "    return in_function_string\n",
    "my_string = free_the_scope()\n",
    "print my_string\"\"\""
   ]
  },
  {
   "cell_type": "code",
   "execution_count": 165,
   "metadata": {},
   "outputs": [
    {
     "name": "stdout",
     "output_type": "stream",
     "text": [
      "hola mundo retornado\n"
     ]
    }
   ],
   "source": [
    "def retornar():\n",
    "    return \"hola mundo retornado\"\n",
    "un_string=retornar()\n",
    "print un_string"
   ]
  },
  {
   "cell_type": "markdown",
   "metadata": {},
   "source": [
    "Just as we can get values out of a function, we can also put values into a function. We do this by defining our function with parameters."
   ]
  },
  {
   "cell_type": "code",
   "execution_count": 166,
   "metadata": {},
   "outputs": [
    {
     "data": {
      "text/plain": [
       "'def multiply_by_five(x):\\n    \\n    return x * 5\\n\\nn = 4\\nprint n\\nprint multiply_by_five(n)'"
      ]
     },
     "execution_count": 166,
     "metadata": {},
     "output_type": "execute_result"
    }
   ],
   "source": [
    "\"\"\"def multiply_by_five(x):\n",
    "    \n",
    "    return x * 5\n",
    "\n",
    "n = 4\n",
    "print n\n",
    "print multiply_by_five(n)\"\"\""
   ]
  },
  {
   "cell_type": "code",
   "execution_count": 167,
   "metadata": {},
   "outputs": [
    {
     "name": "stdout",
     "output_type": "stream",
     "text": [
      "5 elevado a la 2:  25\n"
     ]
    }
   ],
   "source": [
    "def devolver(x):\n",
    "    return x**2\n",
    "\n",
    "print (\"5 elevado a la 2: \", devolver(5))"
   ]
  },
  {
   "cell_type": "markdown",
   "metadata": {},
   "source": [
    "In this example we only had one parameter for our function, `x`. We can easily add more parameters, separating everything with a comma."
   ]
  },
  {
   "cell_type": "code",
   "execution_count": 168,
   "metadata": {},
   "outputs": [
    {
     "data": {
      "text/plain": [
       "'def calculate_area(length, width):\\n   \\n    return length * width'"
      ]
     },
     "execution_count": 168,
     "metadata": {},
     "output_type": "execute_result"
    }
   ],
   "source": [
    "\"\"\"def calculate_area(length, width):\n",
    "   \n",
    "    return length * width\"\"\""
   ]
  },
  {
   "cell_type": "code",
   "execution_count": 169,
   "metadata": {},
   "outputs": [
    {
     "data": {
      "text/plain": [
       "\"l = 5\\nw = 10\\nprint 'Area: ', calculate_area(l, w)\\nprint 'Length: ', l\\nprint 'Width: ', w\""
      ]
     },
     "execution_count": 169,
     "metadata": {},
     "output_type": "execute_result"
    }
   ],
   "source": [
    "\"\"\"l = 5\n",
    "w = 10\n",
    "print 'Area: ', calculate_area(l, w)\n",
    "print 'Length: ', l\n",
    "print 'Width: ', w\"\"\""
   ]
  },
  {
   "cell_type": "code",
   "execution_count": 170,
   "metadata": {},
   "outputs": [
    {
     "data": {
      "text/plain": [
       "'def calculate_volume(length, width, depth):\\n    \\n    return length * width * depth'"
      ]
     },
     "execution_count": 170,
     "metadata": {},
     "output_type": "execute_result"
    }
   ],
   "source": [
    "\"\"\"def calculate_volume(length, width, depth):\n",
    "    \n",
    "    return length * width * depth\"\"\""
   ]
  },
  {
   "cell_type": "code",
   "execution_count": 171,
   "metadata": {},
   "outputs": [
    {
     "name": "stdout",
     "output_type": "stream",
     "text": [
      "2*4*6=  48\n"
     ]
    }
   ],
   "source": [
    "#las funciones pueden recibir tantos valores como le sean especificados\n",
    "def multiplicacion(x,y,z):\n",
    "    return x*y*z\n",
    "\n",
    "print (\"2*4*6= \", multiplicacion(2,4,6))"
   ]
  },
  {
   "cell_type": "markdown",
   "metadata": {},
   "source": [
    "If we want to, we can define a function so that it takes an arbitrary number of parameters. We tell Python that we want this by using an asterisk (`*`)."
   ]
  },
  {
   "cell_type": "code",
   "execution_count": 172,
   "metadata": {},
   "outputs": [
    {
     "data": {
      "text/plain": [
       "'def sum_values(*args):\\n    sum_val = 0\\n    for i in args:\\n        sum_val += i\\n    return sum_val'"
      ]
     },
     "execution_count": 172,
     "metadata": {},
     "output_type": "execute_result"
    }
   ],
   "source": [
    "\"\"\"def sum_values(*args):\n",
    "    sum_val = 0\n",
    "    for i in args:\n",
    "        sum_val += i\n",
    "    return sum_val\"\"\""
   ]
  },
  {
   "cell_type": "code",
   "execution_count": 173,
   "metadata": {},
   "outputs": [
    {
     "data": {
      "text/plain": [
       "'print sum_values(1, 2, 3)\\nprint sum_values(10, 20, 30, 40, 50)\\nprint sum_values(4, 2, 5, 1, 10, 249, 25, 24, 13, 6, 4)'"
      ]
     },
     "execution_count": 173,
     "metadata": {},
     "output_type": "execute_result"
    }
   ],
   "source": [
    "\"\"\"print sum_values(1, 2, 3)\n",
    "print sum_values(10, 20, 30, 40, 50)\n",
    "print sum_values(4, 2, 5, 1, 10, 249, 25, 24, 13, 6, 4)\"\"\""
   ]
  },
  {
   "cell_type": "code",
   "execution_count": 174,
   "metadata": {},
   "outputs": [
    {
     "name": "stdout",
     "output_type": "stream",
     "text": [
      "El factorial de 5 es: 120\n",
      "El factorial de 4 es: 24\n",
      "El factorial de 3 es: 6\n",
      "El factorial de 2 es: 2\n",
      "El factorial de 1 es: 1\n"
     ]
    }
   ],
   "source": [
    "def factorial(x):\n",
    "    if x==2 or x==1 or x==0:\n",
    "        return x\n",
    "    else:\n",
    "        return x*factorial(x-1)\n",
    "\n",
    "def varios_numeros(*args):\n",
    "    for val in args:\n",
    "        print (\"El factorial de {0} es:\".format(val), factorial(val))\n",
    "        \n",
    "varios_numeros(5,4,3,2,1)\n"
   ]
  },
  {
   "cell_type": "markdown",
   "metadata": {},
   "source": [
    "The time to use `*args` as a parameter for your function is when you do not know how many values may be passed to it, as in the case of our sum function. The asterisk in this case is the syntax that tells Python that you are going to pass an arbitrary number of parameters into your function. These parameters are stored in the form of a tuple."
   ]
  },
  {
   "cell_type": "code",
   "execution_count": 175,
   "metadata": {},
   "outputs": [
    {
     "data": {
      "text/plain": [
       "'def test_args(*args):\\n    print type(args)\\n\\ntest_args(1, 2, 3, 4, 5, 6)'"
      ]
     },
     "execution_count": 175,
     "metadata": {},
     "output_type": "execute_result"
    }
   ],
   "source": [
    "\"\"\"def test_args(*args):\n",
    "    print type(args)\n",
    "\n",
    "test_args(1, 2, 3, 4, 5, 6)\"\"\""
   ]
  },
  {
   "cell_type": "code",
   "execution_count": 176,
   "metadata": {},
   "outputs": [
    {
     "name": "stdout",
     "output_type": "stream",
     "text": [
      "el tipo del valor dado es:  <class 'tuple'>\n"
     ]
    }
   ],
   "source": [
    "def test_tipo(*args):\n",
    "    print(\"el tipo del valor dado es: \", type(args))\n",
    "\n",
    "test_tipo(100,200,\"hola mundo\")"
   ]
  },
  {
   "cell_type": "markdown",
   "metadata": {},
   "source": [
    "We can put as many elements into the `args` tuple as we want to when we call the function. However, because `args` is a tuple, we cannot modify it after it has been created.\n",
    "\n",
    "The `args` name of the variable is purely by convention. You could just as easily name your parameter `*vars` or `*things`. You can treat the `args` tuple like you would any other tuple, easily accessing `arg`'s values and iterating over it, as in the above `sum_values(*args)` function."
   ]
  },
  {
   "cell_type": "markdown",
   "metadata": {},
   "source": [
    "Our functions can return any data type. This makes it easy for us to create functions that check for conditions that we might want to monitor.\n",
    "\n",
    "Here we define a function that returns a boolean value. We can easily use this in conjunction with if-statements and  other situations that require a boolean."
   ]
  },
  {
   "cell_type": "code",
   "execution_count": 177,
   "metadata": {},
   "outputs": [
    {
     "data": {
      "text/plain": [
       "\"def has_a_vowel(word):\\n     \\n    Checks to see whether a word contains a vowel \\n    If it doesn't contain a conventional vowel, it\\n    will check for the presence of 'y' or 'w'. Does\\n    not check to see whether those are in the word\\n    in a vowel context.\\n    \\n    vowel_list = ['a', 'e', 'i', 'o', 'u']\\n    \\n    for vowel in vowel_list:\\n        if vowel in word:\\n            return True\\n    # If there is a vowel in the word, the function returns, preventing anything after this loop from running\\n    return False\""
      ]
     },
     "execution_count": 177,
     "metadata": {},
     "output_type": "execute_result"
    }
   ],
   "source": [
    "\"\"\"def has_a_vowel(word):\n",
    "     \n",
    "    Checks to see whether a word contains a vowel \n",
    "    If it doesn't contain a conventional vowel, it\n",
    "    will check for the presence of 'y' or 'w'. Does\n",
    "    not check to see whether those are in the word\n",
    "    in a vowel context.\n",
    "    \n",
    "    vowel_list = ['a', 'e', 'i', 'o', 'u']\n",
    "    \n",
    "    for vowel in vowel_list:\n",
    "        if vowel in word:\n",
    "            return True\n",
    "    # If there is a vowel in the word, the function returns, preventing anything after this loop from running\n",
    "    return False\"\"\""
   ]
  },
  {
   "cell_type": "code",
   "execution_count": 178,
   "metadata": {},
   "outputs": [
    {
     "data": {
      "text/plain": [
       "\"my_word = 'catnapping'\\nif has_a_vowel(my_word):\\n    print 'How surprising, an english word contains a vowel.'\\nelse:\\n    print 'This is actually surprising.'\""
      ]
     },
     "execution_count": 178,
     "metadata": {},
     "output_type": "execute_result"
    }
   ],
   "source": [
    "\"\"\"my_word = 'catnapping'\n",
    "if has_a_vowel(my_word):\n",
    "    print 'How surprising, an english word contains a vowel.'\n",
    "else:\n",
    "    print 'This is actually surprising.'\"\"\""
   ]
  },
  {
   "cell_type": "code",
   "execution_count": 179,
   "metadata": {},
   "outputs": [
    {
     "name": "stdout",
     "output_type": "stream",
     "text": [
      "True\n",
      "False+\n"
     ]
    }
   ],
   "source": [
    "#las funciones pueden retornar cualquier tipo de valor\n",
    "\n",
    "def booleano(x):\n",
    "    if x==1:\n",
    "        return True\n",
    "    return False\n",
    "\n",
    "def String(x):\n",
    "    if x==2:\n",
    "        return \"True+\"\n",
    "    return \"False+\"\n",
    "\n",
    "x=1\n",
    "print booleano(x)\n",
    "print String(x)"
   ]
  },
  {
   "cell_type": "code",
   "execution_count": 180,
   "metadata": {},
   "outputs": [
    {
     "data": {
      "text/plain": [
       "'def point_maker(x, y):\\n     Groups x and y values into a point, technically a tuple \\n    return x, y'"
      ]
     },
     "execution_count": 180,
     "metadata": {},
     "output_type": "execute_result"
    }
   ],
   "source": [
    "\"\"\"def point_maker(x, y):\n",
    "     Groups x and y values into a point, technically a tuple \n",
    "    return x, y\"\"\""
   ]
  },
  {
   "cell_type": "code",
   "execution_count": 181,
   "metadata": {},
   "outputs": [
    {
     "data": {
      "text/plain": [
       "(9, 18)"
      ]
     },
     "execution_count": 181,
     "metadata": {},
     "output_type": "execute_result"
    }
   ],
   "source": [
    "# si se retorna mas de un valor, se devolvera una tupla\n",
    "\n",
    "def una_tupla(i,j):\n",
    "    return i+j,i*j\n",
    "una_tupla(3,6)"
   ]
  },
  {
   "cell_type": "markdown",
   "metadata": {},
   "source": [
    "This above function returns an ordered pair of the input parameters, stored as a tuple."
   ]
  },
  {
   "cell_type": "code",
   "execution_count": 182,
   "metadata": {
    "scrolled": true
   },
   "outputs": [
    {
     "data": {
      "text/plain": [
       "'a = point_maker(0, 10)\\nb = point_maker(5, 3)\\ndef calculate_slope(point_a, point_b):\\n    \" Calculates the linear slope between two points \"\"\\n    return (point_b[1] - point_a[1])/(point_b[0] - point_a[0])\\nprint \"The slope between a and b is {0}\".format(calculate_slope(a, b))'"
      ]
     },
     "execution_count": 182,
     "metadata": {},
     "output_type": "execute_result"
    }
   ],
   "source": [
    "\"\"\"a = point_maker(0, 10)\n",
    "b = point_maker(5, 3)\n",
    "def calculate_slope(point_a, point_b):\n",
    "    \" Calculates the linear slope between two points \"\"\n",
    "    return (point_b[1] - point_a[1])/(point_b[0] - point_a[0])\n",
    "print \"The slope between a and b is {0}\".format(calculate_slope(a, b))\"\"\""
   ]
  },
  {
   "cell_type": "markdown",
   "metadata": {},
   "source": [
    "And that one calculates the slope between two points!"
   ]
  },
  {
   "cell_type": "code",
   "execution_count": 183,
   "metadata": {},
   "outputs": [
    {
     "data": {
      "text/plain": [
       "'print \"The slope-intercept form of the line between a and b, using point a, is: y - {0} = {2}(x - {1})\".format(a[1], a[0], calculate_slope(a, b))'"
      ]
     },
     "execution_count": 183,
     "metadata": {},
     "output_type": "execute_result"
    }
   ],
   "source": [
    "\"\"\"print \"The slope-intercept form of the line between a and b, using point a, is: y - {0} = {2}(x - {1})\".format(a[1], a[0], calculate_slope(a, b))\"\"\""
   ]
  },
  {
   "cell_type": "markdown",
   "metadata": {},
   "source": [
    "With the proper syntax, you can define functions to do whatever calculations you want. This makes them an indispensible part of programming in any language."
   ]
  },
  {
   "cell_type": "markdown",
   "metadata": {},
   "source": [
    "## Next Steps\n",
    "\n",
    "This was a lot of material and there is still even more to cover! Make sure you play around with the cells in each notebook to accustom yourself to the syntax featured here and to figure out any limitations. If you want to delve even deeper into the material, the [documentation for Python](https://docs.python.org/2/) is all available online. We are in the process of developing a second part to this Python tutorial, designed to provide you with even more programming knowledge, so keep an eye on the [Quantopian Lectures Page](quantopian.com/lectures) and the [forums](quantopian.com/posts) for any new lectures."
   ]
  },
  {
   "cell_type": "markdown",
   "metadata": {},
   "source": [
    "*This presentation is for informational purposes only and does not constitute an offer to sell, a solicitation to buy, or a recommendation for any security; nor does it constitute an offer to provide investment advisory or other services by Quantopian, Inc. (\"Quantopian\"). Nothing contained herein constitutes investment advice or offers any opinion with respect to the suitability of any security, and any views expressed herein should not be taken as advice to buy, sell, or hold any security or as an endorsement of any security or company.  In preparing the information contained herein, Quantopian, Inc. has not taken into account the investment needs, objectives, and financial circumstances of any particular investor. Any views expressed and data illustrated herein were prepared based upon information, believed to be reliable, available to Quantopian, Inc. at the time of publication. Quantopian makes no guarantees as to their accuracy or completeness. All information is subject to change and may quickly become unreliable for various reasons, including changes in market conditions or economic circumstances.*"
   ]
  }
 ],
 "metadata": {
  "kernelspec": {
   "display_name": "Python 3.5",
   "language": "python",
   "name": "py35"
  },
  "language_info": {
   "codemirror_mode": {
    "name": "ipython",
    "version": 3
   },
   "file_extension": ".py",
   "mimetype": "text/x-python",
   "name": "python",
   "nbconvert_exporter": "python",
   "pygments_lexer": "ipython3",
   "version": "3.5.9"
  }
 },
 "nbformat": 4,
 "nbformat_minor": 1
}
