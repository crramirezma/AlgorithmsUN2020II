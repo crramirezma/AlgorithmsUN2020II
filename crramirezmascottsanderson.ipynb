{
  "nbformat": 4,
  "nbformat_minor": 0,
  "metadata": {
    "celltoolbar": "Slideshow",
    "kernelspec": {
      "display_name": "Python 3",
      "language": "python",
      "name": "python3"
    },
    "language_info": {
      "codemirror_mode": {
        "name": "ipython",
        "version": 3
      },
      "file_extension": ".py",
      "mimetype": "text/x-python",
      "name": "python",
      "nbconvert_exporter": "python",
      "pygments_lexer": "ipython3",
      "version": "3.5.2"
    },
    "livereveal": {
      "start_slideshow_at": "selected"
    },
    "name": "Main.ipynb",
    "colab": {
      "name": "crramirezmascottsanderson.ipynb",
      "provenance": [],
      "collapsed_sections": [],
      "toc_visible": true
    }
  },
  "cells": [
    {
      "cell_type": "code",
      "metadata": {
        "id": "XFnfU5LMbU60",
        "colab_type": "code",
        "colab": {
          "base_uri": "https://localhost:8080/",
          "height": 289
        },
        "outputId": "5a45a358-41d3-405b-dc4b-9398ff3798a2"
      },
      "source": [
        "pip install -U fortran-magic\n"
      ],
      "execution_count": 1,
      "outputs": [
        {
          "output_type": "stream",
          "text": [
            "Requirement already up-to-date: fortran-magic in /usr/local/lib/python3.6/dist-packages (0.7)\n",
            "Requirement already satisfied, skipping upgrade: ipython in /usr/local/lib/python3.6/dist-packages (from fortran-magic) (5.5.0)\n",
            "Requirement already satisfied, skipping upgrade: numpy in /usr/local/lib/python3.6/dist-packages (from fortran-magic) (1.18.5)\n",
            "Requirement already satisfied, skipping upgrade: pickleshare in /usr/local/lib/python3.6/dist-packages (from ipython->fortran-magic) (0.7.5)\n",
            "Requirement already satisfied, skipping upgrade: prompt-toolkit<2.0.0,>=1.0.4 in /usr/local/lib/python3.6/dist-packages (from ipython->fortran-magic) (1.0.18)\n",
            "Requirement already satisfied, skipping upgrade: setuptools>=18.5 in /usr/local/lib/python3.6/dist-packages (from ipython->fortran-magic) (50.3.0)\n",
            "Requirement already satisfied, skipping upgrade: pexpect; sys_platform != \"win32\" in /usr/local/lib/python3.6/dist-packages (from ipython->fortran-magic) (4.8.0)\n",
            "Requirement already satisfied, skipping upgrade: simplegeneric>0.8 in /usr/local/lib/python3.6/dist-packages (from ipython->fortran-magic) (0.8.1)\n",
            "Requirement already satisfied, skipping upgrade: decorator in /usr/local/lib/python3.6/dist-packages (from ipython->fortran-magic) (4.4.2)\n",
            "Requirement already satisfied, skipping upgrade: pygments in /usr/local/lib/python3.6/dist-packages (from ipython->fortran-magic) (2.6.1)\n",
            "Requirement already satisfied, skipping upgrade: traitlets>=4.2 in /usr/local/lib/python3.6/dist-packages (from ipython->fortran-magic) (4.3.3)\n",
            "Requirement already satisfied, skipping upgrade: wcwidth in /usr/local/lib/python3.6/dist-packages (from prompt-toolkit<2.0.0,>=1.0.4->ipython->fortran-magic) (0.2.5)\n",
            "Requirement already satisfied, skipping upgrade: six>=1.9.0 in /usr/local/lib/python3.6/dist-packages (from prompt-toolkit<2.0.0,>=1.0.4->ipython->fortran-magic) (1.15.0)\n",
            "Requirement already satisfied, skipping upgrade: ptyprocess>=0.5 in /usr/local/lib/python3.6/dist-packages (from pexpect; sys_platform != \"win32\"->ipython->fortran-magic) (0.6.0)\n",
            "Requirement already satisfied, skipping upgrade: ipython-genutils in /usr/local/lib/python3.6/dist-packages (from traitlets>=4.2->ipython->fortran-magic) (0.2.0)\n"
          ],
          "name": "stdout"
        }
      ]
    },
    {
      "cell_type": "code",
      "metadata": {
        "autoscroll": false,
        "ein.tags": "worksheet-0",
        "id": "nLxFjVEQEGl8",
        "colab_type": "code",
        "colab": {
          "base_uri": "https://localhost:8080/",
          "height": 154
        },
        "outputId": "234a526c-970f-4451-e94c-0cfaa40a1c04"
      },
      "source": [
        "\"\"\"%matplotlib inline\n",
        "%load_ext fortranmagic\n",
        "\n",
        "import sys; sys.path.append('..')\n",
        "\n",
        "import pandas as pd\n",
        "import numpy as np\n",
        "import matplotlib as mpl\n",
        "import matplotlib.pyplot as plt\n",
        "import seaborn as sns\n",
        "\n",
        "mpl.rc('figure', figsize=(12, 7))\n",
        "\n",
        "ran_the_first_cell = True\n",
        "\n",
        "jan2017 = pd.to_datetime(['2017-01-03 00:00:00+00:00',\n",
        " '2017-01-04 00:00:00+00:00',\n",
        " '2017-01-05 00:00:00+00:00',\n",
        " '2017-01-06 00:00:00+00:00',\n",
        " '2017-01-09 00:00:00+00:00',\n",
        " '2017-01-10 00:00:00+00:00',\n",
        " '2017-01-11 00:00:00+00:00',\n",
        " '2017-01-12 00:00:00+00:00',\n",
        " '2017-01-13 00:00:00+00:00',\n",
        " '2017-01-17 00:00:00+00:00',\n",
        " '2017-01-18 00:00:00+00:00',\n",
        " '2017-01-19 00:00:00+00:00',\n",
        " '2017-01-20 00:00:00+00:00',\n",
        " '2017-01-23 00:00:00+00:00',\n",
        " '2017-01-24 00:00:00+00:00',\n",
        " '2017-01-25 00:00:00+00:00',\n",
        " '2017-01-26 00:00:00+00:00',\n",
        " '2017-01-27 00:00:00+00:00',\n",
        " '2017-01-30 00:00:00+00:00',\n",
        " '2017-01-31 00:00:00+00:00',\n",
        " '2017-02-01 00:00:00+00:00'])\n",
        "calendar = jan2017.values.astype('datetime64[D]')\n",
        "\n",
        "event_dates = pd.to_datetime(['2017-01-06 00:00:00+00:00', \n",
        "                             '2017-01-07 00:00:00+00:00', \n",
        "                             '2017-01-08 00:00:00+00:00']).values.astype('datetime64[D]')\n",
        "event_values = np.array([10, 15, 20])\"\"\""
      ],
      "execution_count": 2,
      "outputs": [
        {
          "output_type": "execute_result",
          "data": {
            "application/vnd.google.colaboratory.intrinsic+json": {
              "type": "string"
            },
            "text/plain": [
              "\"%matplotlib inline\\n%load_ext fortranmagic\\n\\nimport sys; sys.path.append('..')\\n\\nimport pandas as pd\\nimport numpy as np\\nimport matplotlib as mpl\\nimport matplotlib.pyplot as plt\\nimport seaborn as sns\\n\\nmpl.rc('figure', figsize=(12, 7))\\n\\nran_the_first_cell = True\\n\\njan2017 = pd.to_datetime(['2017-01-03 00:00:00+00:00',\\n '2017-01-04 00:00:00+00:00',\\n '2017-01-05 00:00:00+00:00',\\n '2017-01-06 00:00:00+00:00',\\n '2017-01-09 00:00:00+00:00',\\n '2017-01-10 00:00:00+00:00',\\n '2017-01-11 00:00:00+00:00',\\n '2017-01-12 00:00:00+00:00',\\n '2017-01-13 00:00:00+00:00',\\n '2017-01-17 00:00:00+00:00',\\n '2017-01-18 00:00:00+00:00',\\n '2017-01-19 00:00:00+00:00',\\n '2017-01-20 00:00:00+00:00',\\n '2017-01-23 00:00:00+00:00',\\n '2017-01-24 00:00:00+00:00',\\n '2017-01-25 00:00:00+00:00',\\n '2017-01-26 00:00:00+00:00',\\n '2017-01-27 00:00:00+00:00',\\n '2017-01-30 00:00:00+00:00',\\n '2017-01-31 00:00:00+00:00',\\n '2017-02-01 00:00:00+00:00'])\\ncalendar = jan2017.values.astype('datetime64[D]')\\n\\nevent_dates = pd.to_datetime(['2017-01-06 00:00:00+00:00', \\n                             '2017-01-07 00:00:00+00:00', \\n                             '2017-01-08 00:00:00+00:00']).values.astype('datetime64[D]')\\nevent_values = np.array([10, 15, 20])\""
            ]
          },
          "metadata": {
            "tags": []
          },
          "execution_count": 2
        }
      ]
    },
    {
      "cell_type": "code",
      "metadata": {
        "id": "obEWan61hfYh",
        "colab_type": "code",
        "colab": {
          "base_uri": "https://localhost:8080/",
          "height": 104
        },
        "outputId": "a411ae2c-9727-463a-ab4c-f04b22075661"
      },
      "source": [
        "%matplotlib inline\n",
        "%load_ext fortranmagic\n",
        "\n",
        "import sys; sys.path.append('..')\n",
        "\n",
        "import pandas as pd\n",
        "import numpy as np\n",
        "import matplotlib as mpl\n",
        "import matplotlib.pyplot as plt\n",
        "import seaborn as sns\n",
        "\n",
        "mpl.rc('figure', figsize=(10, 6))\n",
        "\n",
        "Correr_celda = True\n",
        "\n",
        "#generador de fechas en un rango\n",
        "fechas=pd.date_range(start=\"2019-01-01\",end=\"2019-01-30\")\n",
        "enero2019 = pd.to_datetime(fechas)\n",
        "\n",
        "calendario = enero2019.values.astype('datetime64[D]')\n",
        "\n",
        "fechas_eventos  = pd.to_datetime(['2019-01-16 00:00:00+00:00', \n",
        "                                  '2019-01-17 00:00:00+00:00', \n",
        "                                  '2019-01-18 00:00:00+00:00']).values.astype('datetime64[D]')\n",
        "\n",
        "valores_eventos = np.array([10, 15, 20])\n"
      ],
      "execution_count": 3,
      "outputs": [
        {
          "output_type": "stream",
          "text": [
            "/usr/local/lib/python3.6/dist-packages/fortranmagic.py:147: UserWarning: get_ipython_cache_dir has moved to the IPython.paths module since IPython 4.0.\n",
            "  self._lib_dir = os.path.join(get_ipython_cache_dir(), 'fortran')\n"
          ],
          "name": "stderr"
        },
        {
          "output_type": "display_data",
          "data": {
            "application/javascript": [
              "$.getScript(\"https://raw.github.com/marijnh/CodeMirror/master/mode/fortran/fortran.js\", function () {\n",
              "IPython.config.cell_magic_highlight['magic_fortran'] = {'reg':[/^%%fortran/]};});\n"
            ]
          },
          "metadata": {
            "tags": []
          }
        },
        {
          "output_type": "stream",
          "text": [
            "/usr/local/lib/python3.6/dist-packages/statsmodels/tools/_testing.py:19: FutureWarning: pandas.util.testing is deprecated. Use the functions in the public API at pandas.testing instead.\n",
            "  import pandas.util.testing as tm\n"
          ],
          "name": "stderr"
        }
      ]
    },
    {
      "cell_type": "markdown",
      "metadata": {
        "ein.tags": "worksheet-0",
        "id": "NIy_4-o1EGmE",
        "colab_type": "text"
      },
      "source": [
        "<center>\n",
        "  <h1>The PyData Toolbox</h1>\n",
        "  <h3>Scott Sanderson (Twitter: @scottbsanderson, GitHub: ssanderson)</h3>\n",
        "  <h3><a href=\"https://github.com/ssanderson/pydata-toolbox\">https://github.com/ssanderson/pydata-toolbox</a></h3>\n",
        "</center>"
      ]
    },
    {
      "cell_type": "markdown",
      "metadata": {
        "collapsed": true,
        "ein.tags": "worksheet-0",
        "id": "rTYjPIWtEGmF",
        "colab_type": "text"
      },
      "source": [
        "# About Me:\n",
        "\n",
        "<img src=\"images/me.jpg\" alt=\"Drawing\" style=\"width: 300px;\"/>\n",
        "\n",
        "- Senior Engineer at [Quantopian](www.quantopian.com)\n",
        "- Background in Mathematics and Philosophy\n",
        "- **Twitter:** [@scottbsanderson](https://twitter.com/scottbsanderson)\n",
        "- **GitHub:** [ssanderson](github.com/ssanderson)"
      ]
    },
    {
      "cell_type": "markdown",
      "metadata": {
        "id": "xgzCelNYEGmG",
        "colab_type": "text"
      },
      "source": [
        "## Outline\n",
        "\n",
        "- Built-in Data Structures\n",
        "- Numpy `array`\n",
        "- Pandas `Series`/`DataFrame`\n",
        "- Plotting and \"Real-World\" Analyses"
      ]
    },
    {
      "cell_type": "markdown",
      "metadata": {
        "id": "teFspBV7EGmH",
        "colab_type": "text"
      },
      "source": [
        "# Data Structures"
      ]
    },
    {
      "cell_type": "markdown",
      "metadata": {
        "id": "Ap0ftpnuEGmI",
        "colab_type": "text"
      },
      "source": [
        "> Rule 5. Data dominates. If you've chosen the right data structures and organized things well, the algorithms\n",
        "will almost always be self-evident. Data structures, not algorithms, are central to programming.\n",
        "\n",
        "- *Notes on Programming in C*, by Rob Pike."
      ]
    },
    {
      "cell_type": "markdown",
      "metadata": {
        "id": "3OX4io7yEGmJ",
        "colab_type": "text"
      },
      "source": [
        "# Lists"
      ]
    },
    {
      "cell_type": "code",
      "metadata": {
        "id": "-Px-P6NiEGmK",
        "colab_type": "code",
        "colab": {
          "base_uri": "https://localhost:8080/",
          "height": 35
        },
        "outputId": "2ad3176f-21f6-4606-af94-5b1ebdc40e49"
      },
      "source": [
        "\"\"\"assert ran_the_first_cell, \"Oh noes!\" \"\"\""
      ],
      "execution_count": 4,
      "outputs": [
        {
          "output_type": "execute_result",
          "data": {
            "application/vnd.google.colaboratory.intrinsic+json": {
              "type": "string"
            },
            "text/plain": [
              "'assert ran_the_first_cell, \"Oh noes!\" '"
            ]
          },
          "metadata": {
            "tags": []
          },
          "execution_count": 4
        }
      ]
    },
    {
      "cell_type": "code",
      "metadata": {
        "id": "RvVlY87plKaM",
        "colab_type": "code",
        "colab": {}
      },
      "source": [
        "assert Correr_celda,\"No tengo ni idea!\""
      ],
      "execution_count": 5,
      "outputs": []
    },
    {
      "cell_type": "markdown",
      "metadata": {
        "id": "-Pk6x5cqbdIK",
        "colab_type": "text"
      },
      "source": [
        ""
      ]
    },
    {
      "cell_type": "code",
      "metadata": {
        "id": "NXlqkvcwEGmO",
        "colab_type": "code",
        "colab": {
          "base_uri": "https://localhost:8080/",
          "height": 35
        },
        "outputId": "3fdf9721-1478-4e61-904f-da6e5cf8ce82"
      },
      "source": [
        "\"\"\"l = [1, 'two', 3.0, 4, 5.0, \"six\"]\n",
        "\n",
        "l\"\"\""
      ],
      "execution_count": 6,
      "outputs": [
        {
          "output_type": "execute_result",
          "data": {
            "application/vnd.google.colaboratory.intrinsic+json": {
              "type": "string"
            },
            "text/plain": [
              "'l = [1, \\'two\\', 3.0, 4, 5.0, \"six\"]\\n\\nl'"
            ]
          },
          "metadata": {
            "tags": []
          },
          "execution_count": 6
        }
      ]
    },
    {
      "cell_type": "code",
      "metadata": {
        "id": "61T3O77AlVao",
        "colab_type": "code",
        "colab": {
          "base_uri": "https://localhost:8080/",
          "height": 50
        },
        "outputId": "370af761-2fed-46d6-9bbb-ab48e4cbdf9a"
      },
      "source": [
        "primera_list=[\"hola mundo\",True,np.pi,123]\n",
        "print(\"Lista con de todo un poco: \\n\",primera_list)"
      ],
      "execution_count": 7,
      "outputs": [
        {
          "output_type": "stream",
          "text": [
            "Lista con de todo un poco: \n",
            " ['hola mundo', True, 3.141592653589793, 123]\n"
          ],
          "name": "stdout"
        }
      ]
    },
    {
      "cell_type": "code",
      "metadata": {
        "id": "zeB6fjAiEGmT",
        "colab_type": "code",
        "colab": {
          "base_uri": "https://localhost:8080/",
          "height": 35
        },
        "outputId": "aa6a8e35-2d38-40d1-c22a-dc4db10b5f88"
      },
      "source": [
        "\"\"\"# Lists can be indexed like C-style arrays.\n",
        "first = l[0]\n",
        "second = l[1]\n",
        "print(\"first:\", first)\n",
        "print(\"second:\", second)\"\"\""
      ],
      "execution_count": 8,
      "outputs": [
        {
          "output_type": "execute_result",
          "data": {
            "application/vnd.google.colaboratory.intrinsic+json": {
              "type": "string"
            },
            "text/plain": [
              "'# Lists can be indexed like C-style arrays.\\nfirst = l[0]\\nsecond = l[1]\\nprint(\"first:\", first)\\nprint(\"second:\", second)'"
            ]
          },
          "metadata": {
            "tags": []
          },
          "execution_count": 8
        }
      ]
    },
    {
      "cell_type": "code",
      "metadata": {
        "id": "SBsSGLypl0rU",
        "colab_type": "code",
        "colab": {
          "base_uri": "https://localhost:8080/",
          "height": 84
        },
        "outputId": "942614e1-c267-411c-faed-70dadd9aeed9"
      },
      "source": [
        "#las listas de python pueden ser indexadas como en java o c\n",
        "print(\"tercer valor: \",primera_list[2])\n",
        "print(\"Primer y cuarto valor:\\n\", primera_list[0],\"\\n\",primera_list[3])"
      ],
      "execution_count": 9,
      "outputs": [
        {
          "output_type": "stream",
          "text": [
            "tercer valor:  3.141592653589793\n",
            "Primer y cuarto valor:\n",
            " hola mundo \n",
            " 123\n"
          ],
          "name": "stdout"
        }
      ]
    },
    {
      "cell_type": "code",
      "metadata": {
        "id": "0Zi-WEHmEGmd",
        "colab_type": "code",
        "colab": {
          "base_uri": "https://localhost:8080/",
          "height": 52
        },
        "outputId": "db0160c7-444d-4422-c3f0-7e845a23a169"
      },
      "source": [
        "\"\"\"# Negative indexing gives elements relative to the end of the list.\n",
        "last = l[-1]\n",
        "penultimate = l[-2]\n",
        "print(\"last:\", last)\n",
        "print(\"second to last:\", penultimate)\"\"\""
      ],
      "execution_count": 10,
      "outputs": [
        {
          "output_type": "execute_result",
          "data": {
            "application/vnd.google.colaboratory.intrinsic+json": {
              "type": "string"
            },
            "text/plain": [
              "'# Negative indexing gives elements relative to the end of the list.\\nlast = l[-1]\\npenultimate = l[-2]\\nprint(\"last:\", last)\\nprint(\"second to last:\", penultimate)'"
            ]
          },
          "metadata": {
            "tags": []
          },
          "execution_count": 10
        }
      ]
    },
    {
      "cell_type": "code",
      "metadata": {
        "id": "vcc8dE7cme-j",
        "colab_type": "code",
        "colab": {
          "base_uri": "https://localhost:8080/",
          "height": 34
        },
        "outputId": "bf41430a-ee7c-4e1f-9cb3-10e05ed8efd3"
      },
      "source": [
        "#valores negativos comienzan el conteo de atras para adelante\n",
        "#para comprobarlo, usaremos la funcion len()\n",
        "print (\"indexar con valores negativos cuenta de atras para adelante?: \",primera_list[-1]==primera_list[len(primera_list)-1])"
      ],
      "execution_count": 11,
      "outputs": [
        {
          "output_type": "stream",
          "text": [
            "indexar con valores negativos cuenta de atras para adelante?:  True\n"
          ],
          "name": "stdout"
        }
      ]
    },
    {
      "cell_type": "code",
      "metadata": {
        "id": "270lUAfYEGmh",
        "colab_type": "code",
        "colab": {
          "base_uri": "https://localhost:8080/",
          "height": 52
        },
        "outputId": "a451c389-a97b-4872-e03d-07f3fde1b476"
      },
      "source": [
        "\"\"\"# Lists can also be sliced, which makes a copy of elements between \n",
        "# start (inclusive) and stop (exclusive)\n",
        "sublist = l[1:3]\n",
        "sublist\"\"\""
      ],
      "execution_count": 12,
      "outputs": [
        {
          "output_type": "execute_result",
          "data": {
            "application/vnd.google.colaboratory.intrinsic+json": {
              "type": "string"
            },
            "text/plain": [
              "'# Lists can also be sliced, which makes a copy of elements between \\n# start (inclusive) and stop (exclusive)\\nsublist = l[1:3]\\nsublist'"
            ]
          },
          "metadata": {
            "tags": []
          },
          "execution_count": 12
        }
      ]
    },
    {
      "cell_type": "code",
      "metadata": {
        "id": "jecj7p6qnDiR",
        "colab_type": "code",
        "colab": {
          "base_uri": "https://localhost:8080/",
          "height": 34
        },
        "outputId": "784217b9-848f-487d-cdd4-64d53bcf3e5c"
      },
      "source": [
        "print(\"los valores de la lista del segundo al penultimo son: \",primera_list[1:-1])\n",
        "#la seleccion de datos se puede decir que es como un conjunto cerrado por la izquierda y abierto por la derecha"
      ],
      "execution_count": 13,
      "outputs": [
        {
          "output_type": "stream",
          "text": [
            "los valores de la lista del segundo al penultimo son:  [True, 3.141592653589793]\n"
          ],
          "name": "stdout"
        }
      ]
    },
    {
      "cell_type": "code",
      "metadata": {
        "id": "B08NGOckEGmn",
        "colab_type": "code",
        "colab": {
          "base_uri": "https://localhost:8080/",
          "height": 35
        },
        "outputId": "de6fa322-9387-413b-8b00-6ca070b4b808"
      },
      "source": [
        "\"\"\"# l[:N] is equivalent to l[0:N].\n",
        "first_three = l[:3]\n",
        "first_three\"\"\""
      ],
      "execution_count": 14,
      "outputs": [
        {
          "output_type": "execute_result",
          "data": {
            "application/vnd.google.colaboratory.intrinsic+json": {
              "type": "string"
            },
            "text/plain": [
              "'# l[:N] is equivalent to l[0:N].\\nfirst_three = l[:3]\\nfirst_three'"
            ]
          },
          "metadata": {
            "tags": []
          },
          "execution_count": 14
        }
      ]
    },
    {
      "cell_type": "code",
      "metadata": {
        "id": "dagu30uhnsNt",
        "colab_type": "code",
        "colab": {
          "base_uri": "https://localhost:8080/",
          "height": 34
        },
        "outputId": "41ec3d78-3309-4736-8245-e09f5e22cb9e"
      },
      "source": [
        "print(\"Estas dos expresiones sirven igual? : '[:A]',[0:A]:\",primera_list[:2]==primera_list[0:2])"
      ],
      "execution_count": 15,
      "outputs": [
        {
          "output_type": "stream",
          "text": [
            "Estas dos expresiones sirven igual? : '[:A]',[0:A]: True\n"
          ],
          "name": "stdout"
        }
      ]
    },
    {
      "cell_type": "code",
      "metadata": {
        "id": "Tl9Lkjw7EGmr",
        "colab_type": "code",
        "colab": {
          "base_uri": "https://localhost:8080/",
          "height": 35
        },
        "outputId": "3d5e321a-3de3-4ec5-ed61-fabd8d38ecf2"
      },
      "source": [
        "\"\"\"# l[3:] is equivalent to l[3:len(l)].\n",
        "after_three = l[3:]\n",
        "after_three\"\"\""
      ],
      "execution_count": 16,
      "outputs": [
        {
          "output_type": "execute_result",
          "data": {
            "application/vnd.google.colaboratory.intrinsic+json": {
              "type": "string"
            },
            "text/plain": [
              "'# l[3:] is equivalent to l[3:len(l)].\\nafter_three = l[3:]\\nafter_three'"
            ]
          },
          "metadata": {
            "tags": []
          },
          "execution_count": 16
        }
      ]
    },
    {
      "cell_type": "code",
      "metadata": {
        "id": "NeDHfCEWoThX",
        "colab_type": "code",
        "colab": {
          "base_uri": "https://localhost:8080/",
          "height": 34
        },
        "outputId": "65760fee-184b-4002-8842-9c4898267bb7"
      },
      "source": [
        "print(\"valores desde el segundo al ultimo: \", primera_list[1:])"
      ],
      "execution_count": 17,
      "outputs": [
        {
          "output_type": "stream",
          "text": [
            "valores desde el segundo al ultimo:  [True, 3.141592653589793, 123]\n"
          ],
          "name": "stdout"
        }
      ]
    },
    {
      "cell_type": "code",
      "metadata": {
        "id": "5TXk_ndZEGmv",
        "colab_type": "code",
        "colab": {
          "base_uri": "https://localhost:8080/",
          "height": 52
        },
        "outputId": "517a4f99-de89-481d-edeb-9bf24e877cff"
      },
      "source": [
        "\"\"\"# There's also a third parameter, \"step\", which gets every Nth element.\n",
        "l = ['a', 'b', 'c', 'd', 'e', 'f', 'g','h']\n",
        "l[1:7:2]\"\"\""
      ],
      "execution_count": 18,
      "outputs": [
        {
          "output_type": "execute_result",
          "data": {
            "application/vnd.google.colaboratory.intrinsic+json": {
              "type": "string"
            },
            "text/plain": [
              "'# There\\'s also a third parameter, \"step\", which gets every Nth element.\\nl = [\\'a\\', \\'b\\', \\'c\\', \\'d\\', \\'e\\', \\'f\\', \\'g\\',\\'h\\']\\nl[1:7:2]'"
            ]
          },
          "metadata": {
            "tags": []
          },
          "execution_count": 18
        }
      ]
    },
    {
      "cell_type": "code",
      "metadata": {
        "id": "IaDAG4k-ol4R",
        "colab_type": "code",
        "colab": {
          "base_uri": "https://localhost:8080/",
          "height": 50
        },
        "outputId": "0831ce16-d207-4bbf-c874-bbb6633a9a48"
      },
      "source": [
        "print(\"con el salto preprogramado: \", primera_list[1::2])\n",
        "print(\"seleccionando dato a dato: \", primera_list[1],primera_list[3])"
      ],
      "execution_count": 19,
      "outputs": [
        {
          "output_type": "stream",
          "text": [
            "con el salto preprogramado:  [True, 123]\n",
            "seleccionando dato a dato:  True 123\n"
          ],
          "name": "stdout"
        }
      ]
    },
    {
      "cell_type": "code",
      "metadata": {
        "id": "Dwq5MvPJEGmz",
        "colab_type": "code",
        "colab": {
          "base_uri": "https://localhost:8080/",
          "height": 35
        },
        "outputId": "0b22fad2-f9e7-4ab0-d455-c1a731cac8ec"
      },
      "source": [
        "\"\"\"# This is a cute way to reverse a list.\n",
        "l[::-1]\"\"\""
      ],
      "execution_count": 20,
      "outputs": [
        {
          "output_type": "execute_result",
          "data": {
            "application/vnd.google.colaboratory.intrinsic+json": {
              "type": "string"
            },
            "text/plain": [
              "'# This is a cute way to reverse a list.\\nl[::-1]'"
            ]
          },
          "metadata": {
            "tags": []
          },
          "execution_count": 20
        }
      ]
    },
    {
      "cell_type": "code",
      "metadata": {
        "id": "6oApENh8pRTN",
        "colab_type": "code",
        "colab": {
          "base_uri": "https://localhost:8080/",
          "height": 34
        },
        "outputId": "7a6a8775-0d9c-4cb7-b590-6c9e9869f979"
      },
      "source": [
        "#para hacer la reversa de la lista, en el atributo de pasos, solo tiene que colocarse un valor negativo\n",
        "primera_list[::-2]#seleccione que fuera reversa y ademas que fuera de dos en dos"
      ],
      "execution_count": 21,
      "outputs": [
        {
          "output_type": "execute_result",
          "data": {
            "text/plain": [
              "[123, True]"
            ]
          },
          "metadata": {
            "tags": []
          },
          "execution_count": 21
        }
      ]
    },
    {
      "cell_type": "code",
      "metadata": {
        "id": "OQf4pcSAEGm3",
        "colab_type": "code",
        "colab": {
          "base_uri": "https://localhost:8080/",
          "height": 52
        },
        "outputId": "d402f802-2c67-407c-d2d9-5ef5e0344345"
      },
      "source": [
        "\"\"\"# Lists can be grown efficiently (in O(1) amortized time).\n",
        "l = [1, 2, 3, 4, 5]\n",
        "print(\"Before:\", l)\n",
        "l.append('six')\n",
        "print(\"After:\", l)\"\"\""
      ],
      "execution_count": 22,
      "outputs": [
        {
          "output_type": "execute_result",
          "data": {
            "application/vnd.google.colaboratory.intrinsic+json": {
              "type": "string"
            },
            "text/plain": [
              "'# Lists can be grown efficiently (in O(1) amortized time).\\nl = [1, 2, 3, 4, 5]\\nprint(\"Before:\", l)\\nl.append(\\'six\\')\\nprint(\"After:\", l)'"
            ]
          },
          "metadata": {
            "tags": []
          },
          "execution_count": 22
        }
      ]
    },
    {
      "cell_type": "code",
      "metadata": {
        "id": "o7fJVrnXqy2T",
        "colab_type": "code",
        "colab": {
          "base_uri": "https://localhost:8080/",
          "height": 50
        },
        "outputId": "b1abe42a-ef2e-4d27-fcfc-ee38aed97d59"
      },
      "source": [
        "print (\"Antes de agregar un dato: \", primera_list[:])\n",
        "primera_list.append(\"adios mundo\")\n",
        "print (\"Despues de agregar un dato: \", primera_list[:])"
      ],
      "execution_count": 23,
      "outputs": [
        {
          "output_type": "stream",
          "text": [
            "Antes de agregar un dato:  ['hola mundo', True, 3.141592653589793, 123]\n",
            "Despues de agregar un dato:  ['hola mundo', True, 3.141592653589793, 123, 'adios mundo']\n"
          ],
          "name": "stdout"
        }
      ]
    },
    {
      "cell_type": "code",
      "metadata": {
        "id": "OaP8lxMRsniN",
        "colab_type": "code",
        "colab": {
          "base_uri": "https://localhost:8080/",
          "height": 34
        },
        "outputId": "f1e61c5c-5894-4da8-9ae6-29fa579e0ab6"
      },
      "source": [
        "#operacion internas\n",
        "sec_list=[1,2,3,4,5,6,7,8]\n",
        "print ([x*2 for x in sec_list])"
      ],
      "execution_count": 24,
      "outputs": [
        {
          "output_type": "stream",
          "text": [
            "[2, 4, 6, 8, 10, 12, 14, 16]\n"
          ],
          "name": "stdout"
        }
      ]
    },
    {
      "cell_type": "markdown",
      "metadata": {
        "ein.tags": "worksheet-0",
        "id": "y9le0mlPEGnA",
        "colab_type": "text"
      },
      "source": [
        "## Review: Python Lists\n",
        "\n",
        "- Zero-indexed sequence of arbitrary Python values.\n",
        "- Slicing syntax: `l[start:stop:step]` copies elements at regular intervals from `start` to `stop`.\n",
        "- Efficient (`O(1)`) appends and removes from end.\n",
        "- Comprehension syntax: `[f(x) for x in l if cond(x)]`."
      ]
    },
    {
      "cell_type": "markdown",
      "metadata": {
        "id": "tGv2GWB_EGnA",
        "colab_type": "text"
      },
      "source": [
        "# Dictionaries"
      ]
    },
    {
      "cell_type": "code",
      "metadata": {
        "id": "rDOHQI6XEGnB",
        "colab_type": "code",
        "colab": {
          "base_uri": "https://localhost:8080/",
          "height": 52
        },
        "outputId": "9ccc9f16-1ab7-4949-c1b6-c5bc0d6c544a"
      },
      "source": [
        "\"\"\"# Dictionaries are key-value mappings.\n",
        "philosophers = {'David': 'Hume', 'Immanuel': 'Kant', 'Bertrand': 'Russell'}\n",
        "philosophers\"\"\""
      ],
      "execution_count": 25,
      "outputs": [
        {
          "output_type": "execute_result",
          "data": {
            "application/vnd.google.colaboratory.intrinsic+json": {
              "type": "string"
            },
            "text/plain": [
              "\"# Dictionaries are key-value mappings.\\nphilosophers = {'David': 'Hume', 'Immanuel': 'Kant', 'Bertrand': 'Russell'}\\nphilosophers\""
            ]
          },
          "metadata": {
            "tags": []
          },
          "execution_count": 25
        }
      ]
    },
    {
      "cell_type": "code",
      "metadata": {
        "id": "I1YO9O90uENr",
        "colab_type": "code",
        "colab": {
          "base_uri": "https://localhost:8080/",
          "height": 34
        },
        "outputId": "96701efe-62b8-4f19-eff1-12977b5ecde0"
      },
      "source": [
        "lenguajes={\"c\":\"rapido\",\"java\":\"Comercial\",\"python\":\"sencillo\"}\n",
        "lenguajes"
      ],
      "execution_count": 26,
      "outputs": [
        {
          "output_type": "execute_result",
          "data": {
            "text/plain": [
              "{'c': 'rapido', 'java': 'Comercial', 'python': 'sencillo'}"
            ]
          },
          "metadata": {
            "tags": []
          },
          "execution_count": 26
        }
      ]
    },
    {
      "cell_type": "code",
      "metadata": {
        "id": "n3yoxLeOEGnF",
        "colab_type": "code",
        "colab": {
          "base_uri": "https://localhost:8080/",
          "height": 35
        },
        "outputId": "548dcca0-aa6f-42fa-a036-df36a6ac0025"
      },
      "source": [
        "\"\"\"# Like lists, dictionaries are size-mutable.\n",
        "philosophers['Ludwig'] = 'Wittgenstein'\n",
        "philosophers\"\"\""
      ],
      "execution_count": 27,
      "outputs": [
        {
          "output_type": "execute_result",
          "data": {
            "application/vnd.google.colaboratory.intrinsic+json": {
              "type": "string"
            },
            "text/plain": [
              "\"# Like lists, dictionaries are size-mutable.\\nphilosophers['Ludwig'] = 'Wittgenstein'\\nphilosophers\""
            ]
          },
          "metadata": {
            "tags": []
          },
          "execution_count": 27
        }
      ]
    },
    {
      "cell_type": "code",
      "metadata": {
        "id": "AsgAW0zBvtyK",
        "colab_type": "code",
        "colab": {
          "base_uri": "https://localhost:8080/",
          "height": 34
        },
        "outputId": "8bbf7fdc-b67b-44aa-f245-9576988f2d0c"
      },
      "source": [
        "#se pueden agregar datos extral\n",
        "lenguajes[\"r\"]=\"Estadistico\"\n",
        "lenguajes"
      ],
      "execution_count": 28,
      "outputs": [
        {
          "output_type": "execute_result",
          "data": {
            "text/plain": [
              "{'c': 'rapido', 'java': 'Comercial', 'python': 'sencillo', 'r': 'Estadistico'}"
            ]
          },
          "metadata": {
            "tags": []
          },
          "execution_count": 28
        }
      ]
    },
    {
      "cell_type": "code",
      "metadata": {
        "id": "J3SaeXzREGnK",
        "colab_type": "code",
        "colab": {
          "base_uri": "https://localhost:8080/",
          "height": 35
        },
        "outputId": "22e17cd5-9cfb-4ed1-a0da-3b96d502feee"
      },
      "source": [
        "\"\"\"del philosophers['David']\n",
        "philosophers\"\"\""
      ],
      "execution_count": 29,
      "outputs": [
        {
          "output_type": "execute_result",
          "data": {
            "application/vnd.google.colaboratory.intrinsic+json": {
              "type": "string"
            },
            "text/plain": [
              "\"del philosophers['David']\\nphilosophers\""
            ]
          },
          "metadata": {
            "tags": []
          },
          "execution_count": 29
        }
      ]
    },
    {
      "cell_type": "code",
      "metadata": {
        "id": "rKqX7HTswFZV",
        "colab_type": "code",
        "colab": {
          "base_uri": "https://localhost:8080/",
          "height": 34
        },
        "outputId": "aaa0281d-2ce5-4817-d91f-4674bac69fea"
      },
      "source": [
        "#se pueden eliminar valores del diccionario\n",
        "del lenguajes[\"java\"]\n",
        "lenguajes"
      ],
      "execution_count": 30,
      "outputs": [
        {
          "output_type": "execute_result",
          "data": {
            "text/plain": [
              "{'c': 'rapido', 'python': 'sencillo', 'r': 'Estadistico'}"
            ]
          },
          "metadata": {
            "tags": []
          },
          "execution_count": 30
        }
      ]
    },
    {
      "cell_type": "code",
      "metadata": {
        "id": "Of2yPFNDEGnO",
        "colab_type": "code",
        "colab": {
          "base_uri": "https://localhost:8080/",
          "height": 35
        },
        "outputId": "98710f2a-10fb-43f5-fc26-fc1132737e33"
      },
      "source": [
        "\"\"\"# No slicing.\n",
        "philosophers['Bertrand':'Immanuel']\"\"\""
      ],
      "execution_count": 31,
      "outputs": [
        {
          "output_type": "execute_result",
          "data": {
            "application/vnd.google.colaboratory.intrinsic+json": {
              "type": "string"
            },
            "text/plain": [
              "\"# No slicing.\\nphilosophers['Bertrand':'Immanuel']\""
            ]
          },
          "metadata": {
            "tags": []
          },
          "execution_count": 31
        }
      ]
    },
    {
      "cell_type": "code",
      "metadata": {
        "id": "bfZ54WO7wavQ",
        "colab_type": "code",
        "colab": {}
      },
      "source": [
        "#con los diccionarios no se puede acceder a valores dentro usando indices de conjunto, por lo que el siguiente codigo genera error\n",
        "#por ello esta comentado\n",
        "\n",
        "\n",
        "#lenguajes['c':'r']"
      ],
      "execution_count": 32,
      "outputs": []
    },
    {
      "cell_type": "markdown",
      "metadata": {
        "ein.tags": "worksheet-0",
        "id": "f685Vx_0EGnS",
        "colab_type": "text"
      },
      "source": [
        "## Review: Python Dictionaries\n",
        "\n",
        "- Unordered key-value mapping from (almost) arbitrary keys to arbitrary values.\n",
        "- Efficient (`O(1)`) lookup, insertion, and deletion.\n",
        "- No slicing (would require a notion of order)."
      ]
    },
    {
      "cell_type": "markdown",
      "metadata": {
        "id": "sjLcji55EGnT",
        "colab_type": "text"
      },
      "source": [
        "<center><img src=\"images/pacino.gif\" alt=\"Drawing\" style=\"width: 100%;\"/></center>\n"
      ]
    },
    {
      "cell_type": "code",
      "metadata": {
        "id": "VBxtYfm6EGnU",
        "colab_type": "code",
        "colab": {
          "base_uri": "https://localhost:8080/",
          "height": 52
        },
        "outputId": "8e9e32b5-068d-478b-ae53-840b7c8d4926"
      },
      "source": [
        "\"\"\"# Suppose we have some matrices...\n",
        "a = [[1, 2, 3],\n",
        "     [2, 3, 4],\n",
        "     [5, 6, 7],\n",
        "     [1, 1, 1]]\n",
        "\n",
        "b = [[1, 2, 3, 4],\n",
        "     [2, 3, 4, 5]]\"\"\""
      ],
      "execution_count": 33,
      "outputs": [
        {
          "output_type": "execute_result",
          "data": {
            "application/vnd.google.colaboratory.intrinsic+json": {
              "type": "string"
            },
            "text/plain": [
              "'# Suppose we have some matrices...\\na = [[1, 2, 3],\\n     [2, 3, 4],\\n     [5, 6, 7],\\n     [1, 1, 1]]\\n\\nb = [[1, 2, 3, 4],\\n     [2, 3, 4, 5]]'"
            ]
          },
          "metadata": {
            "tags": []
          },
          "execution_count": 33
        }
      ]
    },
    {
      "cell_type": "code",
      "metadata": {
        "id": "F4fvF2FtEGnY",
        "colab_type": "code",
        "colab": {
          "base_uri": "https://localhost:8080/",
          "height": 69
        },
        "outputId": "e81c225b-3ca6-4258-da57-b7e3fd042495"
      },
      "source": [
        "\"\"\"def matmul(A, B):\n",
        "    \n",
        "    rows_out = len(A)\n",
        "    cols_out = len(B[0])\n",
        "    out = [[0 for col in range(cols_out)] for row in range(rows_out)]\n",
        "    \n",
        "    for i in range(rows_out):\n",
        "        for j in range(cols_out):\n",
        "            for k in range(len(B)):\n",
        "                out[i][j] += A[i][k] * B[k][j]\n",
        "    return out\"\"\""
      ],
      "execution_count": 34,
      "outputs": [
        {
          "output_type": "execute_result",
          "data": {
            "application/vnd.google.colaboratory.intrinsic+json": {
              "type": "string"
            },
            "text/plain": [
              "'def matmul(A, B):\\n    \\n    rows_out = len(A)\\n    cols_out = len(B[0])\\n    out = [[0 for col in range(cols_out)] for row in range(rows_out)]\\n    \\n    for i in range(rows_out):\\n        for j in range(cols_out):\\n            for k in range(len(B)):\\n                out[i][j] += A[i][k] * B[k][j]\\n    return out'"
            ]
          },
          "metadata": {
            "tags": []
          },
          "execution_count": 34
        }
      ]
    },
    {
      "cell_type": "code",
      "metadata": {
        "id": "An_lC401zZ5-",
        "colab_type": "code",
        "colab": {}
      },
      "source": [
        "A=[[1,2,3],\n",
        "   [3,2,1],\n",
        "   [2,1,3]]\n",
        "B=[[2,4,6],[3,6,9],[4,8,12]]"
      ],
      "execution_count": 35,
      "outputs": []
    },
    {
      "cell_type": "code",
      "metadata": {
        "id": "7iFViIfEy3Tz",
        "colab_type": "code",
        "colab": {}
      },
      "source": [
        "def matsum(a,b):\n",
        "  n=len(a)\n",
        "  cum=0\n",
        "  for i in range(n):\n",
        "    for j in range(n):\n",
        "      cum+=a[i][j]+b[i][j]\n",
        "  \n",
        "  return cum"
      ],
      "execution_count": 36,
      "outputs": []
    },
    {
      "cell_type": "markdown",
      "metadata": {
        "id": "rk4p07M-EGnc",
        "colab_type": "text"
      },
      "source": [
        "<center><img src=\"images/gross.gif\" alt=\"Drawing\" style=\"width: 50%;\"/></center>\n"
      ]
    },
    {
      "cell_type": "code",
      "metadata": {
        "id": "1rd930VrEGnc",
        "colab_type": "code",
        "colab": {
          "base_uri": "https://localhost:8080/",
          "height": 35
        },
        "outputId": "db092ee9-2e09-490d-958e-da951599bec7"
      },
      "source": [
        "\"\"\"%%time\n",
        "\n",
        "matmul(a, b)\"\"\""
      ],
      "execution_count": 37,
      "outputs": [
        {
          "output_type": "execute_result",
          "data": {
            "application/vnd.google.colaboratory.intrinsic+json": {
              "type": "string"
            },
            "text/plain": [
              "'%%time\\n\\nmatmul(a, b)'"
            ]
          },
          "metadata": {
            "tags": []
          },
          "execution_count": 37
        }
      ]
    },
    {
      "cell_type": "code",
      "metadata": {
        "id": "OBPVeAyGzuJa",
        "colab_type": "code",
        "colab": {
          "base_uri": "https://localhost:8080/",
          "height": 67
        },
        "outputId": "524058d3-9ff9-4e0d-f55b-f439c74d40af"
      },
      "source": [
        "%%time \n",
        "matsum(A,B)"
      ],
      "execution_count": 38,
      "outputs": [
        {
          "output_type": "stream",
          "text": [
            "CPU times: user 9 µs, sys: 1e+03 ns, total: 10 µs\n",
            "Wall time: 14.3 µs\n"
          ],
          "name": "stdout"
        },
        {
          "output_type": "execute_result",
          "data": {
            "text/plain": [
              "72"
            ]
          },
          "metadata": {
            "tags": []
          },
          "execution_count": 38
        }
      ]
    },
    {
      "cell_type": "code",
      "metadata": {
        "id": "vAnsNQd0EGng",
        "colab_type": "code",
        "colab": {
          "base_uri": "https://localhost:8080/",
          "height": 52
        },
        "outputId": "5fe9755c-68ce-4ff2-c308-67a2b83b8b3f"
      },
      "source": [
        "\"\"\"import random\n",
        "def random_matrix(m, n):\n",
        "    out = []\n",
        "    for row in range(m):\n",
        "        out.append([random.random() for _ in range(n)])\n",
        "    return out\n",
        "\n",
        "randm = random_matrix(2, 3)\n",
        "randm\"\"\""
      ],
      "execution_count": 39,
      "outputs": [
        {
          "output_type": "execute_result",
          "data": {
            "application/vnd.google.colaboratory.intrinsic+json": {
              "type": "string"
            },
            "text/plain": [
              "'import random\\ndef random_matrix(m, n):\\n    out = []\\n    for row in range(m):\\n        out.append([random.random() for _ in range(n)])\\n    return out\\n\\nrandm = random_matrix(2, 3)\\nrandm'"
            ]
          },
          "metadata": {
            "tags": []
          },
          "execution_count": 39
        }
      ]
    },
    {
      "cell_type": "code",
      "metadata": {
        "id": "BwuEFZhu0L0M",
        "colab_type": "code",
        "colab": {
          "base_uri": "https://localhost:8080/",
          "height": 67
        },
        "outputId": "3b44c574-7bcb-43b6-ab40-49233153637c"
      },
      "source": [
        "import random\n",
        "def gen_matriz_cuadrada(n):\n",
        "  matriz=[]\n",
        "  for fila in range(n):\n",
        "    matriz.append([random.random()for _ in range(n)])\n",
        "  return matriz\n",
        "\n",
        "matriz=gen_matriz_cuadrada(3)\n",
        "matriz"
      ],
      "execution_count": 40,
      "outputs": [
        {
          "output_type": "execute_result",
          "data": {
            "text/plain": [
              "[[0.711713570956932, 0.022190081251522664, 0.5604325205764898],\n",
              " [0.5405555338019479, 0.2605218354982308, 0.5355184663555076],\n",
              " [0.0336099176695146, 0.30266952986624673, 0.8804030540144082]]"
            ]
          },
          "metadata": {
            "tags": []
          },
          "execution_count": 40
        }
      ]
    },
    {
      "cell_type": "code",
      "metadata": {
        "scrolled": true,
        "id": "2UQXOCsIEGnj",
        "colab_type": "code",
        "colab": {
          "base_uri": "https://localhost:8080/",
          "height": 35
        },
        "outputId": "5415b839-e125-4e23-933d-43f5d642cbae"
      },
      "source": [
        "\"\"\"%%time\n",
        "randa = random_matrix(600, 100)\n",
        "randb = random_matrix(100, 600)\n",
        "x = matmul(randa, randb)\"\"\""
      ],
      "execution_count": 41,
      "outputs": [
        {
          "output_type": "execute_result",
          "data": {
            "application/vnd.google.colaboratory.intrinsic+json": {
              "type": "string"
            },
            "text/plain": [
              "'%%time\\nranda = random_matrix(600, 100)\\nrandb = random_matrix(100, 600)\\nx = matmul(randa, randb)'"
            ]
          },
          "metadata": {
            "tags": []
          },
          "execution_count": 41
        }
      ]
    },
    {
      "cell_type": "code",
      "metadata": {
        "id": "sAelqb2J04xh",
        "colab_type": "code",
        "colab": {
          "base_uri": "https://localhost:8080/",
          "height": 50
        },
        "outputId": "cfdb1d55-082a-48ab-d023-1ecab9089b76"
      },
      "source": [
        "#no se usa la funcion print porque puede alterar los resultados de tiempo\n",
        "%%time\n",
        "n=200\n",
        "mat_a=gen_matriz_cuadrada(n)\n",
        "mat_b=gen_matriz_cuadrada(n)\n",
        "matsum(mat_a,mat_b)"
      ],
      "execution_count": 42,
      "outputs": [
        {
          "output_type": "stream",
          "text": [
            "CPU times: user 20.5 ms, sys: 2.92 ms, total: 23.4 ms\n",
            "Wall time: 27 ms\n"
          ],
          "name": "stdout"
        }
      ]
    },
    {
      "cell_type": "code",
      "metadata": {
        "id": "YKpzUC5eEGnn",
        "colab_type": "code",
        "colab": {
          "base_uri": "https://localhost:8080/",
          "height": 52
        },
        "outputId": "fb179d29-0a7b-4902-cd96-874b71a1da30"
      },
      "source": [
        "\"\"\"# Maybe that's not that bad?  Let's try a simpler case.\n",
        "def python_dot_product(xs, ys):\n",
        "    return sum(x * y for x, y in zip(xs, ys))\"\"\""
      ],
      "execution_count": 43,
      "outputs": [
        {
          "output_type": "execute_result",
          "data": {
            "application/vnd.google.colaboratory.intrinsic+json": {
              "type": "string"
            },
            "text/plain": [
              "\"# Maybe that's not that bad?  Let's try a simpler case.\\ndef python_dot_product(xs, ys):\\n    return sum(x * y for x, y in zip(xs, ys))\""
            ]
          },
          "metadata": {
            "tags": []
          },
          "execution_count": 43
        }
      ]
    },
    {
      "cell_type": "code",
      "metadata": {
        "id": "wd3zkR_2-B18",
        "colab_type": "code",
        "colab": {}
      },
      "source": [
        "#funcion aleatoria para usar con matrices cuadradas\n",
        "def mat_sum_val(a):\n",
        "  sum=0\n",
        "  n=len(a)\n",
        "  for i in range(n):\n",
        "    for j in range(n):\n",
        "      sum+=a[i][j]\n",
        "  return sum  "
      ],
      "execution_count": 44,
      "outputs": []
    },
    {
      "cell_type": "code",
      "metadata": {
        "id": "Ep-sT4VmEGnr",
        "colab_type": "code",
        "colab": {}
      },
      "source": [
        "%%fortran\n",
        "subroutine fortran_dot_product(xs, ys, result)\n",
        "    double precision, intent(in) :: xs(:)\n",
        "    double precision, intent(in) :: ys(:)\n",
        "    double precision, intent(out) :: result\n",
        "    \n",
        "    result = sum(xs * ys)\n",
        "end"
      ],
      "execution_count": 45,
      "outputs": []
    },
    {
      "cell_type": "code",
      "metadata": {
        "id": "3ky0dkQT3ns9",
        "colab_type": "code",
        "colab": {}
      },
      "source": [
        "%%fortran\n",
        "subroutine fortran_mat_sum(x,result)\n",
        "    double precision, intent(in) :: x(:)\n",
        "    double precision, intent(out) :: result\n",
        "\n",
        "    result=sum(x)\n",
        "end"
      ],
      "execution_count": 46,
      "outputs": []
    },
    {
      "cell_type": "code",
      "metadata": {
        "id": "bTNuxuW-EGn3",
        "colab_type": "code",
        "colab": {
          "base_uri": "https://localhost:8080/",
          "height": 35
        },
        "outputId": "e83675a0-3a7f-4927-93cc-2dcff9d92725"
      },
      "source": [
        "\"\"\"list_data = [float(i) for i in range(100000)]\n",
        "array_data = np.array(list_data)\"\"\""
      ],
      "execution_count": 47,
      "outputs": [
        {
          "output_type": "execute_result",
          "data": {
            "application/vnd.google.colaboratory.intrinsic+json": {
              "type": "string"
            },
            "text/plain": [
              "'list_data = [float(i) for i in range(100000)]\\narray_data = np.array(list_data)'"
            ]
          },
          "metadata": {
            "tags": []
          },
          "execution_count": 47
        }
      ]
    },
    {
      "cell_type": "code",
      "metadata": {
        "id": "UgKnj8ny4TCq",
        "colab_type": "code",
        "colab": {}
      },
      "source": [
        "mat=gen_matriz_cuadrada(1000)\n",
        "arr=np.array(mat)"
      ],
      "execution_count": 48,
      "outputs": []
    },
    {
      "cell_type": "code",
      "metadata": {
        "id": "4g0gRyYjEGn8",
        "colab_type": "code",
        "colab": {
          "base_uri": "https://localhost:8080/",
          "height": 67
        },
        "outputId": "b1521116-fb7c-43e9-f4a6-7086ce9ca1df"
      },
      "source": [
        "%%time\n",
        "mat_sum_val(mat)\n"
      ],
      "execution_count": 49,
      "outputs": [
        {
          "output_type": "stream",
          "text": [
            "CPU times: user 68.7 ms, sys: 1.3 ms, total: 70 ms\n",
            "Wall time: 70.8 ms\n"
          ],
          "name": "stdout"
        },
        {
          "output_type": "execute_result",
          "data": {
            "text/plain": [
              "499611.2958347072"
            ]
          },
          "metadata": {
            "tags": []
          },
          "execution_count": 49
        }
      ]
    },
    {
      "cell_type": "code",
      "metadata": {
        "id": "otW9bCtqEGn_",
        "colab_type": "code",
        "colab": {
          "base_uri": "https://localhost:8080/",
          "height": 67
        },
        "outputId": "9792eef3-1338-4594-df9b-04997a26c8c9"
      },
      "source": [
        "%%time\n",
        "fortran_mat_sum(mat)\n"
      ],
      "execution_count": 50,
      "outputs": [
        {
          "output_type": "stream",
          "text": [
            "CPU times: user 51.2 ms, sys: 3.74 ms, total: 54.9 ms\n",
            "Wall time: 56.2 ms\n"
          ],
          "name": "stdout"
        },
        {
          "output_type": "execute_result",
          "data": {
            "text/plain": [
              "499611.29583473626"
            ]
          },
          "metadata": {
            "tags": []
          },
          "execution_count": 50
        }
      ]
    },
    {
      "cell_type": "markdown",
      "metadata": {
        "id": "pHyovG_IEGoD",
        "colab_type": "text"
      },
      "source": [
        "<center><img src=\"images/sloth.gif\" alt=\"Drawing\" style=\"width: 1080px;\"/></center>\n"
      ]
    },
    {
      "cell_type": "markdown",
      "metadata": {
        "id": "JHLlmbGKEGoD",
        "colab_type": "text"
      },
      "source": [
        "## Why is the Python Version so Much Slower?"
      ]
    },
    {
      "cell_type": "code",
      "metadata": {
        "id": "1Xwd7rgSEGoE",
        "colab_type": "code",
        "colab": {
          "base_uri": "https://localhost:8080/",
          "height": 52
        },
        "outputId": "f767fa67-1af5-439a-f155-3eff3ecc3b28"
      },
      "source": [
        "\"\"\"# Dynamic typing.\n",
        "def mul_elemwise(xs, ys):\n",
        "    return [x * y for x, y in zip(xs, ys)]\n",
        "\n",
        "mul_elemwise([1, 2, 3, 4], [1, 2 + 0j, 3.0, 'four'])\n",
        "#[type(x) for x in _]\"\"\""
      ],
      "execution_count": 51,
      "outputs": [
        {
          "output_type": "execute_result",
          "data": {
            "application/vnd.google.colaboratory.intrinsic+json": {
              "type": "string"
            },
            "text/plain": [
              "\"# Dynamic typing.\\ndef mul_elemwise(xs, ys):\\n    return [x * y for x, y in zip(xs, ys)]\\n\\nmul_elemwise([1, 2, 3, 4], [1, 2 + 0j, 3.0, 'four'])\\n#[type(x) for x in _]\""
            ]
          },
          "metadata": {
            "tags": []
          },
          "execution_count": 51
        }
      ]
    },
    {
      "cell_type": "code",
      "metadata": {
        "id": "xXUhi4ITDbP6",
        "colab_type": "code",
        "colab": {
          "base_uri": "https://localhost:8080/",
          "height": 104
        },
        "outputId": "d06c9d5a-92b2-416a-93c1-85c95edd1b3e"
      },
      "source": [
        "def mul_v(xs, ys):\n",
        "    return [(x*x-1) * y for x, y in zip(xs, ys)]\n",
        "\n",
        "mul_v([3,6,9,12], [3,6 + 1j, 5.0, 'five'])\n",
        "#[type(x) for x in _]"
      ],
      "execution_count": 52,
      "outputs": [
        {
          "output_type": "execute_result",
          "data": {
            "text/plain": [
              "[24,\n",
              " (210+35j),\n",
              " 400.0,\n",
              " 'fivefivefivefivefivefivefivefivefivefivefivefivefivefivefivefivefivefivefivefivefivefivefivefivefivefivefivefivefivefivefivefivefivefivefivefivefivefivefivefivefivefivefivefivefivefivefivefivefivefivefivefivefivefivefivefivefivefivefivefivefivefivefivefivefivefivefivefivefivefivefivefivefivefivefivefivefivefivefivefivefivefivefivefivefivefivefivefivefivefivefivefivefivefivefivefivefivefivefivefivefivefivefivefivefivefivefivefivefivefivefivefivefivefivefivefivefivefivefivefivefivefivefivefivefivefivefivefivefivefivefivefivefivefivefivefivefivefivefivefivefivefivefive']"
            ]
          },
          "metadata": {
            "tags": []
          },
          "execution_count": 52
        }
      ]
    },
    {
      "cell_type": "code",
      "metadata": {
        "id": "0V4BG4WSEGoI",
        "colab_type": "code",
        "colab": {
          "base_uri": "https://localhost:8080/",
          "height": 52
        },
        "outputId": "61f46fff-9ac4-4ba8-9309-f8355db32c7b"
      },
      "source": [
        "\"\"\"# Interpretation overhead.\n",
        "source_code = 'a + b * c'\n",
        "bytecode = compile(source_code, '', 'eval')\n",
        "import dis; dis.dis(bytecode)\"\"\""
      ],
      "execution_count": 53,
      "outputs": [
        {
          "output_type": "execute_result",
          "data": {
            "application/vnd.google.colaboratory.intrinsic+json": {
              "type": "string"
            },
            "text/plain": [
              "\"# Interpretation overhead.\\nsource_code = 'a + b * c'\\nbytecode = compile(source_code, '', 'eval')\\nimport dis; dis.dis(bytecode)\""
            ]
          },
          "metadata": {
            "tags": []
          },
          "execution_count": 53
        }
      ]
    },
    {
      "cell_type": "code",
      "metadata": {
        "id": "SQ777ixRE3OT",
        "colab_type": "code",
        "colab": {
          "base_uri": "https://localhost:8080/",
          "height": 118
        },
        "outputId": "2202d353-9efb-42d3-b5ab-20c418968744"
      },
      "source": [
        "source_code = 'a * b + c'\n",
        "bytecode = compile(source_code, '', 'eval')\n",
        "import dis; dis.dis(bytecode)"
      ],
      "execution_count": 54,
      "outputs": [
        {
          "output_type": "stream",
          "text": [
            "  1           0 LOAD_NAME                0 (a)\n",
            "              2 LOAD_NAME                1 (b)\n",
            "              4 BINARY_MULTIPLY\n",
            "              6 LOAD_NAME                2 (c)\n",
            "              8 BINARY_ADD\n",
            "             10 RETURN_VALUE\n"
          ],
          "name": "stdout"
        }
      ]
    },
    {
      "cell_type": "markdown",
      "metadata": {
        "id": "jqjG3oTEEGoN",
        "colab_type": "text"
      },
      "source": [
        "## Why is the Python Version so Slow?\n",
        "- Dynamic typing means that every single operation requires dispatching on the input type.\n",
        "- Having an interpreter means that every instruction is fetched and dispatched at runtime.\n",
        "- Other overheads:\n",
        "  - Arbitrary-size integers.\n",
        "  - Reference-counted garbage collection."
      ]
    },
    {
      "cell_type": "markdown",
      "metadata": {
        "id": "j6kYZAQBEGoO",
        "colab_type": "text"
      },
      "source": [
        "> This is the paradox that we have to work with when we're doing scientific or numerically-intensive Python. What makes Python fast for development -- this high-level, interpreted, and dynamically-typed aspect of the language -- is exactly what makes it slow for code execution.\n",
        "\n",
        "- Jake VanderPlas, [*Losing Your Loops: Fast Numerical Computing with NumPy*](https://www.youtube.com/watch?v=EEUXKG97YRw)"
      ]
    },
    {
      "cell_type": "markdown",
      "metadata": {
        "id": "fiac7c4MEGoO",
        "colab_type": "text"
      },
      "source": [
        "# What Do We Do?"
      ]
    },
    {
      "cell_type": "markdown",
      "metadata": {
        "id": "vaq-5vtjEGoP",
        "colab_type": "text"
      },
      "source": [
        "<center><img src=\"images/runaway.gif\" alt=\"Drawing\" style=\"width: 50%;\"/></center>"
      ]
    },
    {
      "cell_type": "markdown",
      "metadata": {
        "id": "HWbJBCpHEGoQ",
        "colab_type": "text"
      },
      "source": [
        "<center><img src=\"images/thisisfine.gif\" alt=\"Drawing\" style=\"width: 1080px;\"/></center>"
      ]
    },
    {
      "cell_type": "markdown",
      "metadata": {
        "id": "YdeY6hanEGoQ",
        "colab_type": "text"
      },
      "source": [
        "- Python is slow for numerical computation because it performs dynamic dispatch on every operation we perform..."
      ]
    },
    {
      "cell_type": "markdown",
      "metadata": {
        "collapsed": true,
        "id": "dgJ0ERLkEGoR",
        "colab_type": "text"
      },
      "source": [
        "- ...but often, we just want to do the same thing over and over in a loop!"
      ]
    },
    {
      "cell_type": "markdown",
      "metadata": {
        "id": "0Ubvx-SEEGoS",
        "colab_type": "text"
      },
      "source": [
        "- If we don't need Python's dynamicism, we don't want to pay (much) for it."
      ]
    },
    {
      "cell_type": "markdown",
      "metadata": {
        "id": "o7x5jBnQEGoS",
        "colab_type": "text"
      },
      "source": [
        "- **Idea:** Dispatch **once per operation** instead of **once per element**."
      ]
    },
    {
      "cell_type": "code",
      "metadata": {
        "id": "qSjlS5qAEGoT",
        "colab_type": "code",
        "colab": {
          "base_uri": "https://localhost:8080/",
          "height": 35
        },
        "outputId": "33ded79d-57c6-412e-b734-98a73c14213f"
      },
      "source": [
        "\"\"\"import numpy as np\n",
        "\n",
        "data = np.array([1, 2, 3, 4])\n",
        "data\"\"\""
      ],
      "execution_count": 55,
      "outputs": [
        {
          "output_type": "execute_result",
          "data": {
            "application/vnd.google.colaboratory.intrinsic+json": {
              "type": "string"
            },
            "text/plain": [
              "'import numpy as np\\n\\ndata = np.array([1, 2, 3, 4])\\ndata'"
            ]
          },
          "metadata": {
            "tags": []
          },
          "execution_count": 55
        }
      ]
    },
    {
      "cell_type": "code",
      "metadata": {
        "id": "a3MjbvrdFYEx",
        "colab_type": "code",
        "colab": {}
      },
      "source": [
        "import numpy as np\n",
        "datos=np.array([2,4,6,8])"
      ],
      "execution_count": 56,
      "outputs": []
    },
    {
      "cell_type": "code",
      "metadata": {
        "id": "GPHa3SnNEGoW",
        "colab_type": "code",
        "colab": {
          "base_uri": "https://localhost:8080/",
          "height": 35
        },
        "outputId": "a634ac6c-b06a-4bb7-8445-60b15ba99f5a"
      },
      "source": [
        "\"\"\"data + data\"\"\""
      ],
      "execution_count": 57,
      "outputs": [
        {
          "output_type": "execute_result",
          "data": {
            "application/vnd.google.colaboratory.intrinsic+json": {
              "type": "string"
            },
            "text/plain": [
              "'data + data'"
            ]
          },
          "metadata": {
            "tags": []
          },
          "execution_count": 57
        }
      ]
    },
    {
      "cell_type": "code",
      "metadata": {
        "id": "yzb4v4Nzc6-b",
        "colab_type": "code",
        "colab": {
          "base_uri": "https://localhost:8080/",
          "height": 34
        },
        "outputId": "3c87b6b8-8f7d-476b-fe1f-a4d40ec3e8f6"
      },
      "source": [
        "2*datos-datos"
      ],
      "execution_count": 58,
      "outputs": [
        {
          "output_type": "execute_result",
          "data": {
            "text/plain": [
              "array([2, 4, 6, 8])"
            ]
          },
          "metadata": {
            "tags": []
          },
          "execution_count": 58
        }
      ]
    },
    {
      "cell_type": "code",
      "metadata": {
        "id": "gI3f85VxEGoa",
        "colab_type": "code",
        "colab": {
          "base_uri": "https://localhost:8080/",
          "height": 35
        },
        "outputId": "d010c69d-d42b-41ba-c458-4263b1cbed1a"
      },
      "source": [
        "\"\"\"%%time\n",
        "# Naive dot product\n",
        "(array_data * array_data).sum()\"\"\""
      ],
      "execution_count": 59,
      "outputs": [
        {
          "output_type": "execute_result",
          "data": {
            "application/vnd.google.colaboratory.intrinsic+json": {
              "type": "string"
            },
            "text/plain": [
              "'%%time\\n# Naive dot product\\n(array_data * array_data).sum()'"
            ]
          },
          "metadata": {
            "tags": []
          },
          "execution_count": 59
        }
      ]
    },
    {
      "cell_type": "code",
      "metadata": {
        "id": "I32qqZbmdGj-",
        "colab_type": "code",
        "colab": {
          "base_uri": "https://localhost:8080/",
          "height": 67
        },
        "outputId": "c6c49732-8295-4de0-b6e2-9d73fc89e9c5"
      },
      "source": [
        "%%time\n",
        "(datos*datos).sum()"
      ],
      "execution_count": 60,
      "outputs": [
        {
          "output_type": "stream",
          "text": [
            "CPU times: user 81 µs, sys: 14 µs, total: 95 µs\n",
            "Wall time: 102 µs\n"
          ],
          "name": "stdout"
        },
        {
          "output_type": "execute_result",
          "data": {
            "text/plain": [
              "120"
            ]
          },
          "metadata": {
            "tags": []
          },
          "execution_count": 60
        }
      ]
    },
    {
      "cell_type": "code",
      "metadata": {
        "id": "3_2hPNO7EGof",
        "colab_type": "code",
        "colab": {
          "base_uri": "https://localhost:8080/",
          "height": 35
        },
        "outputId": "484614a2-7715-4023-be5c-069ff7c57239"
      },
      "source": [
        "\"\"\"%%time\n",
        "# Built-in dot product.\n",
        "array_data.dot(array_data)\"\"\""
      ],
      "execution_count": 61,
      "outputs": [
        {
          "output_type": "execute_result",
          "data": {
            "application/vnd.google.colaboratory.intrinsic+json": {
              "type": "string"
            },
            "text/plain": [
              "'%%time\\n# Built-in dot product.\\narray_data.dot(array_data)'"
            ]
          },
          "metadata": {
            "tags": []
          },
          "execution_count": 61
        }
      ]
    },
    {
      "cell_type": "code",
      "metadata": {
        "id": "kYEZnyDmdVgj",
        "colab_type": "code",
        "colab": {
          "base_uri": "https://localhost:8080/",
          "height": 67
        },
        "outputId": "f6c4f33a-d0c2-4d65-e8e4-457c14599796"
      },
      "source": [
        "%%time\n",
        "datos.dot(datos)"
      ],
      "execution_count": 62,
      "outputs": [
        {
          "output_type": "stream",
          "text": [
            "CPU times: user 43 µs, sys: 8 µs, total: 51 µs\n",
            "Wall time: 74.4 µs\n"
          ],
          "name": "stdout"
        },
        {
          "output_type": "execute_result",
          "data": {
            "text/plain": [
              "120"
            ]
          },
          "metadata": {
            "tags": []
          },
          "execution_count": 62
        }
      ]
    },
    {
      "cell_type": "code",
      "metadata": {
        "id": "stsH0ekdEGoi",
        "colab_type": "code",
        "colab": {
          "base_uri": "https://localhost:8080/",
          "height": 67
        },
        "outputId": "cdd5f4da-211b-4e78-eb9c-588e7f6f0f8a"
      },
      "source": [
        "%%time\n",
        "fortran_dot_product(datos,datos)"
      ],
      "execution_count": 63,
      "outputs": [
        {
          "output_type": "stream",
          "text": [
            "CPU times: user 24 µs, sys: 4 µs, total: 28 µs\n",
            "Wall time: 31.9 µs\n"
          ],
          "name": "stdout"
        },
        {
          "output_type": "execute_result",
          "data": {
            "text/plain": [
              "120.0"
            ]
          },
          "metadata": {
            "tags": []
          },
          "execution_count": 63
        }
      ]
    },
    {
      "cell_type": "code",
      "metadata": {
        "id": "fbk_rLySEGom",
        "colab_type": "code",
        "colab": {
          "base_uri": "https://localhost:8080/",
          "height": 35
        },
        "outputId": "0aa989ee-7189-4d7f-b1e2-0f074c0d589e"
      },
      "source": [
        "\"\"\"# Numpy won't allow us to write a string into an int array.\n",
        "data[0] = \"foo\" \"\"\""
      ],
      "execution_count": 64,
      "outputs": [
        {
          "output_type": "execute_result",
          "data": {
            "application/vnd.google.colaboratory.intrinsic+json": {
              "type": "string"
            },
            "text/plain": [
              "'# Numpy won\\'t allow us to write a string into an int array.\\ndata[0] = \"foo\" '"
            ]
          },
          "metadata": {
            "tags": []
          },
          "execution_count": 64
        }
      ]
    },
    {
      "cell_type": "code",
      "metadata": {
        "id": "uTn9yMQLd0gh",
        "colab_type": "code",
        "colab": {
          "base_uri": "https://localhost:8080/",
          "height": 35
        },
        "outputId": "13ab8398-351d-42ba-be8a-31234ccb4d62"
      },
      "source": [
        "#numpy no permite agregar o modificar variables con valores que no son del mismo tipo, al igual que los arreglos en c\n",
        "#el siguiente codigo genera error, por lo que esta comentado\n",
        "\"\"\"datos[2]=\"true\" \"\"\""
      ],
      "execution_count": 65,
      "outputs": [
        {
          "output_type": "execute_result",
          "data": {
            "application/vnd.google.colaboratory.intrinsic+json": {
              "type": "string"
            },
            "text/plain": [
              "'datos[2]=\"true\" '"
            ]
          },
          "metadata": {
            "tags": []
          },
          "execution_count": 65
        }
      ]
    },
    {
      "cell_type": "code",
      "metadata": {
        "id": "uSFjngt3EGop",
        "colab_type": "code",
        "colab": {
          "base_uri": "https://localhost:8080/",
          "height": 35
        },
        "outputId": "e602896e-e951-488b-82c5-914711846460"
      },
      "source": [
        "\"\"\"# We also can't grow an array once it's created.\n",
        "data.append(3)\"\"\""
      ],
      "execution_count": 66,
      "outputs": [
        {
          "output_type": "execute_result",
          "data": {
            "application/vnd.google.colaboratory.intrinsic+json": {
              "type": "string"
            },
            "text/plain": [
              "\"# We also can't grow an array once it's created.\\ndata.append(3)\""
            ]
          },
          "metadata": {
            "tags": []
          },
          "execution_count": 66
        }
      ]
    },
    {
      "cell_type": "code",
      "metadata": {
        "id": "MJjzkdOTeM-Q",
        "colab_type": "code",
        "colab": {
          "base_uri": "https://localhost:8080/",
          "height": 35
        },
        "outputId": "0524fec7-1b60-466d-e133-ab7974add622"
      },
      "source": [
        "#y no se puede agregar nada nuevo despues de creado\n",
        "\"\"\"datos.append(28)\"\"\""
      ],
      "execution_count": 67,
      "outputs": [
        {
          "output_type": "execute_result",
          "data": {
            "application/vnd.google.colaboratory.intrinsic+json": {
              "type": "string"
            },
            "text/plain": [
              "'datos.append(28)'"
            ]
          },
          "metadata": {
            "tags": []
          },
          "execution_count": 67
        }
      ]
    },
    {
      "cell_type": "code",
      "metadata": {
        "id": "Z1kJyYzyEGos",
        "colab_type": "code",
        "colab": {
          "base_uri": "https://localhost:8080/",
          "height": 35
        },
        "outputId": "20a0ff12-d133-452e-c55a-bb4be602f91e"
      },
      "source": [
        "\"\"\"# We **can** reshape an array though.\n",
        "two_by_two = data.reshape(2, 2)\n",
        "two_by_two\"\"\""
      ],
      "execution_count": 68,
      "outputs": [
        {
          "output_type": "execute_result",
          "data": {
            "application/vnd.google.colaboratory.intrinsic+json": {
              "type": "string"
            },
            "text/plain": [
              "'# We **can** reshape an array though.\\ntwo_by_two = data.reshape(2, 2)\\ntwo_by_two'"
            ]
          },
          "metadata": {
            "tags": []
          },
          "execution_count": 68
        }
      ]
    },
    {
      "cell_type": "code",
      "metadata": {
        "id": "XsK3wEwNedgr",
        "colab_type": "code",
        "colab": {
          "base_uri": "https://localhost:8080/",
          "height": 50
        },
        "outputId": "818b75d1-5803-4265-8014-35e07c9aa2be"
      },
      "source": [
        "#se puede redimensionar el arreglo de la siguiente manera\n",
        "arreglo=np.array([1,2,3,4,5,6])\n",
        "dosPorTres=arreglo.reshape(2,3)\n",
        "dosPorTres"
      ],
      "execution_count": 69,
      "outputs": [
        {
          "output_type": "execute_result",
          "data": {
            "text/plain": [
              "array([[1, 2, 3],\n",
              "       [4, 5, 6]])"
            ]
          },
          "metadata": {
            "tags": []
          },
          "execution_count": 69
        }
      ]
    },
    {
      "cell_type": "markdown",
      "metadata": {
        "id": "cqsQBOLJEGoy",
        "colab_type": "text"
      },
      "source": [
        "Numpy arrays are:\n",
        "\n",
        "- Fixed-type"
      ]
    },
    {
      "cell_type": "markdown",
      "metadata": {
        "id": "TEsgPn_fEGoz",
        "colab_type": "text"
      },
      "source": [
        "- Size-immutable"
      ]
    },
    {
      "cell_type": "markdown",
      "metadata": {
        "id": "RsIpjkZQEGo0",
        "colab_type": "text"
      },
      "source": [
        "- Multi-dimensional"
      ]
    },
    {
      "cell_type": "markdown",
      "metadata": {
        "id": "zP9Ky1xaEGo1",
        "colab_type": "text"
      },
      "source": [
        "- Fast\\*"
      ]
    },
    {
      "cell_type": "markdown",
      "metadata": {
        "id": "JbLNMqIkEGo2",
        "colab_type": "text"
      },
      "source": [
        "\\* If you use them correctly."
      ]
    },
    {
      "cell_type": "markdown",
      "metadata": {
        "id": "OaSjtGmbEGo3",
        "colab_type": "text"
      },
      "source": [
        "# What's in an Array?"
      ]
    },
    {
      "cell_type": "code",
      "metadata": {
        "id": "o6TpCzqJEGo4",
        "colab_type": "code",
        "colab": {
          "base_uri": "https://localhost:8080/",
          "height": 52
        },
        "outputId": "910531a8-833e-4479-da4c-78eac482e6ea"
      },
      "source": [
        "\"\"\"arr = np.array([1, 2, 3, 4, 5, 6], dtype='int16').reshape(2, 3)\n",
        "print(\"Array:\\n\", arr, sep='')\n",
        "print(\"===========\")\n",
        "print(\"DType:\", arr.dtype)\n",
        "print(\"Shape:\", arr.shape)\n",
        "print(\"Strides:\", arr.strides)\n",
        "print(\"Data:\", arr.data.tobytes())\"\"\""
      ],
      "execution_count": 70,
      "outputs": [
        {
          "output_type": "execute_result",
          "data": {
            "application/vnd.google.colaboratory.intrinsic+json": {
              "type": "string"
            },
            "text/plain": [
              "'arr = np.array([1, 2, 3, 4, 5, 6], dtype=\\'int16\\').reshape(2, 3)\\nprint(\"Array:\\n\", arr, sep=\\'\\')\\nprint(\"===========\")\\nprint(\"DType:\", arr.dtype)\\nprint(\"Shape:\", arr.shape)\\nprint(\"Strides:\", arr.strides)\\nprint(\"Data:\", arr.data.tobytes())'"
            ]
          },
          "metadata": {
            "tags": []
          },
          "execution_count": 70
        }
      ]
    },
    {
      "cell_type": "code",
      "metadata": {
        "id": "LVPPFIkenrNR",
        "colab_type": "code",
        "colab": {
          "base_uri": "https://localhost:8080/",
          "height": 50
        },
        "outputId": "56eb1bd5-376a-41b3-f6ca-1b2a6a3086b1"
      },
      "source": [
        "#los arreglos son conjuntos de datos de un mismo tipo, ya que python no lo trae asi por defecto, se usa la libreria numpy\n",
        "arreglo=np.array([2,4,6,8,10,12])\n",
        "print(arreglo.max())\n",
        "arreglo"
      ],
      "execution_count": 71,
      "outputs": [
        {
          "output_type": "stream",
          "text": [
            "12\n"
          ],
          "name": "stdout"
        },
        {
          "output_type": "execute_result",
          "data": {
            "text/plain": [
              "array([ 2,  4,  6,  8, 10, 12])"
            ]
          },
          "metadata": {
            "tags": []
          },
          "execution_count": 71
        }
      ]
    },
    {
      "cell_type": "markdown",
      "metadata": {
        "id": "hq2kpXTDEGo-",
        "colab_type": "text"
      },
      "source": [
        "# Core Operations\n",
        "\n",
        "- Vectorized **ufuncs** for elementwise operations.\n",
        "- Fancy indexing and masking for selection and filtering.\n",
        "- Aggregations across axes.\n",
        "- Broadcasting"
      ]
    },
    {
      "cell_type": "markdown",
      "metadata": {
        "id": "9xU51uVEEGo_",
        "colab_type": "text"
      },
      "source": [
        "# UFuncs\n",
        "\n",
        "UFuncs (universal functions) are functions that operate elementwise on one or more arrays."
      ]
    },
    {
      "cell_type": "code",
      "metadata": {
        "id": "QlpTNestEGo_",
        "colab_type": "code",
        "colab": {
          "base_uri": "https://localhost:8080/",
          "height": 35
        },
        "outputId": "c5a01ba7-3860-4b5e-cc14-ec6cb545a4b9"
      },
      "source": [
        "\"\"\"data = np.arange(15).reshape(3, 5)\n",
        "data\"\"\""
      ],
      "execution_count": 72,
      "outputs": [
        {
          "output_type": "execute_result",
          "data": {
            "application/vnd.google.colaboratory.intrinsic+json": {
              "type": "string"
            },
            "text/plain": [
              "'data = np.arange(15).reshape(3, 5)\\ndata'"
            ]
          },
          "metadata": {
            "tags": []
          },
          "execution_count": 72
        }
      ]
    },
    {
      "cell_type": "code",
      "metadata": {
        "id": "PlaJOsemo8m6",
        "colab_type": "code",
        "colab": {
          "base_uri": "https://localhost:8080/",
          "height": 67
        },
        "outputId": "52f25329-a9d6-4ad4-9880-e890bc0a5e49"
      },
      "source": [
        "import random\n",
        "\n",
        "arreglo=([int(random.random()*10) for _ in range(15)])\n",
        "arreglo=np.array(arreglo)\n",
        "arreglo=arreglo.reshape(3,5)\n",
        "arreglo"
      ],
      "execution_count": 73,
      "outputs": [
        {
          "output_type": "execute_result",
          "data": {
            "text/plain": [
              "array([[4, 3, 6, 5, 3],\n",
              "       [8, 2, 5, 4, 2],\n",
              "       [3, 2, 9, 2, 0]])"
            ]
          },
          "metadata": {
            "tags": []
          },
          "execution_count": 73
        }
      ]
    },
    {
      "cell_type": "code",
      "metadata": {
        "id": "6JdVQ72lEGpF",
        "colab_type": "code",
        "colab": {
          "base_uri": "https://localhost:8080/",
          "height": 35
        },
        "outputId": "3504689c-da59-41cf-e30f-f7d044fd0511"
      },
      "source": [
        "\"\"\"# Binary operators.\n",
        "data * data\"\"\""
      ],
      "execution_count": 74,
      "outputs": [
        {
          "output_type": "execute_result",
          "data": {
            "application/vnd.google.colaboratory.intrinsic+json": {
              "type": "string"
            },
            "text/plain": [
              "'# Binary operators.\\ndata * data'"
            ]
          },
          "metadata": {
            "tags": []
          },
          "execution_count": 74
        }
      ]
    },
    {
      "cell_type": "code",
      "metadata": {
        "id": "S0LuvnASrhfe",
        "colab_type": "code",
        "colab": {
          "base_uri": "https://localhost:8080/",
          "height": 67
        },
        "outputId": "a1ee8a19-f0a6-4954-da20-bd35a45e1269"
      },
      "source": [
        "(arreglo+arreglo)*(arreglo)"
      ],
      "execution_count": 75,
      "outputs": [
        {
          "output_type": "execute_result",
          "data": {
            "text/plain": [
              "array([[ 32,  18,  72,  50,  18],\n",
              "       [128,   8,  50,  32,   8],\n",
              "       [ 18,   8, 162,   8,   0]])"
            ]
          },
          "metadata": {
            "tags": []
          },
          "execution_count": 75
        }
      ]
    },
    {
      "cell_type": "code",
      "metadata": {
        "id": "qa1BNv9yEGpJ",
        "colab_type": "code",
        "colab": {
          "base_uri": "https://localhost:8080/",
          "height": 35
        },
        "outputId": "5815e485-4f7f-4b9f-ed94-609a2ef29d4a"
      },
      "source": [
        "\"\"\"# Unary functions.\n",
        "np.sqrt(data)\"\"\""
      ],
      "execution_count": 76,
      "outputs": [
        {
          "output_type": "execute_result",
          "data": {
            "application/vnd.google.colaboratory.intrinsic+json": {
              "type": "string"
            },
            "text/plain": [
              "'# Unary functions.\\nnp.sqrt(data)'"
            ]
          },
          "metadata": {
            "tags": []
          },
          "execution_count": 76
        }
      ]
    },
    {
      "cell_type": "code",
      "metadata": {
        "id": "5qiNLCzxrrXW",
        "colab_type": "code",
        "colab": {
          "base_uri": "https://localhost:8080/",
          "height": 34
        },
        "outputId": "6bbdc344-cfd4-4c15-cbc4-fe9e3cf4e996"
      },
      "source": [
        "np.max(arreglo)"
      ],
      "execution_count": 77,
      "outputs": [
        {
          "output_type": "execute_result",
          "data": {
            "text/plain": [
              "9"
            ]
          },
          "metadata": {
            "tags": []
          },
          "execution_count": 77
        }
      ]
    },
    {
      "cell_type": "code",
      "metadata": {
        "id": "LoR8f879EGpM",
        "colab_type": "code",
        "colab": {
          "base_uri": "https://localhost:8080/",
          "height": 35
        },
        "outputId": "d9f06095-e223-4bc9-ed06-8075e61381e2"
      },
      "source": [
        "\"\"\"# Comparison operations\n",
        "(data % 3) == 0\"\"\""
      ],
      "execution_count": 78,
      "outputs": [
        {
          "output_type": "execute_result",
          "data": {
            "application/vnd.google.colaboratory.intrinsic+json": {
              "type": "string"
            },
            "text/plain": [
              "'# Comparison operations\\n(data % 3) == 0'"
            ]
          },
          "metadata": {
            "tags": []
          },
          "execution_count": 78
        }
      ]
    },
    {
      "cell_type": "code",
      "metadata": {
        "id": "B32qggecrzsj",
        "colab_type": "code",
        "colab": {
          "base_uri": "https://localhost:8080/",
          "height": 67
        },
        "outputId": "1f4c632b-a308-4e4a-93a7-1ad4ac07deb2"
      },
      "source": [
        "arreglo<6"
      ],
      "execution_count": 79,
      "outputs": [
        {
          "output_type": "execute_result",
          "data": {
            "text/plain": [
              "array([[ True,  True, False,  True,  True],\n",
              "       [False,  True,  True,  True,  True],\n",
              "       [ True,  True, False,  True,  True]])"
            ]
          },
          "metadata": {
            "tags": []
          },
          "execution_count": 79
        }
      ]
    },
    {
      "cell_type": "code",
      "metadata": {
        "id": "PW9mTjeTEGpQ",
        "colab_type": "code",
        "colab": {
          "base_uri": "https://localhost:8080/",
          "height": 35
        },
        "outputId": "04c1298e-d76c-420c-987b-556933d449b8"
      },
      "source": [
        "\"\"\"# Boolean combinators.\n",
        "((data % 2) == 0) & ((data % 3) == 0)\"\"\""
      ],
      "execution_count": 80,
      "outputs": [
        {
          "output_type": "execute_result",
          "data": {
            "application/vnd.google.colaboratory.intrinsic+json": {
              "type": "string"
            },
            "text/plain": [
              "'# Boolean combinators.\\n((data % 2) == 0) & ((data % 3) == 0)'"
            ]
          },
          "metadata": {
            "tags": []
          },
          "execution_count": 80
        }
      ]
    },
    {
      "cell_type": "code",
      "metadata": {
        "id": "nT6yOWzgr8tZ",
        "colab_type": "code",
        "colab": {
          "base_uri": "https://localhost:8080/",
          "height": 67
        },
        "outputId": "b2c075d4-98e2-4327-d88b-9c666dbeedb0"
      },
      "source": [
        "((arreglo<6) | (arreglo==9))"
      ],
      "execution_count": 81,
      "outputs": [
        {
          "output_type": "execute_result",
          "data": {
            "text/plain": [
              "array([[ True,  True, False,  True,  True],\n",
              "       [False,  True,  True,  True,  True],\n",
              "       [ True,  True,  True,  True,  True]])"
            ]
          },
          "metadata": {
            "tags": []
          },
          "execution_count": 81
        }
      ]
    },
    {
      "cell_type": "code",
      "metadata": {
        "id": "BiUUNtkrEGpS",
        "colab_type": "code",
        "colab": {
          "base_uri": "https://localhost:8080/",
          "height": 35
        },
        "outputId": "d2a49d3d-fa87-4808-a1c7-71568f6a4d6c"
      },
      "source": [
        "\"\"\"# as of python 3.5, @ is matrix-multiply\n",
        "data @ data.T\"\"\""
      ],
      "execution_count": 82,
      "outputs": [
        {
          "output_type": "execute_result",
          "data": {
            "application/vnd.google.colaboratory.intrinsic+json": {
              "type": "string"
            },
            "text/plain": [
              "'# as of python 3.5, @ is matrix-multiply\\ndata @ data.T'"
            ]
          },
          "metadata": {
            "tags": []
          },
          "execution_count": 82
        }
      ]
    },
    {
      "cell_type": "code",
      "metadata": {
        "id": "sh8Jr_FLsLJz",
        "colab_type": "code",
        "colab": {
          "base_uri": "https://localhost:8080/",
          "height": 67
        },
        "outputId": "53dcecac-0f07-4854-ec50-5f397ec6c90c"
      },
      "source": [
        "(arreglo+3) @ (arreglo*2).T"
      ],
      "execution_count": 83,
      "outputs": [
        {
          "output_type": "execute_result",
          "data": {
            "text/plain": [
              "array([[316, 314, 260],\n",
              "       [314, 352, 258],\n",
              "       [290, 288, 292]])"
            ]
          },
          "metadata": {
            "tags": []
          },
          "execution_count": 83
        }
      ]
    },
    {
      "cell_type": "markdown",
      "metadata": {
        "id": "IglvxaR9EGpX",
        "colab_type": "text"
      },
      "source": [
        "# UFuncs Review\n",
        "\n",
        "- UFuncs provide efficient elementwise operations applied across one or more arrays.\n",
        "- Arithmetic Operators (`+`, `*`, `/`)\n",
        "- Comparisons (`==`, `>`, `!=`)\n",
        "- Boolean Operators (`&`, `|`, `^`)\n",
        "- Trigonometric Functions (`sin`, `cos`)\n",
        "- Transcendental Functions (`exp`, `log`)"
      ]
    },
    {
      "cell_type": "markdown",
      "metadata": {
        "id": "gFZF4KegEGpY",
        "colab_type": "text"
      },
      "source": [
        "# Selections"
      ]
    },
    {
      "cell_type": "markdown",
      "metadata": {
        "id": "1SkiSvsYEGpZ",
        "colab_type": "text"
      },
      "source": [
        "We often want to perform an operation on just a subset of our data."
      ]
    },
    {
      "cell_type": "code",
      "metadata": {
        "id": "FUsvufrWEGpZ",
        "colab_type": "code",
        "colab": {
          "base_uri": "https://localhost:8080/",
          "height": 35
        },
        "outputId": "d2aa6968-4cc2-482e-e00a-080efe2ac7f7"
      },
      "source": [
        "\"\"\"sines = np.sin(np.linspace(0, 3.14, 10))\n",
        "cosines = np.cos(np.linspace(0, 3.14, 10))\n",
        "sines\"\"\""
      ],
      "execution_count": 84,
      "outputs": [
        {
          "output_type": "execute_result",
          "data": {
            "application/vnd.google.colaboratory.intrinsic+json": {
              "type": "string"
            },
            "text/plain": [
              "'sines = np.sin(np.linspace(0, 3.14, 10))\\ncosines = np.cos(np.linspace(0, 3.14, 10))\\nsines'"
            ]
          },
          "metadata": {
            "tags": []
          },
          "execution_count": 84
        }
      ]
    },
    {
      "cell_type": "code",
      "metadata": {
        "id": "U5XlK_E_sT-V",
        "colab_type": "code",
        "colab": {}
      },
      "source": [
        "senos=np.sin(np.arange(0,(np.pi),np.pi/8,dtype=float))\n",
        "cosenos=np.cos(np.arange(0,(np.pi),np.pi/8,dtype=float))"
      ],
      "execution_count": 85,
      "outputs": []
    },
    {
      "cell_type": "code",
      "metadata": {
        "id": "VAFNRlYUEGpd",
        "colab_type": "code",
        "colab": {
          "base_uri": "https://localhost:8080/",
          "height": 35
        },
        "outputId": "bdf3247d-d0f9-4f76-ab81-15107e80212c"
      },
      "source": [
        "\"\"\"# Slicing works with the same semantics as Python lists.\n",
        "sines[0]\"\"\""
      ],
      "execution_count": 86,
      "outputs": [
        {
          "output_type": "execute_result",
          "data": {
            "application/vnd.google.colaboratory.intrinsic+json": {
              "type": "string"
            },
            "text/plain": [
              "'# Slicing works with the same semantics as Python lists.\\nsines[0]'"
            ]
          },
          "metadata": {
            "tags": []
          },
          "execution_count": 86
        }
      ]
    },
    {
      "cell_type": "code",
      "metadata": {
        "id": "d2kBRmcBtb7I",
        "colab_type": "code",
        "colab": {
          "base_uri": "https://localhost:8080/",
          "height": 34
        },
        "outputId": "6d9df08b-8452-4cb0-86fa-e8260b9436ea"
      },
      "source": [
        "senos[5]"
      ],
      "execution_count": 87,
      "outputs": [
        {
          "output_type": "execute_result",
          "data": {
            "text/plain": [
              "0.9238795325112867"
            ]
          },
          "metadata": {
            "tags": []
          },
          "execution_count": 87
        }
      ]
    },
    {
      "cell_type": "code",
      "metadata": {
        "id": "IrnbkWZgEGpg",
        "colab_type": "code",
        "colab": {
          "base_uri": "https://localhost:8080/",
          "height": 35
        },
        "outputId": "1b768f06-a7dc-45e2-ffa4-08b44d0817b8"
      },
      "source": [
        "\"\"\"sines[:3]  # First three elements  \"\"\""
      ],
      "execution_count": 88,
      "outputs": [
        {
          "output_type": "execute_result",
          "data": {
            "application/vnd.google.colaboratory.intrinsic+json": {
              "type": "string"
            },
            "text/plain": [
              "'sines[:3]  # First three elements  '"
            ]
          },
          "metadata": {
            "tags": []
          },
          "execution_count": 88
        }
      ]
    },
    {
      "cell_type": "code",
      "metadata": {
        "id": "0dWONW5otfKs",
        "colab_type": "code",
        "colab": {
          "base_uri": "https://localhost:8080/",
          "height": 34
        },
        "outputId": "08784f0c-8602-46de-8124-2c7f92be280f"
      },
      "source": [
        "senos[:4]"
      ],
      "execution_count": 89,
      "outputs": [
        {
          "output_type": "execute_result",
          "data": {
            "text/plain": [
              "array([0.        , 0.38268343, 0.70710678, 0.92387953])"
            ]
          },
          "metadata": {
            "tags": []
          },
          "execution_count": 89
        }
      ]
    },
    {
      "cell_type": "code",
      "metadata": {
        "id": "Yyl1pPFWEGpl",
        "colab_type": "code",
        "colab": {
          "base_uri": "https://localhost:8080/",
          "height": 35
        },
        "outputId": "474ee772-5eca-41e1-b681-73bfee8da4c0"
      },
      "source": [
        "\"\"\"sines[5:]  # Elements from 5 on.\"\"\""
      ],
      "execution_count": 90,
      "outputs": [
        {
          "output_type": "execute_result",
          "data": {
            "application/vnd.google.colaboratory.intrinsic+json": {
              "type": "string"
            },
            "text/plain": [
              "'sines[5:]  # Elements from 5 on.'"
            ]
          },
          "metadata": {
            "tags": []
          },
          "execution_count": 90
        }
      ]
    },
    {
      "cell_type": "code",
      "metadata": {
        "id": "I0yG11gXtiM6",
        "colab_type": "code",
        "colab": {
          "base_uri": "https://localhost:8080/",
          "height": 50
        },
        "outputId": "675a6900-9654-4ea2-f9e1-10ec392ac470"
      },
      "source": [
        "senos[1:]"
      ],
      "execution_count": 91,
      "outputs": [
        {
          "output_type": "execute_result",
          "data": {
            "text/plain": [
              "array([0.38268343, 0.70710678, 0.92387953, 1.        , 0.92387953,\n",
              "       0.70710678, 0.38268343])"
            ]
          },
          "metadata": {
            "tags": []
          },
          "execution_count": 91
        }
      ]
    },
    {
      "cell_type": "code",
      "metadata": {
        "id": "bFlIHz8pEGps",
        "colab_type": "code",
        "colab": {
          "base_uri": "https://localhost:8080/",
          "height": 35
        },
        "outputId": "f86a4bd0-9841-4af1-a151-3f2a9e556662"
      },
      "source": [
        "\"\"\"sines[::2]  # Every other element.\"\"\""
      ],
      "execution_count": 92,
      "outputs": [
        {
          "output_type": "execute_result",
          "data": {
            "application/vnd.google.colaboratory.intrinsic+json": {
              "type": "string"
            },
            "text/plain": [
              "'sines[::2]  # Every other element.'"
            ]
          },
          "metadata": {
            "tags": []
          },
          "execution_count": 92
        }
      ]
    },
    {
      "cell_type": "code",
      "metadata": {
        "id": "0Cz19TJItlH0",
        "colab_type": "code",
        "colab": {
          "base_uri": "https://localhost:8080/",
          "height": 34
        },
        "outputId": "b8514385-23fd-4f9f-9423-a3b4c65fd0ba"
      },
      "source": [
        "senos[::3]"
      ],
      "execution_count": 93,
      "outputs": [
        {
          "output_type": "execute_result",
          "data": {
            "text/plain": [
              "array([0.        , 0.92387953, 0.70710678])"
            ]
          },
          "metadata": {
            "tags": []
          },
          "execution_count": 93
        }
      ]
    },
    {
      "cell_type": "code",
      "metadata": {
        "id": "L_U5rtoyEGpw",
        "colab_type": "code",
        "colab": {
          "base_uri": "https://localhost:8080/",
          "height": 52
        },
        "outputId": "0e7bde25-152e-4eb1-9831-74a1773b4126"
      },
      "source": [
        "\"\"\"# More interesting: we can index with boolean arrays to filter by a predicate.\n",
        "print(\"sines:\\n\", sines)\n",
        "print(\"sines > 0.5:\\n\", sines > 0.5)\n",
        "print(\"sines[sines > 0.5]:\\n\", sines[sines > 0.5])\"\"\""
      ],
      "execution_count": 94,
      "outputs": [
        {
          "output_type": "execute_result",
          "data": {
            "application/vnd.google.colaboratory.intrinsic+json": {
              "type": "string"
            },
            "text/plain": [
              "'# More interesting: we can index with boolean arrays to filter by a predicate.\\nprint(\"sines:\\n\", sines)\\nprint(\"sines > 0.5:\\n\", sines > 0.5)\\nprint(\"sines[sines > 0.5]:\\n\", sines[sines > 0.5])'"
            ]
          },
          "metadata": {
            "tags": []
          },
          "execution_count": 94
        }
      ]
    },
    {
      "cell_type": "code",
      "metadata": {
        "id": "qRxFhtyYtt4t",
        "colab_type": "code",
        "colab": {
          "base_uri": "https://localhost:8080/",
          "height": 67
        },
        "outputId": "9bea8c07-cf40-4438-cc98-3940ffc86b12"
      },
      "source": [
        "#cosenos\n",
        "print(\"Cosenos: \", cosenos)\n",
        "print(\"cosenos=1: \",cosenos[cosenos==1])"
      ],
      "execution_count": 95,
      "outputs": [
        {
          "output_type": "stream",
          "text": [
            "Cosenos:  [ 1.00000000e+00  9.23879533e-01  7.07106781e-01  3.82683432e-01\n",
            "  6.12323400e-17 -3.82683432e-01 -7.07106781e-01 -9.23879533e-01]\n",
            "cosenos=1:  [1.]\n"
          ],
          "name": "stdout"
        }
      ]
    },
    {
      "cell_type": "code",
      "metadata": {
        "id": "YlDtl_9fEGp0",
        "colab_type": "code",
        "colab": {
          "base_uri": "https://localhost:8080/",
          "height": 35
        },
        "outputId": "a02dd3a3-402c-47da-8cd8-99f5c3ddbfb1"
      },
      "source": [
        "\"\"\"# We index with lists/arrays of integers to select values at those indices.\n",
        "print(sines)\n",
        "sines[[0, 4, 7]]\"\"\""
      ],
      "execution_count": 96,
      "outputs": [
        {
          "output_type": "execute_result",
          "data": {
            "application/vnd.google.colaboratory.intrinsic+json": {
              "type": "string"
            },
            "text/plain": [
              "'# We index with lists/arrays of integers to select values at those indices.\\nprint(sines)\\nsines[[0, 4, 7]]'"
            ]
          },
          "metadata": {
            "tags": []
          },
          "execution_count": 96
        }
      ]
    },
    {
      "cell_type": "code",
      "metadata": {
        "id": "qCC-2nLUuaoz",
        "colab_type": "code",
        "colab": {
          "base_uri": "https://localhost:8080/",
          "height": 34
        },
        "outputId": "d71aa8d6-61aa-4476-d6a5-96a7fc0dc051"
      },
      "source": [
        "#recibiendo posiciones con exactitud\n",
        "cosenos[[1,2,5]]"
      ],
      "execution_count": 97,
      "outputs": [
        {
          "output_type": "execute_result",
          "data": {
            "text/plain": [
              "array([ 0.92387953,  0.70710678, -0.38268343])"
            ]
          },
          "metadata": {
            "tags": []
          },
          "execution_count": 97
        }
      ]
    },
    {
      "cell_type": "code",
      "metadata": {
        "id": "_fPXHuHaEGp4",
        "colab_type": "code",
        "colab": {
          "base_uri": "https://localhost:8080/",
          "height": 35
        },
        "outputId": "f05571f9-9422-463a-fd0d-258f21497846"
      },
      "source": [
        "\"\"\"# Index arrays are often used for sorting one or more arrays.\n",
        "unsorted_data = np.array([1, 3, 2, 12, -1, 5, 2])\"\"\""
      ],
      "execution_count": 98,
      "outputs": [
        {
          "output_type": "execute_result",
          "data": {
            "application/vnd.google.colaboratory.intrinsic+json": {
              "type": "string"
            },
            "text/plain": [
              "'# Index arrays are often used for sorting one or more arrays.\\nunsorted_data = np.array([1, 3, 2, 12, -1, 5, 2])'"
            ]
          },
          "metadata": {
            "tags": []
          },
          "execution_count": 98
        }
      ]
    },
    {
      "cell_type": "code",
      "metadata": {
        "id": "6xl5WvigukHs",
        "colab_type": "code",
        "colab": {
          "base_uri": "https://localhost:8080/",
          "height": 50
        },
        "outputId": "d569934e-503e-4ad4-a1a2-a3b2ea627b18"
      },
      "source": [
        "arreglo_desordenado=np.array([random.random() for _ in range(10)])\n",
        "arreglo_desordenado"
      ],
      "execution_count": 99,
      "outputs": [
        {
          "output_type": "execute_result",
          "data": {
            "text/plain": [
              "array([0.67141172, 0.59110388, 0.18960014, 0.19209625, 0.33796667,\n",
              "       0.27444395, 0.27687139, 0.6232375 , 0.50977018, 0.26712401])"
            ]
          },
          "metadata": {
            "tags": []
          },
          "execution_count": 99
        }
      ]
    },
    {
      "cell_type": "code",
      "metadata": {
        "id": "QhE2ZrS8EGp8",
        "colab_type": "code",
        "colab": {
          "base_uri": "https://localhost:8080/",
          "height": 35
        },
        "outputId": "cd03d9c8-2da3-4595-9be7-36bc8865a8c3"
      },
      "source": [
        "\"\"\"sort_indices = np.argsort(unsorted_data)\n",
        "sort_indices\"\"\""
      ],
      "execution_count": 100,
      "outputs": [
        {
          "output_type": "execute_result",
          "data": {
            "application/vnd.google.colaboratory.intrinsic+json": {
              "type": "string"
            },
            "text/plain": [
              "'sort_indices = np.argsort(unsorted_data)\\nsort_indices'"
            ]
          },
          "metadata": {
            "tags": []
          },
          "execution_count": 100
        }
      ]
    },
    {
      "cell_type": "code",
      "metadata": {
        "id": "3kj6R_V4yGzC",
        "colab_type": "code",
        "colab": {}
      },
      "source": [
        "#la funcion argsort retorna las posiciones de los elementos ordenados en un array\n",
        "indices_sort=np.argsort(arreglo_desordenado)"
      ],
      "execution_count": 101,
      "outputs": []
    },
    {
      "cell_type": "code",
      "metadata": {
        "id": "on837J-0EGp_",
        "colab_type": "code",
        "colab": {
          "base_uri": "https://localhost:8080/",
          "height": 50
        },
        "outputId": "9810b9e7-c193-4183-a310-fc5e32c8310a"
      },
      "source": [
        "arreglo_desordenado[indices_sort]"
      ],
      "execution_count": 102,
      "outputs": [
        {
          "output_type": "execute_result",
          "data": {
            "text/plain": [
              "array([0.18960014, 0.19209625, 0.26712401, 0.27444395, 0.27687139,\n",
              "       0.33796667, 0.50977018, 0.59110388, 0.6232375 , 0.67141172])"
            ]
          },
          "metadata": {
            "tags": []
          },
          "execution_count": 102
        }
      ]
    },
    {
      "cell_type": "code",
      "metadata": {
        "id": "5PlbPsWCEGqE",
        "colab_type": "code",
        "colab": {
          "base_uri": "https://localhost:8080/",
          "height": 35
        },
        "outputId": "5e06f6d8-86ad-4903-db8a-fd18b2587094"
      },
      "source": [
        "\"\"\"market_caps = np.array([12, 6, 10, 5, 6])  # Presumably in dollars?\n",
        "assets = np.array(['A', 'B', 'C', 'D', 'E'])\"\"\""
      ],
      "execution_count": 103,
      "outputs": [
        {
          "output_type": "execute_result",
          "data": {
            "application/vnd.google.colaboratory.intrinsic+json": {
              "type": "string"
            },
            "text/plain": [
              "\"market_caps = np.array([12, 6, 10, 5, 6])  # Presumably in dollars?\\nassets = np.array(['A', 'B', 'C', 'D', 'E'])\""
            ]
          },
          "metadata": {
            "tags": []
          },
          "execution_count": 103
        }
      ]
    },
    {
      "cell_type": "code",
      "metadata": {
        "id": "iShSRCybysHW",
        "colab_type": "code",
        "colab": {}
      },
      "source": [
        "precio_comp_pc=np.array([200,100,300])\n",
        "producto=np.array([\"Processor\",\"Ram\",\"GPU\"])"
      ],
      "execution_count": 104,
      "outputs": []
    },
    {
      "cell_type": "code",
      "metadata": {
        "id": "Cl6aPVuqEGqH",
        "colab_type": "code",
        "colab": {
          "base_uri": "https://localhost:8080/",
          "height": 52
        },
        "outputId": "35f38874-98d0-404b-cac0-65b4d8ba72f4"
      },
      "source": [
        "\"\"\"# Sort assets by market cap by using the permutation that would sort market caps on ``assets``.\n",
        "sort_by_mcap = np.argsort(market_caps)\n",
        "assets[sort_by_mcap]\"\"\""
      ],
      "execution_count": 105,
      "outputs": [
        {
          "output_type": "execute_result",
          "data": {
            "application/vnd.google.colaboratory.intrinsic+json": {
              "type": "string"
            },
            "text/plain": [
              "'# Sort assets by market cap by using the permutation that would sort market caps on ``assets``.\\nsort_by_mcap = np.argsort(market_caps)\\nassets[sort_by_mcap]'"
            ]
          },
          "metadata": {
            "tags": []
          },
          "execution_count": 105
        }
      ]
    },
    {
      "cell_type": "code",
      "metadata": {
        "id": "36lkZQ3ezEeA",
        "colab_type": "code",
        "colab": {
          "base_uri": "https://localhost:8080/",
          "height": 34
        },
        "outputId": "ef4e1386-564b-43a5-b226-f3953f8302d1"
      },
      "source": [
        "#ahora ordenamos los precios de las parte de pc\n",
        "sort_pc=np.argsort(precio_comp_pc)\n",
        "producto[sort_pc]"
      ],
      "execution_count": 106,
      "outputs": [
        {
          "output_type": "execute_result",
          "data": {
            "text/plain": [
              "array(['Ram', 'Processor', 'GPU'], dtype='<U9')"
            ]
          },
          "metadata": {
            "tags": []
          },
          "execution_count": 106
        }
      ]
    },
    {
      "cell_type": "code",
      "metadata": {
        "scrolled": true,
        "id": "2q7KA8zfEGqJ",
        "colab_type": "code",
        "colab": {
          "base_uri": "https://localhost:8080/",
          "height": 52
        },
        "outputId": "2aecf785-c136-43e8-eae4-8ed99aa5b3bc"
      },
      "source": [
        "\"\"\"# Indexers are also useful for aligning data.\n",
        "print(\"Dates:\\n\", repr(event_dates))\n",
        "print(\"Values:\\n\", repr(event_values))\n",
        "print(\"Calendar:\\n\", repr(calendar))\"\"\""
      ],
      "execution_count": 107,
      "outputs": [
        {
          "output_type": "execute_result",
          "data": {
            "application/vnd.google.colaboratory.intrinsic+json": {
              "type": "string"
            },
            "text/plain": [
              "'# Indexers are also useful for aligning data.\\nprint(\"Dates:\\n\", repr(event_dates))\\nprint(\"Values:\\n\", repr(event_values))\\nprint(\"Calendar:\\n\", repr(calendar))'"
            ]
          },
          "metadata": {
            "tags": []
          },
          "execution_count": 107
        }
      ]
    },
    {
      "cell_type": "code",
      "metadata": {
        "id": "Rwd6gC0y16Wp",
        "colab_type": "code",
        "colab": {
          "base_uri": "https://localhost:8080/",
          "height": 185
        },
        "outputId": "2dba5e73-66fe-492a-99a1-f9761bc51702"
      },
      "source": [
        "print(repr(fechas_eventos))\n",
        "print(repr(valores_eventos))\n",
        "print(repr(calendario))"
      ],
      "execution_count": 108,
      "outputs": [
        {
          "output_type": "stream",
          "text": [
            "array(['2019-01-16', '2019-01-17', '2019-01-18'], dtype='datetime64[D]')\n",
            "array([10, 15, 20])\n",
            "array(['2019-01-01', '2019-01-02', '2019-01-03', '2019-01-04',\n",
            "       '2019-01-05', '2019-01-06', '2019-01-07', '2019-01-08',\n",
            "       '2019-01-09', '2019-01-10', '2019-01-11', '2019-01-12',\n",
            "       '2019-01-13', '2019-01-14', '2019-01-15', '2019-01-16',\n",
            "       '2019-01-17', '2019-01-18', '2019-01-19', '2019-01-20',\n",
            "       '2019-01-21', '2019-01-22', '2019-01-23', '2019-01-24',\n",
            "       '2019-01-25', '2019-01-26', '2019-01-27', '2019-01-28',\n",
            "       '2019-01-29', '2019-01-30'], dtype='datetime64[D]')\n"
          ],
          "name": "stdout"
        }
      ]
    },
    {
      "cell_type": "code",
      "metadata": {
        "id": "6lbeDGvxEGqN",
        "colab_type": "code",
        "colab": {
          "base_uri": "https://localhost:8080/",
          "height": 52
        },
        "outputId": "a4b4b84f-9ab5-41e2-827f-1fceb798846f"
      },
      "source": [
        "\"\"\"print(\"Raw Dates:\", event_dates)\n",
        "print(\"Indices:\", calendar.searchsorted(event_dates))\n",
        "print(\"Forward-Filled Dates:\", calendar[calendar.searchsorted(event_dates)])\"\"\""
      ],
      "execution_count": 109,
      "outputs": [
        {
          "output_type": "execute_result",
          "data": {
            "application/vnd.google.colaboratory.intrinsic+json": {
              "type": "string"
            },
            "text/plain": [
              "'print(\"Raw Dates:\", event_dates)\\nprint(\"Indices:\", calendar.searchsorted(event_dates))\\nprint(\"Forward-Filled Dates:\", calendar[calendar.searchsorted(event_dates)])'"
            ]
          },
          "metadata": {
            "tags": []
          },
          "execution_count": 109
        }
      ]
    },
    {
      "cell_type": "code",
      "metadata": {
        "id": "VEGqvs8U2bIe",
        "colab_type": "code",
        "colab": {
          "base_uri": "https://localhost:8080/",
          "height": 67
        },
        "outputId": "c73b2f48-a47c-4d8a-e9c8-2230dbd12487"
      },
      "source": [
        "print(fechas_eventos)\n",
        "print(\"indices: \",calendario.searchsorted(fechas_eventos))\n",
        "print(calendario[calendario.searchsorted(fechas_eventos)])#se busca dentro delcalendario las fechas de los eventos organizados"
      ],
      "execution_count": 110,
      "outputs": [
        {
          "output_type": "stream",
          "text": [
            "['2019-01-16' '2019-01-17' '2019-01-18']\n",
            "indices:  [15 16 17]\n",
            "['2019-01-16' '2019-01-17' '2019-01-18']\n"
          ],
          "name": "stdout"
        }
      ]
    },
    {
      "cell_type": "markdown",
      "metadata": {
        "id": "SRaUOyMMEGqQ",
        "colab_type": "text"
      },
      "source": [
        "On multi-dimensional arrays, we can slice along each axis independently."
      ]
    },
    {
      "cell_type": "code",
      "metadata": {
        "id": "MzB1MTWXEGqR",
        "colab_type": "code",
        "colab": {
          "base_uri": "https://localhost:8080/",
          "height": 35
        },
        "outputId": "dedc9dc9-8048-4f20-a845-362d7836c337"
      },
      "source": [
        "\"\"\"data = np.arange(25).reshape(5, 5)\n",
        "data\"\"\""
      ],
      "execution_count": 111,
      "outputs": [
        {
          "output_type": "execute_result",
          "data": {
            "application/vnd.google.colaboratory.intrinsic+json": {
              "type": "string"
            },
            "text/plain": [
              "'data = np.arange(25).reshape(5, 5)\\ndata'"
            ]
          },
          "metadata": {
            "tags": []
          },
          "execution_count": 111
        }
      ]
    },
    {
      "cell_type": "code",
      "metadata": {
        "id": "NEobbA-k20TF",
        "colab_type": "code",
        "colab": {
          "base_uri": "https://localhost:8080/",
          "height": 118
        },
        "outputId": "55a17548-89df-43fc-e305-48029bddbae6"
      },
      "source": [
        "val=np.array([range(36)])\n",
        "val=val.reshape(6,6)\n",
        "val"
      ],
      "execution_count": 112,
      "outputs": [
        {
          "output_type": "execute_result",
          "data": {
            "text/plain": [
              "array([[ 0,  1,  2,  3,  4,  5],\n",
              "       [ 6,  7,  8,  9, 10, 11],\n",
              "       [12, 13, 14, 15, 16, 17],\n",
              "       [18, 19, 20, 21, 22, 23],\n",
              "       [24, 25, 26, 27, 28, 29],\n",
              "       [30, 31, 32, 33, 34, 35]])"
            ]
          },
          "metadata": {
            "tags": []
          },
          "execution_count": 112
        }
      ]
    },
    {
      "cell_type": "code",
      "metadata": {
        "id": "pBDFTGuZEGqU",
        "colab_type": "code",
        "colab": {
          "base_uri": "https://localhost:8080/",
          "height": 35
        },
        "outputId": "09e01d96-aa22-4b50-a853-862279e5d814"
      },
      "source": [
        "\"\"\"data[:2, :2]  # First two rows and first two columns.\"\"\""
      ],
      "execution_count": 113,
      "outputs": [
        {
          "output_type": "execute_result",
          "data": {
            "application/vnd.google.colaboratory.intrinsic+json": {
              "type": "string"
            },
            "text/plain": [
              "'data[:2, :2]  # First two rows and first two columns.'"
            ]
          },
          "metadata": {
            "tags": []
          },
          "execution_count": 113
        }
      ]
    },
    {
      "cell_type": "code",
      "metadata": {
        "id": "llKVZfqo3ItS",
        "colab_type": "code",
        "colab": {
          "base_uri": "https://localhost:8080/",
          "height": 34
        },
        "outputId": "e1582b02-1f90-4a27-fab8-10b66eccc895"
      },
      "source": [
        "#accediendo a valores especificos de la matriz\n",
        "print(\"Valor de la matriz en la posicion 2,5: \",val[[2],[5]])"
      ],
      "execution_count": 114,
      "outputs": [
        {
          "output_type": "stream",
          "text": [
            "Valor de la matriz en la posicion 2,5:  [17]\n"
          ],
          "name": "stdout"
        }
      ]
    },
    {
      "cell_type": "code",
      "metadata": {
        "id": "SC3hmhN4EGqX",
        "colab_type": "code",
        "colab": {
          "base_uri": "https://localhost:8080/",
          "height": 35
        },
        "outputId": "904387c8-d615-4cf7-ba8f-e8fcea483281"
      },
      "source": [
        "\"\"\"data[:2, [0, -1]]  # First two rows, first and last columns.\"\"\""
      ],
      "execution_count": 115,
      "outputs": [
        {
          "output_type": "execute_result",
          "data": {
            "application/vnd.google.colaboratory.intrinsic+json": {
              "type": "string"
            },
            "text/plain": [
              "'data[:2, [0, -1]]  # First two rows, first and last columns.'"
            ]
          },
          "metadata": {
            "tags": []
          },
          "execution_count": 115
        }
      ]
    },
    {
      "cell_type": "code",
      "metadata": {
        "id": "uT7QksuA3kur",
        "colab_type": "code",
        "colab": {
          "base_uri": "https://localhost:8080/",
          "height": 84
        },
        "outputId": "e6add082-f856-4074-ff10-bedde4c127c9"
      },
      "source": [
        "val[2:,[2,-3]]"
      ],
      "execution_count": 116,
      "outputs": [
        {
          "output_type": "execute_result",
          "data": {
            "text/plain": [
              "array([[14, 15],\n",
              "       [20, 21],\n",
              "       [26, 27],\n",
              "       [32, 33]])"
            ]
          },
          "metadata": {
            "tags": []
          },
          "execution_count": 116
        }
      ]
    },
    {
      "cell_type": "code",
      "metadata": {
        "id": "Vbqi2_hhEGqZ",
        "colab_type": "code",
        "colab": {
          "base_uri": "https://localhost:8080/",
          "height": 35
        },
        "outputId": "fe987f86-edda-4f39-e7af-ff5ea6f59316"
      },
      "source": [
        "\"\"\"data[(data[:, 0] % 2) == 0]  # Rows where the first column is divisible by two.\"\"\""
      ],
      "execution_count": 117,
      "outputs": [
        {
          "output_type": "execute_result",
          "data": {
            "application/vnd.google.colaboratory.intrinsic+json": {
              "type": "string"
            },
            "text/plain": [
              "'data[(data[:, 0] % 2) == 0]  # Rows where the first column is divisible by two.'"
            ]
          },
          "metadata": {
            "tags": []
          },
          "execution_count": 117
        }
      ]
    },
    {
      "cell_type": "code",
      "metadata": {
        "id": "C37BK6PI3vT6",
        "colab_type": "code",
        "colab": {
          "base_uri": "https://localhost:8080/",
          "height": 50
        },
        "outputId": "7cb5454c-5716-464d-ddd3-03519ea681e8"
      },
      "source": [
        "val[(val[:,:]<20)]#todos los valores de la matriz que son menores a 20"
      ],
      "execution_count": 118,
      "outputs": [
        {
          "output_type": "execute_result",
          "data": {
            "text/plain": [
              "array([ 0,  1,  2,  3,  4,  5,  6,  7,  8,  9, 10, 11, 12, 13, 14, 15, 16,\n",
              "       17, 18, 19])"
            ]
          },
          "metadata": {
            "tags": []
          },
          "execution_count": 118
        }
      ]
    },
    {
      "cell_type": "markdown",
      "metadata": {
        "id": "akil1Gy5EGqb",
        "colab_type": "text"
      },
      "source": [
        "# Selections Review\n",
        "\n",
        "- Indexing with an integer removes a dimension.\n",
        "- Slicing operations work on Numpy arrays the same way they do on lists.\n",
        "- Indexing with a boolean array filters to True locations.\n",
        "- Indexing with an integer array selects indices along an axis.\n",
        "- Multidimensional arrays can apply selections independently along different axes."
      ]
    },
    {
      "cell_type": "markdown",
      "metadata": {
        "id": "fRp5f52bEGqc",
        "colab_type": "text"
      },
      "source": [
        "## Reductions\n",
        "\n",
        "Functions that reduce an array to a scalar."
      ]
    },
    {
      "cell_type": "markdown",
      "metadata": {
        "id": "4KqQC5eIEGqd",
        "colab_type": "text"
      },
      "source": [
        "$Var(X) = \\frac{1}{N}\\sqrt{\\sum_{i=1}^N (x_i - \\bar{x})^2}$"
      ]
    },
    {
      "cell_type": "code",
      "metadata": {
        "id": "IcviBDhgEGqe",
        "colab_type": "code",
        "colab": {
          "base_uri": "https://localhost:8080/",
          "height": 35
        },
        "outputId": "30c655c2-b335-4fb6-e921-64eb3aa27329"
      },
      "source": [
        "\"\"\"def variance(x):\n",
        "    return ((x - x.mean()) ** 2).sum() / len(x)\"\"\""
      ],
      "execution_count": 119,
      "outputs": [
        {
          "output_type": "execute_result",
          "data": {
            "application/vnd.google.colaboratory.intrinsic+json": {
              "type": "string"
            },
            "text/plain": [
              "'def variance(x):\\n    return ((x - x.mean()) ** 2).sum() / len(x)'"
            ]
          },
          "metadata": {
            "tags": []
          },
          "execution_count": 119
        }
      ]
    },
    {
      "cell_type": "code",
      "metadata": {
        "id": "v8O1AgXo4Xj8",
        "colab_type": "code",
        "colab": {}
      },
      "source": [
        "def varianza(x):\n",
        "  tot=0\n",
        "  media=x.mean()\n",
        "  n=len(x)\n",
        "  for i in range(n):\n",
        "    tot+=(x[i]-media)\n",
        "  return np.sqrt(tot)/n"
      ],
      "execution_count": 120,
      "outputs": []
    },
    {
      "cell_type": "code",
      "metadata": {
        "id": "3AkzmPd5EGqg",
        "colab_type": "code",
        "colab": {
          "base_uri": "https://localhost:8080/",
          "height": 67
        },
        "outputId": "37477afb-0cc9-46fe-d12b-592bace0138a"
      },
      "source": [
        "varianza(np.random.standard_normal(100))"
      ],
      "execution_count": 121,
      "outputs": [
        {
          "output_type": "stream",
          "text": [
            "/usr/local/lib/python3.6/dist-packages/ipykernel_launcher.py:7: RuntimeWarning: invalid value encountered in sqrt\n",
            "  import sys\n"
          ],
          "name": "stderr"
        },
        {
          "output_type": "execute_result",
          "data": {
            "text/plain": [
              "nan"
            ]
          },
          "metadata": {
            "tags": []
          },
          "execution_count": 121
        }
      ]
    },
    {
      "cell_type": "markdown",
      "metadata": {
        "id": "-h0ZCoRhEGqm",
        "colab_type": "text"
      },
      "source": [
        "- `sum()` and `mean()` are both **reductions**."
      ]
    },
    {
      "cell_type": "markdown",
      "metadata": {
        "id": "E2pjcheIEGqn",
        "colab_type": "text"
      },
      "source": [
        "- In the simplest case, we use these to reduce an entire array into a single value..."
      ]
    },
    {
      "cell_type": "code",
      "metadata": {
        "id": "9iv71hsoEGqn",
        "colab_type": "code",
        "colab": {
          "base_uri": "https://localhost:8080/",
          "height": 35
        },
        "outputId": "ac9143f0-cee6-4649-d588-3132e01ba1e0"
      },
      "source": [
        "\"\"\"data = np.arange(30)\n",
        "data.mean()\"\"\""
      ],
      "execution_count": 122,
      "outputs": [
        {
          "output_type": "execute_result",
          "data": {
            "application/vnd.google.colaboratory.intrinsic+json": {
              "type": "string"
            },
            "text/plain": [
              "'data = np.arange(30)\\ndata.mean()'"
            ]
          },
          "metadata": {
            "tags": []
          },
          "execution_count": 122
        }
      ]
    },
    {
      "cell_type": "code",
      "metadata": {
        "id": "s__hQEHc5Bae",
        "colab_type": "code",
        "colab": {
          "base_uri": "https://localhost:8080/",
          "height": 34
        },
        "outputId": "1579a83b-6a95-4f84-bbf2-1ce38ea6609c"
      },
      "source": [
        "#el mean y el sum tambien es una funcion de reduccion\n",
        "val.sum()"
      ],
      "execution_count": 123,
      "outputs": [
        {
          "output_type": "execute_result",
          "data": {
            "text/plain": [
              "630"
            ]
          },
          "metadata": {
            "tags": []
          },
          "execution_count": 123
        }
      ]
    },
    {
      "cell_type": "markdown",
      "metadata": {
        "id": "5jaLRwS7EGqr",
        "colab_type": "text"
      },
      "source": [
        "- ...but we can do more interesting things with multi-dimensional arrays."
      ]
    },
    {
      "cell_type": "code",
      "metadata": {
        "id": "Q71EUC2FEGqs",
        "colab_type": "code",
        "colab": {
          "base_uri": "https://localhost:8080/",
          "height": 35
        },
        "outputId": "3c4974a1-906d-48d0-8c01-5eed5e613e06"
      },
      "source": [
        "\"\"\"data = np.arange(30).reshape(3, 10)\n",
        "data\"\"\""
      ],
      "execution_count": 124,
      "outputs": [
        {
          "output_type": "execute_result",
          "data": {
            "application/vnd.google.colaboratory.intrinsic+json": {
              "type": "string"
            },
            "text/plain": [
              "'data = np.arange(30).reshape(3, 10)\\ndata'"
            ]
          },
          "metadata": {
            "tags": []
          },
          "execution_count": 124
        }
      ]
    },
    {
      "cell_type": "code",
      "metadata": {
        "id": "sxb3Kjxx5oB3",
        "colab_type": "code",
        "colab": {
          "base_uri": "https://localhost:8080/",
          "height": 218
        },
        "outputId": "d8a4cc68-26e2-43b4-fee4-1c0257ec80bd"
      },
      "source": [
        "val=val.reshape(12,3)\n",
        "val"
      ],
      "execution_count": 125,
      "outputs": [
        {
          "output_type": "execute_result",
          "data": {
            "text/plain": [
              "array([[ 0,  1,  2],\n",
              "       [ 3,  4,  5],\n",
              "       [ 6,  7,  8],\n",
              "       [ 9, 10, 11],\n",
              "       [12, 13, 14],\n",
              "       [15, 16, 17],\n",
              "       [18, 19, 20],\n",
              "       [21, 22, 23],\n",
              "       [24, 25, 26],\n",
              "       [27, 28, 29],\n",
              "       [30, 31, 32],\n",
              "       [33, 34, 35]])"
            ]
          },
          "metadata": {
            "tags": []
          },
          "execution_count": 125
        }
      ]
    },
    {
      "cell_type": "code",
      "metadata": {
        "id": "9dgklQDZEGqv",
        "colab_type": "code",
        "colab": {
          "base_uri": "https://localhost:8080/",
          "height": 35
        },
        "outputId": "85b8f2c4-3897-4b01-fc2c-ac359f996adc"
      },
      "source": [
        "\"\"\"data.mean()\"\"\""
      ],
      "execution_count": 126,
      "outputs": [
        {
          "output_type": "execute_result",
          "data": {
            "application/vnd.google.colaboratory.intrinsic+json": {
              "type": "string"
            },
            "text/plain": [
              "'data.mean()'"
            ]
          },
          "metadata": {
            "tags": []
          },
          "execution_count": 126
        }
      ]
    },
    {
      "cell_type": "code",
      "metadata": {
        "id": "IIMSW9Dl51Sm",
        "colab_type": "code",
        "colab": {
          "base_uri": "https://localhost:8080/",
          "height": 34
        },
        "outputId": "963521e7-f345-458d-d07d-c09ac88bbd71"
      },
      "source": [
        "val.sum()"
      ],
      "execution_count": 127,
      "outputs": [
        {
          "output_type": "execute_result",
          "data": {
            "text/plain": [
              "630"
            ]
          },
          "metadata": {
            "tags": []
          },
          "execution_count": 127
        }
      ]
    },
    {
      "cell_type": "code",
      "metadata": {
        "id": "cAC2_Qe_EGqz",
        "colab_type": "code",
        "colab": {
          "base_uri": "https://localhost:8080/",
          "height": 35
        },
        "outputId": "9ab031a1-5be4-4a24-a9d8-6d8a01d5592b"
      },
      "source": [
        "\"\"\"data.mean(axis=0)\"\"\""
      ],
      "execution_count": 128,
      "outputs": [
        {
          "output_type": "execute_result",
          "data": {
            "application/vnd.google.colaboratory.intrinsic+json": {
              "type": "string"
            },
            "text/plain": [
              "'data.mean(axis=0)'"
            ]
          },
          "metadata": {
            "tags": []
          },
          "execution_count": 128
        }
      ]
    },
    {
      "cell_type": "code",
      "metadata": {
        "id": "ttvYG3bD55NV",
        "colab_type": "code",
        "colab": {
          "base_uri": "https://localhost:8080/",
          "height": 34
        },
        "outputId": "9daaf0f7-8a6c-421e-d319-1d9679421288"
      },
      "source": [
        "print(\"Suma de las verticales: \",val.sum(axis=0))"
      ],
      "execution_count": 129,
      "outputs": [
        {
          "output_type": "stream",
          "text": [
            "Suma de las verticales:  [198 210 222]\n"
          ],
          "name": "stdout"
        }
      ]
    },
    {
      "cell_type": "code",
      "metadata": {
        "id": "ewjBhF1PEGq5",
        "colab_type": "code",
        "colab": {
          "base_uri": "https://localhost:8080/",
          "height": 35
        },
        "outputId": "83a3931f-c0fe-4d46-9669-1a7574b4efb6"
      },
      "source": [
        "\"\"\"data.mean(axis=1)\"\"\""
      ],
      "execution_count": 130,
      "outputs": [
        {
          "output_type": "execute_result",
          "data": {
            "application/vnd.google.colaboratory.intrinsic+json": {
              "type": "string"
            },
            "text/plain": [
              "'data.mean(axis=1)'"
            ]
          },
          "metadata": {
            "tags": []
          },
          "execution_count": 130
        }
      ]
    },
    {
      "cell_type": "code",
      "metadata": {
        "id": "QeuctVOB6Qnr",
        "colab_type": "code",
        "colab": {
          "base_uri": "https://localhost:8080/",
          "height": 34
        },
        "outputId": "0c2b1841-067b-469a-b466-58edd3a48498"
      },
      "source": [
        "print(\"suma de las horizontales: \",val.sum(axis=1))"
      ],
      "execution_count": 131,
      "outputs": [
        {
          "output_type": "stream",
          "text": [
            "suma de las horizontales:  [  3  12  21  30  39  48  57  66  75  84  93 102]\n"
          ],
          "name": "stdout"
        }
      ]
    },
    {
      "cell_type": "markdown",
      "metadata": {
        "id": "2B-xXVCeEGq9",
        "colab_type": "text"
      },
      "source": [
        "## Reductions Review\n",
        "\n",
        "- Reductions allow us to perform efficient aggregations over arrays.\n",
        "- We can do aggregations over a single axis to collapse a single dimension.\n",
        "- Many built-in reductions (`mean`, `sum`, `min`, `max`, `median`, ...)."
      ]
    },
    {
      "cell_type": "markdown",
      "metadata": {
        "id": "B6YbFWqVEGq-",
        "colab_type": "text"
      },
      "source": [
        "# Broadcasting"
      ]
    },
    {
      "cell_type": "code",
      "metadata": {
        "id": "R2WjImNqEGq_",
        "colab_type": "code",
        "colab": {
          "base_uri": "https://localhost:8080/",
          "height": 52
        },
        "outputId": "9f3a12f4-f356-420e-b370-3331e0e46285"
      },
      "source": [
        "\"\"\"row = np.array([1, 2, 3, 4])\n",
        "column = np.array([[1], [2], [3]])\n",
        "print(\"Row:\\n\", row, sep='')\n",
        "print(\"Column:\\n\", column, sep='')\"\"\""
      ],
      "execution_count": 132,
      "outputs": [
        {
          "output_type": "execute_result",
          "data": {
            "application/vnd.google.colaboratory.intrinsic+json": {
              "type": "string"
            },
            "text/plain": [
              "'row = np.array([1, 2, 3, 4])\\ncolumn = np.array([[1], [2], [3]])\\nprint(\"Row:\\n\", row, sep=\\'\\')\\nprint(\"Column:\\n\", column, sep=\\'\\')'"
            ]
          },
          "metadata": {
            "tags": []
          },
          "execution_count": 132
        }
      ]
    },
    {
      "cell_type": "code",
      "metadata": {
        "id": "tchjtDic6coD",
        "colab_type": "code",
        "colab": {}
      },
      "source": [
        "fila=np.array([0,2,4,6,8])\n",
        "columna=np.array([[1],[2],[3],[4]])"
      ],
      "execution_count": 133,
      "outputs": []
    },
    {
      "cell_type": "code",
      "metadata": {
        "id": "bPE6schQEGrC",
        "colab_type": "code",
        "colab": {
          "base_uri": "https://localhost:8080/",
          "height": 35
        },
        "outputId": "174d326b-2b22-4c69-a211-b70b224bb8c2"
      },
      "source": [
        "\"\"\"row + column\"\"\""
      ],
      "execution_count": 134,
      "outputs": [
        {
          "output_type": "execute_result",
          "data": {
            "application/vnd.google.colaboratory.intrinsic+json": {
              "type": "string"
            },
            "text/plain": [
              "'row + column'"
            ]
          },
          "metadata": {
            "tags": []
          },
          "execution_count": 134
        }
      ]
    },
    {
      "cell_type": "code",
      "metadata": {
        "id": "B0TEDia360O9",
        "colab_type": "code",
        "colab": {
          "base_uri": "https://localhost:8080/",
          "height": 84
        },
        "outputId": "ed521fcf-2ffd-47be-fb97-9451dbef53b9"
      },
      "source": [
        "fila*columna"
      ],
      "execution_count": 135,
      "outputs": [
        {
          "output_type": "execute_result",
          "data": {
            "text/plain": [
              "array([[ 0,  2,  4,  6,  8],\n",
              "       [ 0,  4,  8, 12, 16],\n",
              "       [ 0,  6, 12, 18, 24],\n",
              "       [ 0,  8, 16, 24, 32]])"
            ]
          },
          "metadata": {
            "tags": []
          },
          "execution_count": 135
        }
      ]
    },
    {
      "cell_type": "markdown",
      "metadata": {
        "id": "yoT9Ey4WEGrG",
        "colab_type": "text"
      },
      "source": [
        "<center><img src=\"images/broadcasting.png\" alt=\"Drawing\" style=\"width: 60%;\"/></center>\n",
        "\n",
        "<h5>Source: http://www.scipy-lectures.org/_images/numpy_broadcasting.png</h5>"
      ]
    },
    {
      "cell_type": "code",
      "metadata": {
        "id": "NjeW94fZEGrH",
        "colab_type": "code",
        "colab": {
          "base_uri": "https://localhost:8080/",
          "height": 52
        },
        "outputId": "5d6824f3-4895-4cf0-ed78-428b5f8047c5"
      },
      "source": [
        "\"\"\"# Broadcasting is particularly useful in conjunction with reductions.\n",
        "print(\"Data:\\n\", data, sep='')\n",
        "print(\"Mean:\\n\", data.mean(axis=0), sep='')\n",
        "print(\"Data - Mean:\\n\", data - data.mean(axis=0), sep='')\"\"\""
      ],
      "execution_count": 136,
      "outputs": [
        {
          "output_type": "execute_result",
          "data": {
            "application/vnd.google.colaboratory.intrinsic+json": {
              "type": "string"
            },
            "text/plain": [
              "'# Broadcasting is particularly useful in conjunction with reductions.\\nprint(\"Data:\\n\", data, sep=\\'\\')\\nprint(\"Mean:\\n\", data.mean(axis=0), sep=\\'\\')\\nprint(\"Data - Mean:\\n\", data - data.mean(axis=0), sep=\\'\\')'"
            ]
          },
          "metadata": {
            "tags": []
          },
          "execution_count": 136
        }
      ]
    },
    {
      "cell_type": "code",
      "metadata": {
        "id": "DE15aoTccQhR",
        "colab_type": "code",
        "colab": {
          "base_uri": "https://localhost:8080/",
          "height": 67
        },
        "outputId": "9e768c9d-60da-420c-af4f-3f45b644aca4"
      },
      "source": [
        "print(\"Datos\",datos, sep=\": \")\n",
        "print(\"Suma\",datos.sum(),sep=\": \")\n",
        "print(\"suma-Datos\",datos.sum()-datos,sep=\": \")"
      ],
      "execution_count": 137,
      "outputs": [
        {
          "output_type": "stream",
          "text": [
            "Datos: [2 4 6 8]\n",
            "Suma: 20\n",
            "suma-Datos: [18 16 14 12]\n"
          ],
          "name": "stdout"
        }
      ]
    },
    {
      "cell_type": "markdown",
      "metadata": {
        "id": "ZxMyhGZwEGrL",
        "colab_type": "text"
      },
      "source": [
        "# Broadcasting Review\n",
        "\n",
        "- Numpy operations can work on arrays of different dimensions as long as the arrays' shapes are still \"compatible\".\n",
        "- Broadcasting works by \"tiling\" the smaller array along the missing dimension.\n",
        "- The result of a broadcasted operation is always at least as large in each dimension as the largest array in that dimension."
      ]
    },
    {
      "cell_type": "markdown",
      "metadata": {
        "id": "wzxonbgzEGrM",
        "colab_type": "text"
      },
      "source": [
        "# Numpy Review"
      ]
    },
    {
      "cell_type": "markdown",
      "metadata": {
        "id": "XJ3QXGM1EGrM",
        "colab_type": "text"
      },
      "source": [
        "- Numerical algorithms are slow in pure Python because the overhead dynamic dispatch dominates our runtime."
      ]
    },
    {
      "cell_type": "markdown",
      "metadata": {
        "id": "ZFQrQLnUEGrN",
        "colab_type": "text"
      },
      "source": [
        "- Numpy solves this problem by:\n",
        "  1. Imposing additional restrictions on the contents of arrays.\n",
        "  2. Moving the inner loops of our algorithms into compiled C code."
      ]
    },
    {
      "cell_type": "markdown",
      "metadata": {
        "id": "Fgfagvb4EGrN",
        "colab_type": "text"
      },
      "source": [
        "- Using Numpy effectively often requires reworking an algorithms to use vectorized operations instead of for-loops, but the resulting operations are usually simpler, clearer, and faster than the pure Python equivalent."
      ]
    },
    {
      "cell_type": "markdown",
      "metadata": {
        "id": "ySzG8tuHEGrN",
        "colab_type": "text"
      },
      "source": [
        "<center><img src=\"images/unicorn.jpg\" alt=\"Drawing\" style=\"width: 75%;\"/></center>"
      ]
    },
    {
      "cell_type": "markdown",
      "metadata": {
        "id": "vZikfQR2EGrO",
        "colab_type": "text"
      },
      "source": [
        "Numpy is great for many things, but..."
      ]
    },
    {
      "cell_type": "markdown",
      "metadata": {
        "id": "MMi-b-AnEGrO",
        "colab_type": "text"
      },
      "source": [
        "- Sometimes our data is equipped with a natural set of **labels**:\n",
        "  - Dates/Times\n",
        "  - Stock Tickers\n",
        "  - Field Names (e.g. Open/High/Low/Close)"
      ]
    },
    {
      "cell_type": "markdown",
      "metadata": {
        "id": "bJ0GWPhCEGrP",
        "colab_type": "text"
      },
      "source": [
        "- Sometimes we have **more than one type of data** that we want to keep grouped together.\n",
        "  - Tables with a mix of real-valued and categorical data."
      ]
    },
    {
      "cell_type": "markdown",
      "metadata": {
        "id": "qe3FyC7VEGrP",
        "colab_type": "text"
      },
      "source": [
        "- Sometimes we have **missing** data, which we need to ignore, fill, or otherwise work around."
      ]
    },
    {
      "cell_type": "markdown",
      "metadata": {
        "id": "gZIoTuCFEGrY",
        "colab_type": "text"
      },
      "source": [
        "<center><img src=\"images/panda-wrangling.gif\" alt=\"Drawing\" style=\"width: 75%;\"/></center>"
      ]
    },
    {
      "cell_type": "markdown",
      "metadata": {
        "id": "x41wVFv4EGrY",
        "colab_type": "text"
      },
      "source": [
        "<center><img src=\"images/pandas_logo.png\" alt=\"Drawing\" style=\"width: 75%;\"/></center>\n"
      ]
    },
    {
      "cell_type": "markdown",
      "metadata": {
        "id": "zDlypETTEGrZ",
        "colab_type": "text"
      },
      "source": [
        "Pandas extends Numpy with more complex data structures:\n",
        "\n",
        "- `Series`: 1-dimensional, homogenously-typed, labelled array.\n",
        "- `DataFrame`: 2-dimensional, semi-homogenous, labelled table."
      ]
    },
    {
      "cell_type": "markdown",
      "metadata": {
        "id": "bUGQAhcLEGra",
        "colab_type": "text"
      },
      "source": [
        "Pandas also provides many utilities for: \n",
        "- Input/Output\n",
        "- Data Cleaning\n",
        "- Rolling Algorithms\n",
        "- Plotting"
      ]
    },
    {
      "cell_type": "markdown",
      "metadata": {
        "id": "WE4H0PNVEGra",
        "colab_type": "text"
      },
      "source": [
        "# Selection in Pandas"
      ]
    },
    {
      "cell_type": "code",
      "metadata": {
        "id": "w0i5zO5pEGra",
        "colab_type": "code",
        "colab": {
          "base_uri": "https://localhost:8080/",
          "height": 35
        },
        "outputId": "ea8d8595-a634-44d3-eb47-8149fa7dec1e"
      },
      "source": [
        "\"\"\"s = pd.Series(index=['a', 'b', 'c', 'd', 'e'], data=[1, 2, 3, 4, 5])\n",
        "s\"\"\""
      ],
      "execution_count": 138,
      "outputs": [
        {
          "output_type": "execute_result",
          "data": {
            "application/vnd.google.colaboratory.intrinsic+json": {
              "type": "string"
            },
            "text/plain": [
              "\"s = pd.Series(index=['a', 'b', 'c', 'd', 'e'], data=[1, 2, 3, 4, 5])\\ns\""
            ]
          },
          "metadata": {
            "tags": []
          },
          "execution_count": 138
        }
      ]
    },
    {
      "cell_type": "code",
      "metadata": {
        "id": "FiPxmemCf6Tp",
        "colab_type": "code",
        "colab": {
          "base_uri": "https://localhost:8080/",
          "height": 101
        },
        "outputId": "b250531e-f310-43ce-a798-2c4ef574ef58"
      },
      "source": [
        "selection=pd.Series(index=[\"dos: \",\"cuatro: \",\"seis: \",\"ocho: \"],data=[2,4,6,8])\n",
        "selection"
      ],
      "execution_count": 139,
      "outputs": [
        {
          "output_type": "execute_result",
          "data": {
            "text/plain": [
              "dos:        2\n",
              "cuatro:     4\n",
              "seis:       6\n",
              "ocho:       8\n",
              "dtype: int64"
            ]
          },
          "metadata": {
            "tags": []
          },
          "execution_count": 139
        }
      ]
    },
    {
      "cell_type": "code",
      "metadata": {
        "id": "4qx4qcz4gafj",
        "colab_type": "code",
        "colab": {}
      },
      "source": [
        ""
      ],
      "execution_count": 139,
      "outputs": []
    },
    {
      "cell_type": "code",
      "metadata": {
        "id": "9wUbqgd8EGrd",
        "colab_type": "code",
        "colab": {
          "base_uri": "https://localhost:8080/",
          "height": 52
        },
        "outputId": "2d84d6e1-9250-4aaa-891e-e41f735e42dd"
      },
      "source": [
        "\"\"\"# There are two pieces to a Series: the index and the values.\n",
        "print(\"The index is:\", s.index)\n",
        "print(\"The values are:\", s.values)\"\"\""
      ],
      "execution_count": 140,
      "outputs": [
        {
          "output_type": "execute_result",
          "data": {
            "application/vnd.google.colaboratory.intrinsic+json": {
              "type": "string"
            },
            "text/plain": [
              "'# There are two pieces to a Series: the index and the values.\\nprint(\"The index is:\", s.index)\\nprint(\"The values are:\", s.values)'"
            ]
          },
          "metadata": {
            "tags": []
          },
          "execution_count": 140
        }
      ]
    },
    {
      "cell_type": "code",
      "metadata": {
        "id": "Wt8tic4SgXq9",
        "colab_type": "code",
        "colab": {
          "base_uri": "https://localhost:8080/",
          "height": 50
        },
        "outputId": "b6101e9a-83aa-43f9-9e6a-cdf137f480b1"
      },
      "source": [
        "print(\"Los indices de la seleccion son: \", selection.index)\n",
        "print(\"Los valores de la seleccion son: \",selection.values)"
      ],
      "execution_count": 141,
      "outputs": [
        {
          "output_type": "stream",
          "text": [
            "Los indices de la seleccion son:  Index(['dos: ', 'cuatro: ', 'seis: ', 'ocho: '], dtype='object')\n",
            "Los valores de la seleccion son:  [2 4 6 8]\n"
          ],
          "name": "stdout"
        }
      ]
    },
    {
      "cell_type": "code",
      "metadata": {
        "id": "3IZWSylMEGrg",
        "colab_type": "code",
        "colab": {
          "base_uri": "https://localhost:8080/",
          "height": 35
        },
        "outputId": "c72913c7-bbb8-4210-a7e7-2e11c68ca99f"
      },
      "source": [
        "\"\"\"# We can look up values out of a Series by position...\n",
        "s.iloc[0]\"\"\""
      ],
      "execution_count": 142,
      "outputs": [
        {
          "output_type": "execute_result",
          "data": {
            "application/vnd.google.colaboratory.intrinsic+json": {
              "type": "string"
            },
            "text/plain": [
              "'# We can look up values out of a Series by position...\\ns.iloc[0]'"
            ]
          },
          "metadata": {
            "tags": []
          },
          "execution_count": 142
        }
      ]
    },
    {
      "cell_type": "code",
      "metadata": {
        "id": "HYxZIDeihpkm",
        "colab_type": "code",
        "colab": {
          "base_uri": "https://localhost:8080/",
          "height": 34
        },
        "outputId": "1c833e82-e89f-4be8-de54-e1850c3a2aac"
      },
      "source": [
        "selection.iloc[3]"
      ],
      "execution_count": 143,
      "outputs": [
        {
          "output_type": "execute_result",
          "data": {
            "text/plain": [
              "8"
            ]
          },
          "metadata": {
            "tags": []
          },
          "execution_count": 143
        }
      ]
    },
    {
      "cell_type": "code",
      "metadata": {
        "id": "r-Xk8tPwEGri",
        "colab_type": "code",
        "colab": {
          "base_uri": "https://localhost:8080/",
          "height": 35
        },
        "outputId": "205e1bca-5a6f-4670-c2f9-7295c0be69b8"
      },
      "source": [
        "\"\"\"# ... or by label.\n",
        "s.loc['a']\"\"\""
      ],
      "execution_count": 144,
      "outputs": [
        {
          "output_type": "execute_result",
          "data": {
            "application/vnd.google.colaboratory.intrinsic+json": {
              "type": "string"
            },
            "text/plain": [
              "\"# ... or by label.\\ns.loc['a']\""
            ]
          },
          "metadata": {
            "tags": []
          },
          "execution_count": 144
        }
      ]
    },
    {
      "cell_type": "code",
      "metadata": {
        "id": "yudfmuiohtWJ",
        "colab_type": "code",
        "colab": {
          "base_uri": "https://localhost:8080/",
          "height": 34
        },
        "outputId": "6001a221-99be-4cfd-8248-b129883d798b"
      },
      "source": [
        "selection.loc[\"cuatro: \"]"
      ],
      "execution_count": 145,
      "outputs": [
        {
          "output_type": "execute_result",
          "data": {
            "text/plain": [
              "4"
            ]
          },
          "metadata": {
            "tags": []
          },
          "execution_count": 145
        }
      ]
    },
    {
      "cell_type": "code",
      "metadata": {
        "id": "ye7P6pmhEGrl",
        "colab_type": "code",
        "colab": {
          "base_uri": "https://localhost:8080/",
          "height": 35
        },
        "outputId": "44b745f5-38e5-4f1f-f74c-f7f643e28f4d"
      },
      "source": [
        "\"\"\"# Slicing works as expected...\n",
        "s.iloc[:2]\"\"\""
      ],
      "execution_count": 146,
      "outputs": [
        {
          "output_type": "execute_result",
          "data": {
            "application/vnd.google.colaboratory.intrinsic+json": {
              "type": "string"
            },
            "text/plain": [
              "'# Slicing works as expected...\\ns.iloc[:2]'"
            ]
          },
          "metadata": {
            "tags": []
          },
          "execution_count": 146
        }
      ]
    },
    {
      "cell_type": "code",
      "metadata": {
        "id": "JjyvBcnBhy9s",
        "colab_type": "code",
        "colab": {
          "base_uri": "https://localhost:8080/",
          "height": 67
        },
        "outputId": "113e4853-277d-4446-c478-c681371f04b4"
      },
      "source": [
        "selection.iloc[2:]"
      ],
      "execution_count": 147,
      "outputs": [
        {
          "output_type": "execute_result",
          "data": {
            "text/plain": [
              "seis:     6\n",
              "ocho:     8\n",
              "dtype: int64"
            ]
          },
          "metadata": {
            "tags": []
          },
          "execution_count": 147
        }
      ]
    },
    {
      "cell_type": "code",
      "metadata": {
        "id": "Qd7Gr8T2EGrn",
        "colab_type": "code",
        "colab": {
          "base_uri": "https://localhost:8080/",
          "height": 35
        },
        "outputId": "f977ee1e-58c2-4d9a-bb9b-4754765199f7"
      },
      "source": [
        "\"\"\"# ...but it works with labels too!\n",
        "s.loc[:'c']\"\"\""
      ],
      "execution_count": 148,
      "outputs": [
        {
          "output_type": "execute_result",
          "data": {
            "application/vnd.google.colaboratory.intrinsic+json": {
              "type": "string"
            },
            "text/plain": [
              "\"# ...but it works with labels too!\\ns.loc[:'c']\""
            ]
          },
          "metadata": {
            "tags": []
          },
          "execution_count": 148
        }
      ]
    },
    {
      "cell_type": "code",
      "metadata": {
        "id": "8JdvKlHyh8ai",
        "colab_type": "code",
        "colab": {
          "base_uri": "https://localhost:8080/",
          "height": 101
        },
        "outputId": "a281ff83-a194-4939-f7a0-6caa4607023b"
      },
      "source": [
        "selection.loc[\"dos: \":]"
      ],
      "execution_count": 149,
      "outputs": [
        {
          "output_type": "execute_result",
          "data": {
            "text/plain": [
              "dos:        2\n",
              "cuatro:     4\n",
              "seis:       6\n",
              "ocho:       8\n",
              "dtype: int64"
            ]
          },
          "metadata": {
            "tags": []
          },
          "execution_count": 149
        }
      ]
    },
    {
      "cell_type": "code",
      "metadata": {
        "id": "1cZ4r7WzEGrp",
        "colab_type": "code",
        "colab": {
          "base_uri": "https://localhost:8080/",
          "height": 35
        },
        "outputId": "50112d85-234b-4c65-e1d1-5b185735d87f"
      },
      "source": [
        "\"\"\"# Fancy indexing works the same as in numpy.\n",
        "s.iloc[[0, -1]]\"\"\""
      ],
      "execution_count": 150,
      "outputs": [
        {
          "output_type": "execute_result",
          "data": {
            "application/vnd.google.colaboratory.intrinsic+json": {
              "type": "string"
            },
            "text/plain": [
              "'# Fancy indexing works the same as in numpy.\\ns.iloc[[0, -1]]'"
            ]
          },
          "metadata": {
            "tags": []
          },
          "execution_count": 150
        }
      ]
    },
    {
      "cell_type": "code",
      "metadata": {
        "id": "QnGY6TaXiU6u",
        "colab_type": "code",
        "colab": {
          "base_uri": "https://localhost:8080/",
          "height": 84
        },
        "outputId": "522952f5-4caf-4d15-b6ab-82f7f9d82fec"
      },
      "source": [
        "#se pueden seleccionar datos como en numpy de la siguiente forma\n",
        "selection.iloc[[0,-1,-2]]"
      ],
      "execution_count": 151,
      "outputs": [
        {
          "output_type": "execute_result",
          "data": {
            "text/plain": [
              "dos:      2\n",
              "ocho:     8\n",
              "seis:     6\n",
              "dtype: int64"
            ]
          },
          "metadata": {
            "tags": []
          },
          "execution_count": 151
        }
      ]
    },
    {
      "cell_type": "code",
      "metadata": {
        "id": "9WgKu126EGrq",
        "colab_type": "code",
        "colab": {
          "base_uri": "https://localhost:8080/",
          "height": 35
        },
        "outputId": "74bc9036-d345-421a-d299-49f172565a20"
      },
      "source": [
        "\"\"\"# As does boolean masking.\n",
        "s.loc[s > 2]\"\"\""
      ],
      "execution_count": 152,
      "outputs": [
        {
          "output_type": "execute_result",
          "data": {
            "application/vnd.google.colaboratory.intrinsic+json": {
              "type": "string"
            },
            "text/plain": [
              "'# As does boolean masking.\\ns.loc[s > 2]'"
            ]
          },
          "metadata": {
            "tags": []
          },
          "execution_count": 152
        }
      ]
    },
    {
      "cell_type": "code",
      "metadata": {
        "id": "IwMk80ihil-4",
        "colab_type": "code",
        "colab": {
          "base_uri": "https://localhost:8080/",
          "height": 101
        },
        "outputId": "3b6f6d8e-4e88-426d-884b-9fda3a23809f"
      },
      "source": [
        "selection.loc[selection%2==0]"
      ],
      "execution_count": 153,
      "outputs": [
        {
          "output_type": "execute_result",
          "data": {
            "text/plain": [
              "dos:        2\n",
              "cuatro:     4\n",
              "seis:       6\n",
              "ocho:       8\n",
              "dtype: int64"
            ]
          },
          "metadata": {
            "tags": []
          },
          "execution_count": 153
        }
      ]
    },
    {
      "cell_type": "code",
      "metadata": {
        "id": "vBlIYX_YEGrs",
        "colab_type": "code",
        "colab": {
          "base_uri": "https://localhost:8080/",
          "height": 35
        },
        "outputId": "cc186022-a7d0-41c3-9af6-251c74ea71a7"
      },
      "source": [
        "\"\"\"# Element-wise operations are aligned by index.\n",
        "other_s = pd.Series({'a': 10.0, 'c': 20.0, 'd': 30.0, 'z': 40.0})\n",
        "other_s\"\"\""
      ],
      "execution_count": 154,
      "outputs": [
        {
          "output_type": "execute_result",
          "data": {
            "application/vnd.google.colaboratory.intrinsic+json": {
              "type": "string"
            },
            "text/plain": [
              "\"# Element-wise operations are aligned by index.\\nother_s = pd.Series({'a': 10.0, 'c': 20.0, 'd': 30.0, 'z': 40.0})\\nother_s\""
            ]
          },
          "metadata": {
            "tags": []
          },
          "execution_count": 154
        }
      ]
    },
    {
      "cell_type": "code",
      "metadata": {
        "id": "mIrJScjmisN0",
        "colab_type": "code",
        "colab": {
          "base_uri": "https://localhost:8080/",
          "height": 101
        },
        "outputId": "62327659-7243-49bc-90e2-4acde3597af5"
      },
      "source": [
        "#ademas de la forma mostrada anteriormente, se puede alinear los valores con sus indices asi:\n",
        "seleccion=pd.Series({\"dos\":2.0,\"cuatro\":4.0,\"seis\":6.0,\"ocho\":8.0})\n",
        "seleccion"
      ],
      "execution_count": 155,
      "outputs": [
        {
          "output_type": "execute_result",
          "data": {
            "text/plain": [
              "dos       2.0\n",
              "cuatro    4.0\n",
              "seis      6.0\n",
              "ocho      8.0\n",
              "dtype: float64"
            ]
          },
          "metadata": {
            "tags": []
          },
          "execution_count": 155
        }
      ]
    },
    {
      "cell_type": "code",
      "metadata": {
        "id": "Eh8euv1vEGrv",
        "colab_type": "code",
        "colab": {
          "base_uri": "https://localhost:8080/",
          "height": 168
        },
        "outputId": "5ebfaecf-eff3-4e0c-adaf-9fdb4e9024da"
      },
      "source": [
        "selection+seleccion"
      ],
      "execution_count": 156,
      "outputs": [
        {
          "output_type": "execute_result",
          "data": {
            "text/plain": [
              "cuatro     NaN\n",
              "cuatro:    NaN\n",
              "dos        NaN\n",
              "dos:       NaN\n",
              "ocho       NaN\n",
              "ocho:      NaN\n",
              "seis       NaN\n",
              "seis:      NaN\n",
              "dtype: float64"
            ]
          },
          "metadata": {
            "tags": []
          },
          "execution_count": 156
        }
      ]
    },
    {
      "cell_type": "code",
      "metadata": {
        "id": "59Y1WH2vEGry",
        "colab_type": "code",
        "colab": {
          "base_uri": "https://localhost:8080/",
          "height": 35
        },
        "outputId": "d7980ea3-99f2-4ec6-c6f8-eee4c262d9bc"
      },
      "source": [
        "\"\"\"# We can fill in missing values with fillna().\n",
        "(s + other_s).fillna(0.0)\"\"\""
      ],
      "execution_count": 157,
      "outputs": [
        {
          "output_type": "execute_result",
          "data": {
            "application/vnd.google.colaboratory.intrinsic+json": {
              "type": "string"
            },
            "text/plain": [
              "'# We can fill in missing values with fillna().\\n(s + other_s).fillna(0.0)'"
            ]
          },
          "metadata": {
            "tags": []
          },
          "execution_count": 157
        }
      ]
    },
    {
      "cell_type": "code",
      "metadata": {
        "id": "crdgnoiIjo26",
        "colab_type": "code",
        "colab": {
          "base_uri": "https://localhost:8080/",
          "height": 168
        },
        "outputId": "8d7835b7-b267-4f37-90ad-fe47d8eb58bb"
      },
      "source": [
        "(seleccion+selection).fillna(20.0)"
      ],
      "execution_count": 158,
      "outputs": [
        {
          "output_type": "execute_result",
          "data": {
            "text/plain": [
              "cuatro      20.0\n",
              "cuatro:     20.0\n",
              "dos         20.0\n",
              "dos:        20.0\n",
              "ocho        20.0\n",
              "ocho:       20.0\n",
              "seis        20.0\n",
              "seis:       20.0\n",
              "dtype: float64"
            ]
          },
          "metadata": {
            "tags": []
          },
          "execution_count": 158
        }
      ]
    },
    {
      "cell_type": "code",
      "metadata": {
        "id": "k5NbZsywEGr0",
        "colab_type": "code",
        "colab": {
          "base_uri": "https://localhost:8080/",
          "height": 52
        },
        "outputId": "4fa0063f-65d1-4267-fe6b-6293c3665eb6"
      },
      "source": [
        "\"\"\"# Most real datasets are read in from an external file format.\n",
        "aapl = pd.read_csv('AAPL.csv', parse_dates=['Date'], index_col='Date')\n",
        "aapl.head()\"\"\""
      ],
      "execution_count": 159,
      "outputs": [
        {
          "output_type": "execute_result",
          "data": {
            "application/vnd.google.colaboratory.intrinsic+json": {
              "type": "string"
            },
            "text/plain": [
              "\"# Most real datasets are read in from an external file format.\\naapl = pd.read_csv('AAPL.csv', parse_dates=['Date'], index_col='Date')\\naapl.head()\""
            ]
          },
          "metadata": {
            "tags": []
          },
          "execution_count": 159
        }
      ]
    },
    {
      "cell_type": "code",
      "metadata": {
        "id": "lzNzAIaskUyr",
        "colab_type": "code",
        "colab": {
          "base_uri": "https://localhost:8080/",
          "height": 225
        },
        "outputId": "7cc71de4-ebc4-4292-a91c-d5a947bb91fb"
      },
      "source": [
        "csv = pd.read_csv('https://raw.githubusercontent.com/ssanderson/pydata-toolbox/master/notebooks/AAPL.csv', parse_dates=['Date'], index_col='Date')\n",
        "csv.head()"
      ],
      "execution_count": 160,
      "outputs": [
        {
          "output_type": "execute_result",
          "data": {
            "text/html": [
              "<div>\n",
              "<style scoped>\n",
              "    .dataframe tbody tr th:only-of-type {\n",
              "        vertical-align: middle;\n",
              "    }\n",
              "\n",
              "    .dataframe tbody tr th {\n",
              "        vertical-align: top;\n",
              "    }\n",
              "\n",
              "    .dataframe thead th {\n",
              "        text-align: right;\n",
              "    }\n",
              "</style>\n",
              "<table border=\"1\" class=\"dataframe\">\n",
              "  <thead>\n",
              "    <tr style=\"text-align: right;\">\n",
              "      <th></th>\n",
              "      <th>Adj Close</th>\n",
              "      <th>Close</th>\n",
              "      <th>High</th>\n",
              "      <th>Low</th>\n",
              "      <th>Open</th>\n",
              "      <th>Volume</th>\n",
              "    </tr>\n",
              "    <tr>\n",
              "      <th>Date</th>\n",
              "      <th></th>\n",
              "      <th></th>\n",
              "      <th></th>\n",
              "      <th></th>\n",
              "      <th></th>\n",
              "      <th></th>\n",
              "    </tr>\n",
              "  </thead>\n",
              "  <tbody>\n",
              "    <tr>\n",
              "      <th>2010-01-04</th>\n",
              "      <td>27.613066</td>\n",
              "      <td>30.572857</td>\n",
              "      <td>30.642857</td>\n",
              "      <td>30.340000</td>\n",
              "      <td>30.490000</td>\n",
              "      <td>123432400.0</td>\n",
              "    </tr>\n",
              "    <tr>\n",
              "      <th>2010-01-05</th>\n",
              "      <td>27.660807</td>\n",
              "      <td>30.625713</td>\n",
              "      <td>30.798571</td>\n",
              "      <td>30.464285</td>\n",
              "      <td>30.657143</td>\n",
              "      <td>150476200.0</td>\n",
              "    </tr>\n",
              "    <tr>\n",
              "      <th>2010-01-06</th>\n",
              "      <td>27.220825</td>\n",
              "      <td>30.138571</td>\n",
              "      <td>30.747143</td>\n",
              "      <td>30.107143</td>\n",
              "      <td>30.625713</td>\n",
              "      <td>138040000.0</td>\n",
              "    </tr>\n",
              "    <tr>\n",
              "      <th>2010-01-07</th>\n",
              "      <td>27.170504</td>\n",
              "      <td>30.082857</td>\n",
              "      <td>30.285715</td>\n",
              "      <td>29.864286</td>\n",
              "      <td>30.250000</td>\n",
              "      <td>119282800.0</td>\n",
              "    </tr>\n",
              "    <tr>\n",
              "      <th>2010-01-08</th>\n",
              "      <td>27.351143</td>\n",
              "      <td>30.282858</td>\n",
              "      <td>30.285715</td>\n",
              "      <td>29.865715</td>\n",
              "      <td>30.042856</td>\n",
              "      <td>111902700.0</td>\n",
              "    </tr>\n",
              "  </tbody>\n",
              "</table>\n",
              "</div>"
            ],
            "text/plain": [
              "            Adj Close      Close       High        Low       Open       Volume\n",
              "Date                                                                          \n",
              "2010-01-04  27.613066  30.572857  30.642857  30.340000  30.490000  123432400.0\n",
              "2010-01-05  27.660807  30.625713  30.798571  30.464285  30.657143  150476200.0\n",
              "2010-01-06  27.220825  30.138571  30.747143  30.107143  30.625713  138040000.0\n",
              "2010-01-07  27.170504  30.082857  30.285715  29.864286  30.250000  119282800.0\n",
              "2010-01-08  27.351143  30.282858  30.285715  29.865715  30.042856  111902700.0"
            ]
          },
          "metadata": {
            "tags": []
          },
          "execution_count": 160
        }
      ]
    },
    {
      "cell_type": "code",
      "metadata": {
        "id": "jPWGcQixEGr1",
        "colab_type": "code",
        "colab": {
          "base_uri": "https://localhost:8080/",
          "height": 35
        },
        "outputId": "d2114826-69b8-4826-8391-0253a4b003b3"
      },
      "source": [
        "\"\"\"# Slicing generalizes to two dimensions as you'd expect:\n",
        "aapl.iloc[:2, :2]\"\"\""
      ],
      "execution_count": 161,
      "outputs": [
        {
          "output_type": "execute_result",
          "data": {
            "application/vnd.google.colaboratory.intrinsic+json": {
              "type": "string"
            },
            "text/plain": [
              "\"# Slicing generalizes to two dimensions as you'd expect:\\naapl.iloc[:2, :2]\""
            ]
          },
          "metadata": {
            "tags": []
          },
          "execution_count": 161
        }
      ]
    },
    {
      "cell_type": "code",
      "metadata": {
        "id": "dx9BkaGEo5sj",
        "colab_type": "code",
        "colab": {
          "base_uri": "https://localhost:8080/",
          "height": 431
        },
        "outputId": "89bde587-0f33-43fc-dcbc-f352f190a221"
      },
      "source": [
        "#ya que es un arreglo de dos dimensiones, si se quiere acceder a sus datos, se puede hacer especificando primero filas y luego columnas\n",
        "csv.iloc[3:,5:]"
      ],
      "execution_count": 162,
      "outputs": [
        {
          "output_type": "execute_result",
          "data": {
            "text/html": [
              "<div>\n",
              "<style scoped>\n",
              "    .dataframe tbody tr th:only-of-type {\n",
              "        vertical-align: middle;\n",
              "    }\n",
              "\n",
              "    .dataframe tbody tr th {\n",
              "        vertical-align: top;\n",
              "    }\n",
              "\n",
              "    .dataframe thead th {\n",
              "        text-align: right;\n",
              "    }\n",
              "</style>\n",
              "<table border=\"1\" class=\"dataframe\">\n",
              "  <thead>\n",
              "    <tr style=\"text-align: right;\">\n",
              "      <th></th>\n",
              "      <th>Volume</th>\n",
              "    </tr>\n",
              "    <tr>\n",
              "      <th>Date</th>\n",
              "      <th></th>\n",
              "    </tr>\n",
              "  </thead>\n",
              "  <tbody>\n",
              "    <tr>\n",
              "      <th>2010-01-07</th>\n",
              "      <td>119282800.0</td>\n",
              "    </tr>\n",
              "    <tr>\n",
              "      <th>2010-01-08</th>\n",
              "      <td>111902700.0</td>\n",
              "    </tr>\n",
              "    <tr>\n",
              "      <th>2010-01-11</th>\n",
              "      <td>115557400.0</td>\n",
              "    </tr>\n",
              "    <tr>\n",
              "      <th>2010-01-12</th>\n",
              "      <td>148614900.0</td>\n",
              "    </tr>\n",
              "    <tr>\n",
              "      <th>2010-01-13</th>\n",
              "      <td>151473000.0</td>\n",
              "    </tr>\n",
              "    <tr>\n",
              "      <th>...</th>\n",
              "      <td>...</td>\n",
              "    </tr>\n",
              "    <tr>\n",
              "      <th>2017-07-26</th>\n",
              "      <td>15781000.0</td>\n",
              "    </tr>\n",
              "    <tr>\n",
              "      <th>2017-07-27</th>\n",
              "      <td>32476300.0</td>\n",
              "    </tr>\n",
              "    <tr>\n",
              "      <th>2017-07-28</th>\n",
              "      <td>17213700.0</td>\n",
              "    </tr>\n",
              "    <tr>\n",
              "      <th>2017-07-31</th>\n",
              "      <td>19614200.0</td>\n",
              "    </tr>\n",
              "    <tr>\n",
              "      <th>2017-08-01</th>\n",
              "      <td>13845589.0</td>\n",
              "    </tr>\n",
              "  </tbody>\n",
              "</table>\n",
              "<p>1905 rows × 1 columns</p>\n",
              "</div>"
            ],
            "text/plain": [
              "                 Volume\n",
              "Date                   \n",
              "2010-01-07  119282800.0\n",
              "2010-01-08  111902700.0\n",
              "2010-01-11  115557400.0\n",
              "2010-01-12  148614900.0\n",
              "2010-01-13  151473000.0\n",
              "...                 ...\n",
              "2017-07-26   15781000.0\n",
              "2017-07-27   32476300.0\n",
              "2017-07-28   17213700.0\n",
              "2017-07-31   19614200.0\n",
              "2017-08-01   13845589.0\n",
              "\n",
              "[1905 rows x 1 columns]"
            ]
          },
          "metadata": {
            "tags": []
          },
          "execution_count": 162
        }
      ]
    },
    {
      "cell_type": "code",
      "metadata": {
        "id": "im6kqib4EGr3",
        "colab_type": "code",
        "colab": {
          "base_uri": "https://localhost:8080/",
          "height": 35
        },
        "outputId": "bdbc0855-55bf-47b5-b404-e110841dfed8"
      },
      "source": [
        "\"\"\"aapl.loc[pd.Timestamp('2010-02-01'):pd.Timestamp('2010-02-04'), ['Close', 'Volume']]\"\"\""
      ],
      "execution_count": 163,
      "outputs": [
        {
          "output_type": "execute_result",
          "data": {
            "application/vnd.google.colaboratory.intrinsic+json": {
              "type": "string"
            },
            "text/plain": [
              "\"aapl.loc[pd.Timestamp('2010-02-01'):pd.Timestamp('2010-02-04'), ['Close', 'Volume']]\""
            ]
          },
          "metadata": {
            "tags": []
          },
          "execution_count": 163
        }
      ]
    },
    {
      "cell_type": "code",
      "metadata": {
        "id": "RaicUPDFpNhh",
        "colab_type": "code",
        "colab": {
          "base_uri": "https://localhost:8080/",
          "height": 136
        },
        "outputId": "7f415dd8-0f50-43ae-ce09-baf68fb3e275"
      },
      "source": [
        "csv.loc[pd.Timestamp('2010-05-01'):pd.Timestamp('2010-05-04'), ['High', 'Low']]"
      ],
      "execution_count": 164,
      "outputs": [
        {
          "output_type": "execute_result",
          "data": {
            "text/html": [
              "<div>\n",
              "<style scoped>\n",
              "    .dataframe tbody tr th:only-of-type {\n",
              "        vertical-align: middle;\n",
              "    }\n",
              "\n",
              "    .dataframe tbody tr th {\n",
              "        vertical-align: top;\n",
              "    }\n",
              "\n",
              "    .dataframe thead th {\n",
              "        text-align: right;\n",
              "    }\n",
              "</style>\n",
              "<table border=\"1\" class=\"dataframe\">\n",
              "  <thead>\n",
              "    <tr style=\"text-align: right;\">\n",
              "      <th></th>\n",
              "      <th>High</th>\n",
              "      <th>Low</th>\n",
              "    </tr>\n",
              "    <tr>\n",
              "      <th>Date</th>\n",
              "      <th></th>\n",
              "      <th></th>\n",
              "    </tr>\n",
              "  </thead>\n",
              "  <tbody>\n",
              "    <tr>\n",
              "      <th>2010-05-03</th>\n",
              "      <td>38.268570</td>\n",
              "      <td>37.554287</td>\n",
              "    </tr>\n",
              "    <tr>\n",
              "      <th>2010-05-04</th>\n",
              "      <td>37.612858</td>\n",
              "      <td>36.678570</td>\n",
              "    </tr>\n",
              "  </tbody>\n",
              "</table>\n",
              "</div>"
            ],
            "text/plain": [
              "                 High        Low\n",
              "Date                            \n",
              "2010-05-03  38.268570  37.554287\n",
              "2010-05-04  37.612858  36.678570"
            ]
          },
          "metadata": {
            "tags": []
          },
          "execution_count": 164
        }
      ]
    },
    {
      "cell_type": "markdown",
      "metadata": {
        "id": "74t26TV2EGr9",
        "colab_type": "text"
      },
      "source": [
        "# Rolling Operations"
      ]
    },
    {
      "cell_type": "markdown",
      "metadata": {
        "id": "CZNy-KSJEGr-",
        "colab_type": "text"
      },
      "source": [
        "<center><img src=\"images/rolling.gif\" alt=\"Drawing\" style=\"width: 75%;\"/></center>"
      ]
    },
    {
      "cell_type": "code",
      "metadata": {
        "id": "aWK6haSMEGr-",
        "colab_type": "code",
        "colab": {
          "base_uri": "https://localhost:8080/",
          "height": 35
        },
        "outputId": "845772ab-223f-4237-8606-27033c98efbc"
      },
      "source": [
        "\"\"\"aapl.rolling(5)[['Close', 'Adj Close']].mean().plot();\"\"\""
      ],
      "execution_count": 165,
      "outputs": [
        {
          "output_type": "execute_result",
          "data": {
            "application/vnd.google.colaboratory.intrinsic+json": {
              "type": "string"
            },
            "text/plain": [
              "\"aapl.rolling(5)[['Close', 'Adj Close']].mean().plot();\""
            ]
          },
          "metadata": {
            "tags": []
          },
          "execution_count": 165
        }
      ]
    },
    {
      "cell_type": "code",
      "metadata": {
        "id": "OBA0Z72eqAPs",
        "colab_type": "code",
        "colab": {
          "base_uri": "https://localhost:8080/",
          "height": 384
        },
        "outputId": "d55fee2f-3446-48f1-bb83-7fb4c1147ce4"
      },
      "source": [
        "csv.rolling(5)[[\"High\",\"Low\",\"Open\"]].mean().plot()"
      ],
      "execution_count": 166,
      "outputs": [
        {
          "output_type": "execute_result",
          "data": {
            "text/plain": [
              "<matplotlib.axes._subplots.AxesSubplot at 0x7f8e6a4f4668>"
            ]
          },
          "metadata": {
            "tags": []
          },
          "execution_count": 166
        },
        {
          "output_type": "display_data",
          "data": {
            "image/png": "[encoded data removed]",
            "text/plain": [
              "<Figure size 720x432 with 1 Axes>"
            ]
          },
          "metadata": {
            "tags": [],
            "needs_background": "light"
          }
        }
      ]
    },
    {
      "cell_type": "code",
      "metadata": {
        "id": "-uOn9f_iEGsD",
        "colab_type": "code",
        "colab": {
          "base_uri": "https://localhost:8080/",
          "height": 35
        },
        "outputId": "54e6ea36-d7da-454d-82c5-1d1482a47657"
      },
      "source": [
        "\"\"\"# Drop `Volume`, since it's way bigger than everything else.\n",
        "aapl.drop('Volume', axis=1).resample('2W').max().plot();\"\"\""
      ],
      "execution_count": 167,
      "outputs": [
        {
          "output_type": "execute_result",
          "data": {
            "application/vnd.google.colaboratory.intrinsic+json": {
              "type": "string"
            },
            "text/plain": [
              "\"# Drop `Volume`, since it's way bigger than everything else.\\naapl.drop('Volume', axis=1).resample('2W').max().plot();\""
            ]
          },
          "metadata": {
            "tags": []
          },
          "execution_count": 167
        }
      ]
    },
    {
      "cell_type": "code",
      "metadata": {
        "id": "Ip45rYfoqdXz",
        "colab_type": "code",
        "colab": {
          "base_uri": "https://localhost:8080/",
          "height": 405
        },
        "outputId": "90270c59-931f-4218-f7ae-1ef6f2862dff"
      },
      "source": [
        "csv.drop(\"Volume\",axis=1).resample(\"2w\").max().plot()"
      ],
      "execution_count": 168,
      "outputs": [
        {
          "output_type": "execute_result",
          "data": {
            "text/plain": [
              "<matplotlib.axes._subplots.AxesSubplot at 0x7f8e6a4065c0>"
            ]
          },
          "metadata": {
            "tags": []
          },
          "execution_count": 168
        },
        {
          "output_type": "display_data",
          "data": {
            "image/png": "[encoded data removed]",
            "text/plain": [
              "<Figure size 720x432 with 1 Axes>"
            ]
          },
          "metadata": {
            "tags": [],
            "needs_background": "light"
          }
        }
      ]
    },
    {
      "cell_type": "code",
      "metadata": {
        "id": "2osfbLoHEGsH",
        "colab_type": "code",
        "colab": {
          "base_uri": "https://localhost:8080/",
          "height": 35
        },
        "outputId": "6fa151d9-b4c2-4c3f-aadf-5ba6f7d3ce36"
      },
      "source": [
        "\"\"\"# 30-day rolling exponentially-weighted stddev of returns.\n",
        "aapl['Close'].pct_change().ewm(span=30).std().plot();\"\"\""
      ],
      "execution_count": 169,
      "outputs": [
        {
          "output_type": "execute_result",
          "data": {
            "application/vnd.google.colaboratory.intrinsic+json": {
              "type": "string"
            },
            "text/plain": [
              "\"# 30-day rolling exponentially-weighted stddev of returns.\\naapl['Close'].pct_change().ewm(span=30).std().plot();\""
            ]
          },
          "metadata": {
            "tags": []
          },
          "execution_count": 169
        }
      ]
    },
    {
      "cell_type": "code",
      "metadata": {
        "id": "WhZgDaqlrE9T",
        "colab_type": "code",
        "colab": {
          "base_uri": "https://localhost:8080/",
          "height": 384
        },
        "outputId": "13e8ac6d-ac4d-49e7-9ebc-321eaef51f5f"
      },
      "source": [
        "csv[\"Adj Close\"].pct_change().ewm(span=20).mean().plot(color='gray')"
      ],
      "execution_count": 170,
      "outputs": [
        {
          "output_type": "execute_result",
          "data": {
            "text/plain": [
              "<matplotlib.axes._subplots.AxesSubplot at 0x7f8e69e5e400>"
            ]
          },
          "metadata": {
            "tags": []
          },
          "execution_count": 170
        },
        {
          "output_type": "display_data",
          "data": {
            "image/png": "[encoded data removed]",
            "text/plain": [
              "<Figure size 720x432 with 1 Axes>"
            ]
          },
          "metadata": {
            "tags": [],
            "needs_background": "light"
          }
        }
      ]
    },
    {
      "cell_type": "markdown",
      "metadata": {
        "id": "OWHUDzryEGsK",
        "colab_type": "text"
      },
      "source": [
        "# \"Real World\" Data"
      ]
    },
    {
      "cell_type": "code",
      "metadata": {
        "id": "JLEDDh83EGsL",
        "colab_type": "code",
        "colab": {
          "base_uri": "https://localhost:8080/",
          "height": 343
        },
        "outputId": "2c5f7b6c-9b2c-4aad-a6d1-95c55752082f"
      },
      "source": [
        "from demo.avocados import read_avocadata\n",
        "\n",
        "aguacates = read_avocadata('2014', '2016')\n",
        "aguacates.head(10)"
      ],
      "execution_count": 171,
      "outputs": [
        {
          "output_type": "execute_result",
          "data": {
            "text/html": [
              "<div>\n",
              "<style scoped>\n",
              "    .dataframe tbody tr th:only-of-type {\n",
              "        vertical-align: middle;\n",
              "    }\n",
              "\n",
              "    .dataframe tbody tr th {\n",
              "        vertical-align: top;\n",
              "    }\n",
              "\n",
              "    .dataframe thead th {\n",
              "        text-align: right;\n",
              "    }\n",
              "</style>\n",
              "<table border=\"1\" class=\"dataframe\">\n",
              "  <thead>\n",
              "    <tr style=\"text-align: right;\">\n",
              "      <th></th>\n",
              "      <th>Date</th>\n",
              "      <th>Region</th>\n",
              "      <th>Variety</th>\n",
              "      <th>Organic</th>\n",
              "      <th>Number of Stores</th>\n",
              "      <th>Weighted Avg Price</th>\n",
              "      <th>Low Price</th>\n",
              "      <th>High Price</th>\n",
              "    </tr>\n",
              "  </thead>\n",
              "  <tbody>\n",
              "    <tr>\n",
              "      <th>0</th>\n",
              "      <td>2014-01-03 00:00:00+00:00</td>\n",
              "      <td>NATIONAL</td>\n",
              "      <td>HASS</td>\n",
              "      <td>False</td>\n",
              "      <td>9184</td>\n",
              "      <td>0.93</td>\n",
              "      <td>NaN</td>\n",
              "      <td>NaN</td>\n",
              "    </tr>\n",
              "    <tr>\n",
              "      <th>1</th>\n",
              "      <td>2014-01-03 00:00:00+00:00</td>\n",
              "      <td>NATIONAL</td>\n",
              "      <td>HASS</td>\n",
              "      <td>True</td>\n",
              "      <td>872</td>\n",
              "      <td>1.44</td>\n",
              "      <td>NaN</td>\n",
              "      <td>NaN</td>\n",
              "    </tr>\n",
              "    <tr>\n",
              "      <th>2</th>\n",
              "      <td>2014-01-03 00:00:00+00:00</td>\n",
              "      <td>NORTHEAST</td>\n",
              "      <td>HASS</td>\n",
              "      <td>False</td>\n",
              "      <td>1449</td>\n",
              "      <td>1.08</td>\n",
              "      <td>0.50</td>\n",
              "      <td>1.67</td>\n",
              "    </tr>\n",
              "    <tr>\n",
              "      <th>3</th>\n",
              "      <td>2014-01-03 00:00:00+00:00</td>\n",
              "      <td>NORTHEAST</td>\n",
              "      <td>HASS</td>\n",
              "      <td>True</td>\n",
              "      <td>66</td>\n",
              "      <td>1.54</td>\n",
              "      <td>1.50</td>\n",
              "      <td>2.00</td>\n",
              "    </tr>\n",
              "    <tr>\n",
              "      <th>4</th>\n",
              "      <td>2014-01-03 00:00:00+00:00</td>\n",
              "      <td>SOUTHEAST</td>\n",
              "      <td>HASS</td>\n",
              "      <td>False</td>\n",
              "      <td>2286</td>\n",
              "      <td>0.98</td>\n",
              "      <td>0.50</td>\n",
              "      <td>1.99</td>\n",
              "    </tr>\n",
              "    <tr>\n",
              "      <th>5</th>\n",
              "      <td>2014-01-03 00:00:00+00:00</td>\n",
              "      <td>SOUTHEAST</td>\n",
              "      <td>HASS</td>\n",
              "      <td>True</td>\n",
              "      <td>196</td>\n",
              "      <td>2.29</td>\n",
              "      <td>2.29</td>\n",
              "      <td>2.29</td>\n",
              "    </tr>\n",
              "    <tr>\n",
              "      <th>6</th>\n",
              "      <td>2014-01-03 00:00:00+00:00</td>\n",
              "      <td>MIDWEST</td>\n",
              "      <td>HASS</td>\n",
              "      <td>False</td>\n",
              "      <td>2127</td>\n",
              "      <td>0.88</td>\n",
              "      <td>0.50</td>\n",
              "      <td>1.67</td>\n",
              "    </tr>\n",
              "    <tr>\n",
              "      <th>7</th>\n",
              "      <td>2014-01-03 00:00:00+00:00</td>\n",
              "      <td>MIDWEST</td>\n",
              "      <td>HASS</td>\n",
              "      <td>True</td>\n",
              "      <td>19</td>\n",
              "      <td>1.52</td>\n",
              "      <td>0.99</td>\n",
              "      <td>1.99</td>\n",
              "    </tr>\n",
              "    <tr>\n",
              "      <th>8</th>\n",
              "      <td>2014-01-03 00:00:00+00:00</td>\n",
              "      <td>SOUTH_CENTRAL</td>\n",
              "      <td>HASS</td>\n",
              "      <td>False</td>\n",
              "      <td>1252</td>\n",
              "      <td>0.85</td>\n",
              "      <td>0.20</td>\n",
              "      <td>1.25</td>\n",
              "    </tr>\n",
              "    <tr>\n",
              "      <th>9</th>\n",
              "      <td>2014-01-03 00:00:00+00:00</td>\n",
              "      <td>SOUTH_CENTRAL</td>\n",
              "      <td>HASS</td>\n",
              "      <td>True</td>\n",
              "      <td>63</td>\n",
              "      <td>0.99</td>\n",
              "      <td>0.99</td>\n",
              "      <td>0.99</td>\n",
              "    </tr>\n",
              "  </tbody>\n",
              "</table>\n",
              "</div>"
            ],
            "text/plain": [
              "                       Date         Region  ... Low Price  High Price\n",
              "0 2014-01-03 00:00:00+00:00       NATIONAL  ...       NaN         NaN\n",
              "1 2014-01-03 00:00:00+00:00       NATIONAL  ...       NaN         NaN\n",
              "2 2014-01-03 00:00:00+00:00      NORTHEAST  ...      0.50        1.67\n",
              "3 2014-01-03 00:00:00+00:00      NORTHEAST  ...      1.50        2.00\n",
              "4 2014-01-03 00:00:00+00:00      SOUTHEAST  ...      0.50        1.99\n",
              "5 2014-01-03 00:00:00+00:00      SOUTHEAST  ...      2.29        2.29\n",
              "6 2014-01-03 00:00:00+00:00        MIDWEST  ...      0.50        1.67\n",
              "7 2014-01-03 00:00:00+00:00        MIDWEST  ...      0.99        1.99\n",
              "8 2014-01-03 00:00:00+00:00  SOUTH_CENTRAL  ...      0.20        1.25\n",
              "9 2014-01-03 00:00:00+00:00  SOUTH_CENTRAL  ...      0.99        0.99\n",
              "\n",
              "[10 rows x 8 columns]"
            ]
          },
          "metadata": {
            "tags": []
          },
          "execution_count": 171
        }
      ]
    },
    {
      "cell_type": "code",
      "metadata": {
        "id": "8g9TCYxZxx1F",
        "colab_type": "code",
        "colab": {}
      },
      "source": [
        ""
      ],
      "execution_count": 171,
      "outputs": []
    },
    {
      "cell_type": "code",
      "metadata": {
        "id": "nPTRWi66EGsO",
        "colab_type": "code",
        "colab": {
          "base_uri": "https://localhost:8080/",
          "height": 35
        },
        "outputId": "04a0a44f-4386-4cff-c5bc-55a31ea41982"
      },
      "source": [
        "\"\"\"# Unlike numpy arrays, pandas DataFrames can have a different dtype for each column.\n",
        "avocados.dtypes\"\"\""
      ],
      "execution_count": 172,
      "outputs": [
        {
          "output_type": "execute_result",
          "data": {
            "application/vnd.google.colaboratory.intrinsic+json": {
              "type": "string"
            },
            "text/plain": [
              "'# Unlike numpy arrays, pandas DataFrames can have a different dtype for each column.\\navocados.dtypes'"
            ]
          },
          "metadata": {
            "tags": []
          },
          "execution_count": 172
        }
      ]
    },
    {
      "cell_type": "code",
      "metadata": {
        "id": "yHDEk1I4ua2H",
        "colab_type": "code",
        "colab": {
          "base_uri": "https://localhost:8080/",
          "height": 202
        },
        "outputId": "98d3a87e-ab5f-4aac-e344-0a7a3a859220"
      },
      "source": [
        "print(\"los tipos de dato de los aguacates son:\\n\")\n",
        "aguacates.dtypes"
      ],
      "execution_count": 173,
      "outputs": [
        {
          "output_type": "stream",
          "text": [
            "los tipos de dato de los aguacates son:\n",
            "\n"
          ],
          "name": "stdout"
        },
        {
          "output_type": "execute_result",
          "data": {
            "text/plain": [
              "Date                  datetime64[ns, UTC]\n",
              "Region                             object\n",
              "Variety                            object\n",
              "Organic                              bool\n",
              "Number of Stores                    int64\n",
              "Weighted Avg Price                float64\n",
              "Low Price                         float64\n",
              "High Price                        float64\n",
              "dtype: object"
            ]
          },
          "metadata": {
            "tags": []
          },
          "execution_count": 173
        }
      ]
    },
    {
      "cell_type": "code",
      "metadata": {
        "id": "F_A21VyKEGsP",
        "colab_type": "code",
        "colab": {
          "base_uri": "https://localhost:8080/",
          "height": 52
        },
        "outputId": "be543729-97ae-4961-e5e9-6b036e6b5be3"
      },
      "source": [
        "\"\"\"# What's the regional average price of a HASS avocado every day?\n",
        "hass = avocados[avocados.Variety == 'HASS']\n",
        "hass.groupby(['Date', 'Region'])['Weighted Avg Price'].mean().unstack().ffill().plot();\"\"\""
      ],
      "execution_count": 174,
      "outputs": [
        {
          "output_type": "execute_result",
          "data": {
            "application/vnd.google.colaboratory.intrinsic+json": {
              "type": "string"
            },
            "text/plain": [
              "\"# What's the regional average price of a HASS avocado every day?\\nhass = avocados[avocados.Variety == 'HASS']\\nhass.groupby(['Date', 'Region'])['Weighted Avg Price'].mean().unstack().ffill().plot();\""
            ]
          },
          "metadata": {
            "tags": []
          },
          "execution_count": 174
        }
      ]
    },
    {
      "cell_type": "code",
      "metadata": {
        "id": "H9eLI-2luk5r",
        "colab_type": "code",
        "colab": {
          "base_uri": "https://localhost:8080/",
          "height": 392
        },
        "outputId": "ae6cbebc-0b19-49d6-e2e9-141cff34d2c2"
      },
      "source": [
        "GreenSkin=aguacates[aguacates.Variety==\"GREENSKIN\"]\n",
        "GreenSkin.groupby([\"Date\",\"Region\"])[\"Low Price\"].max().unstack().ffill().plot()"
      ],
      "execution_count": 175,
      "outputs": [
        {
          "output_type": "execute_result",
          "data": {
            "text/plain": [
              "<matplotlib.axes._subplots.AxesSubplot at 0x7f8e6903b358>"
            ]
          },
          "metadata": {
            "tags": []
          },
          "execution_count": 175
        },
        {
          "output_type": "display_data",
          "data": {
            "image/png": "[encoded data removed]",
            "text/plain": [
              "<Figure size 720x432 with 1 Axes>"
            ]
          },
          "metadata": {
            "tags": [],
            "needs_background": "light"
          }
        }
      ]
    },
    {
      "cell_type": "code",
      "metadata": {
        "id": "fNgHIevwEGsR",
        "colab_type": "code",
        "colab": {}
      },
      "source": [
        "def _organic_spread(group):\n",
        "\n",
        "    if len(group.columns) != 2:\n",
        "        return pd.Series(index=group.index, data=0.0)\n",
        "    \n",
        "    is_organic = group.columns.get_level_values('Organic').values.astype(bool)\n",
        "    organics = group.loc[:, is_organic].squeeze()\n",
        "    non_organics = group.loc[:, ~is_organic].squeeze()\n",
        "    diff = organics - non_organics\n",
        "    return diff\n",
        "\n",
        "def organic_spread_by_region(df):\n",
        "    \"\"\"What's the difference between the price of an organic \n",
        "    and non-organic avocado within each region?\n",
        "    \"\"\"\n",
        "    return (\n",
        "        df\n",
        "        .set_index(['Date', 'Region', 'Organic'])\n",
        "         ['Weighted Avg Price']\n",
        "        .unstack(level=['Region', 'Organic'])\n",
        "        .ffill()\n",
        "        .groupby(level='Region', axis=1)\n",
        "        .apply(_organic_spread)\n",
        "    )"
      ],
      "execution_count": 176,
      "outputs": []
    },
    {
      "cell_type": "code",
      "metadata": {
        "id": "tIIQttFEEGsV",
        "colab_type": "code",
        "colab": {
          "base_uri": "https://localhost:8080/",
          "height": 52
        },
        "outputId": "59cc2659-c2cc-470f-fe13-7a0097cbd786"
      },
      "source": [
        "\"\"\"organic_spread_by_region(hass).plot();\n",
        "plt.gca().set_title(\"Daily Regional Organic Spread\");\n",
        "plt.legend(bbox_to_anchor=(1, 1));\"\"\""
      ],
      "execution_count": 177,
      "outputs": [
        {
          "output_type": "execute_result",
          "data": {
            "application/vnd.google.colaboratory.intrinsic+json": {
              "type": "string"
            },
            "text/plain": [
              "'organic_spread_by_region(hass).plot();\\nplt.gca().set_title(\"Daily Regional Organic Spread\");\\nplt.legend(bbox_to_anchor=(1, 1));'"
            ]
          },
          "metadata": {
            "tags": []
          },
          "execution_count": 177
        }
      ]
    },
    {
      "cell_type": "code",
      "metadata": {
        "id": "qIihOLzkvwX8",
        "colab_type": "code",
        "colab": {
          "base_uri": "https://localhost:8080/",
          "height": 375
        },
        "outputId": "35edccc8-80ad-46f2-a57f-192b7b436776"
      },
      "source": [
        "organic_spread_by_region(GreenSkin).plot();\n",
        "plt.legend(bbox_to_anchor=(0, 1));"
      ],
      "execution_count": 178,
      "outputs": [
        {
          "output_type": "display_data",
          "data": {
            "image/png": "[encoded data removed]",
            "text/plain": [
              "<Figure size 720x432 with 1 Axes>"
            ]
          },
          "metadata": {
            "tags": [],
            "needs_background": "light"
          }
        }
      ]
    },
    {
      "cell_type": "code",
      "metadata": {
        "id": "uFLySYyVEGsZ",
        "colab_type": "code",
        "colab": {
          "base_uri": "https://localhost:8080/",
          "height": 35
        },
        "outputId": "cd0e4dcd-f891-412a-9954-608b8ec8d210"
      },
      "source": [
        "\"\"\"spread_correlation = organic_spread_by_region(hass).corr()\n",
        "spread_correlation\"\"\""
      ],
      "execution_count": 179,
      "outputs": [
        {
          "output_type": "execute_result",
          "data": {
            "application/vnd.google.colaboratory.intrinsic+json": {
              "type": "string"
            },
            "text/plain": [
              "'spread_correlation = organic_spread_by_region(hass).corr()\\nspread_correlation'"
            ]
          },
          "metadata": {
            "tags": []
          },
          "execution_count": 179
        }
      ]
    },
    {
      "cell_type": "code",
      "metadata": {
        "id": "eDqx2ugiwDFW",
        "colab_type": "code",
        "colab": {
          "base_uri": "https://localhost:8080/",
          "height": 284
        },
        "outputId": "a6a64509-e75b-4735-86a6-2bd42e1c1391"
      },
      "source": [
        "correlacion=organic_spread_by_region(GreenSkin).corr()\n",
        "#ALASKA no tenia ningun valor con GREENSKIN, por lo que hubo que eliminarla para evitar errores\n",
        "correlacion=correlacion.drop(\"ALASKA\",axis=1)\n",
        "correlacion=correlacion.drop(\"ALASKA\",axis=0)\n",
        "correlacion"
      ],
      "execution_count": 180,
      "outputs": [
        {
          "output_type": "execute_result",
          "data": {
            "text/html": [
              "<div>\n",
              "<style scoped>\n",
              "    .dataframe tbody tr th:only-of-type {\n",
              "        vertical-align: middle;\n",
              "    }\n",
              "\n",
              "    .dataframe tbody tr th {\n",
              "        vertical-align: top;\n",
              "    }\n",
              "\n",
              "    .dataframe thead th {\n",
              "        text-align: right;\n",
              "    }\n",
              "</style>\n",
              "<table border=\"1\" class=\"dataframe\">\n",
              "  <thead>\n",
              "    <tr style=\"text-align: right;\">\n",
              "      <th>Region</th>\n",
              "      <th>MIDWEST</th>\n",
              "      <th>NATIONAL</th>\n",
              "      <th>NORTHEAST</th>\n",
              "      <th>NORTHWEST</th>\n",
              "      <th>SOUTHEAST</th>\n",
              "      <th>SOUTHWEST</th>\n",
              "      <th>SOUTH_CENTRAL</th>\n",
              "    </tr>\n",
              "    <tr>\n",
              "      <th>Region</th>\n",
              "      <th></th>\n",
              "      <th></th>\n",
              "      <th></th>\n",
              "      <th></th>\n",
              "      <th></th>\n",
              "      <th></th>\n",
              "      <th></th>\n",
              "    </tr>\n",
              "  </thead>\n",
              "  <tbody>\n",
              "    <tr>\n",
              "      <th>MIDWEST</th>\n",
              "      <td>1.000000</td>\n",
              "      <td>0.326341</td>\n",
              "      <td>0.307174</td>\n",
              "      <td>0.289433</td>\n",
              "      <td>0.041748</td>\n",
              "      <td>-0.346672</td>\n",
              "      <td>0.166863</td>\n",
              "    </tr>\n",
              "    <tr>\n",
              "      <th>NATIONAL</th>\n",
              "      <td>0.326341</td>\n",
              "      <td>1.000000</td>\n",
              "      <td>0.417789</td>\n",
              "      <td>0.299378</td>\n",
              "      <td>0.021097</td>\n",
              "      <td>0.250812</td>\n",
              "      <td>0.401773</td>\n",
              "    </tr>\n",
              "    <tr>\n",
              "      <th>NORTHEAST</th>\n",
              "      <td>0.307174</td>\n",
              "      <td>0.417789</td>\n",
              "      <td>1.000000</td>\n",
              "      <td>0.400814</td>\n",
              "      <td>0.434013</td>\n",
              "      <td>-0.149993</td>\n",
              "      <td>0.248797</td>\n",
              "    </tr>\n",
              "    <tr>\n",
              "      <th>NORTHWEST</th>\n",
              "      <td>0.289433</td>\n",
              "      <td>0.299378</td>\n",
              "      <td>0.400814</td>\n",
              "      <td>1.000000</td>\n",
              "      <td>0.257435</td>\n",
              "      <td>-0.111115</td>\n",
              "      <td>0.004146</td>\n",
              "    </tr>\n",
              "    <tr>\n",
              "      <th>SOUTHEAST</th>\n",
              "      <td>0.041748</td>\n",
              "      <td>0.021097</td>\n",
              "      <td>0.434013</td>\n",
              "      <td>0.257435</td>\n",
              "      <td>1.000000</td>\n",
              "      <td>-0.090884</td>\n",
              "      <td>-0.081374</td>\n",
              "    </tr>\n",
              "    <tr>\n",
              "      <th>SOUTHWEST</th>\n",
              "      <td>-0.346672</td>\n",
              "      <td>0.250812</td>\n",
              "      <td>-0.149993</td>\n",
              "      <td>-0.111115</td>\n",
              "      <td>-0.090884</td>\n",
              "      <td>1.000000</td>\n",
              "      <td>0.179237</td>\n",
              "    </tr>\n",
              "    <tr>\n",
              "      <th>SOUTH_CENTRAL</th>\n",
              "      <td>0.166863</td>\n",
              "      <td>0.401773</td>\n",
              "      <td>0.248797</td>\n",
              "      <td>0.004146</td>\n",
              "      <td>-0.081374</td>\n",
              "      <td>0.179237</td>\n",
              "      <td>1.000000</td>\n",
              "    </tr>\n",
              "  </tbody>\n",
              "</table>\n",
              "</div>"
            ],
            "text/plain": [
              "Region          MIDWEST  NATIONAL  ...  SOUTHWEST  SOUTH_CENTRAL\n",
              "Region                             ...                          \n",
              "MIDWEST        1.000000  0.326341  ...  -0.346672       0.166863\n",
              "NATIONAL       0.326341  1.000000  ...   0.250812       0.401773\n",
              "NORTHEAST      0.307174  0.417789  ...  -0.149993       0.248797\n",
              "NORTHWEST      0.289433  0.299378  ...  -0.111115       0.004146\n",
              "SOUTHEAST      0.041748  0.021097  ...  -0.090884      -0.081374\n",
              "SOUTHWEST     -0.346672  0.250812  ...   1.000000       0.179237\n",
              "SOUTH_CENTRAL  0.166863  0.401773  ...   0.179237       1.000000\n",
              "\n",
              "[7 rows x 7 columns]"
            ]
          },
          "metadata": {
            "tags": []
          },
          "execution_count": 180
        }
      ]
    },
    {
      "cell_type": "code",
      "metadata": {
        "id": "zR-_Q425EGsb",
        "colab_type": "code",
        "colab": {
          "base_uri": "https://localhost:8080/",
          "height": 52
        },
        "outputId": "3842bca5-4bd9-4c1f-ad32-c2709ac3df91"
      },
      "source": [
        "\"\"\"import seaborn as sns\n",
        "grid = sns.clustermap(spread_correlation, annot=True)\n",
        "fig = grid.fig\n",
        "axes = fig.axes\n",
        "ax = axes[2]\n",
        "ax.set_xticklabels(ax.get_xticklabels(), rotation=45);\"\"\""
      ],
      "execution_count": 181,
      "outputs": [
        {
          "output_type": "execute_result",
          "data": {
            "application/vnd.google.colaboratory.intrinsic+json": {
              "type": "string"
            },
            "text/plain": [
              "'import seaborn as sns\\ngrid = sns.clustermap(spread_correlation, annot=True)\\nfig = grid.fig\\naxes = fig.axes\\nax = axes[2]\\nax.set_xticklabels(ax.get_xticklabels(), rotation=45);'"
            ]
          },
          "metadata": {
            "tags": []
          },
          "execution_count": 181
        }
      ]
    },
    {
      "cell_type": "code",
      "metadata": {
        "id": "KKYkXIZ4wOCu",
        "colab_type": "code",
        "colab": {
          "base_uri": "https://localhost:8080/",
          "height": 712
        },
        "outputId": "28a80866-1c00-4904-998b-efa6bfeb201d"
      },
      "source": [
        "import seaborn as sns\n",
        "grilla=sns.clustermap(correlacion,annot=True)\n",
        "fig = grilla.fig\n",
        "axes = fig.axes\n",
        "ax = axes[2]\n",
        "ax.set_xticklabels(ax.get_xticklabels(), rotation=45);"
      ],
      "execution_count": 182,
      "outputs": [
        {
          "output_type": "display_data",
          "data": {
            "image/png": "[encoded data removed]",
            "text/plain": [
              "<Figure size 720x720 with 4 Axes>"
            ]
          },
          "metadata": {
            "tags": [],
            "needs_background": "light"
          }
        }
      ]
    },
    {
      "cell_type": "markdown",
      "metadata": {
        "id": "0wpMhY_uEGsd",
        "colab_type": "text"
      },
      "source": [
        "# Pandas Review\n",
        "\n",
        "- Pandas extends numpy with more complex datastructures and algorithms.\n",
        "- If you understand numpy, you understand 90% of pandas.\n",
        "- `groupby`, `set_index`, and `unstack` are powerful tools for working with categorical data.\n",
        "- Avocado prices are surprisingly interesting :)"
      ]
    },
    {
      "cell_type": "markdown",
      "metadata": {
        "id": "UFOjKicwEGse",
        "colab_type": "text"
      },
      "source": [
        "# Thanks!"
      ]
    }
  ]
}