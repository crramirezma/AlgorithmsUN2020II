{
  "nbformat": 4,
  "nbformat_minor": 0,
  "metadata": {
    "colab": {
      "name": "laboratorio_9.ipynb",
      "provenance": []
    },
    "kernelspec": {
      "display_name": "Python 3",
      "name": "python3"
    }
  },
  "cells": [
    {
      "cell_type": "markdown",
      "metadata": {
        "id": "o4wrIOA7AbWG"
      },
      "source": [
        "<img src=\"https://raw.githubusercontent.com/crramirezma/AlgorithmsUN2020II/master/GaleShapleyIrving/imagenes/Matrimonio.png\">\n"
      ]
    },
    {
      "cell_type": "markdown",
      "metadata": {
        "id": "4VkcXMDAJSEJ"
      },
      "source": [
        "#Algoritmo de Gale–Shapley para la solución del problema del matrimonio perfecto\n",
        "\n",
        "Cristian Daniel Ramirez Marin\n",
        "\n",
        "Cc:1000832655\n",
        "\n",
        "Usuario: crramirezma"
      ]
    },
    {
      "cell_type": "code",
      "metadata": {
        "id": "rJH8CO4EKAwI"
      },
      "source": [
        "import random\n",
        "import numpy as np\n",
        "import matplotlib.pyplot as plt "
      ],
      "execution_count": 1,
      "outputs": []
    },
    {
      "cell_type": "code",
      "metadata": {
        "id": "UEMGiSKp_MZ3"
      },
      "source": [
        "# Python3 program for stable marriage problem \n",
        "  \n",
        "\n",
        "  \n",
        "# This function returns true if  \n",
        "# woman 'w' prefers man 'm1' over man 'm' \n",
        "def wPrefersM1OverM(prefer, w, m, m1,N): \n",
        "      \n",
        "    # Check if w prefers m over her  \n",
        "    # current engagment m1 \n",
        "    for i in range(N): \n",
        "          \n",
        "        # If m1 comes before m in lisr of w,  \n",
        "        # then w prefers her current engagement, \n",
        "        # don't do anything \n",
        "        if (prefer[w][i] == m1): \n",
        "            return True\n",
        "  \n",
        "        # If m cmes before m1 in w's list,  \n",
        "        # then free her current engagement  \n",
        "        # and engage her with m \n",
        "        if (prefer[w][i] == m): \n",
        "            return False\n",
        "  \n",
        "# Prints stable matching for N boys and N girls.  \n",
        "# Boys are numbered as 0 to N-1.  \n",
        "# Girls are numbereed as N to 2N-1. \n",
        "def stableMarriage(prefer,N): \n",
        "      \n",
        "    # Stores partner of women. This is our output  \n",
        "    # array that stores paing information.  \n",
        "    # The value of wPartner[i] indicates the partner  \n",
        "    # assigned to woman N+i. Note that the woman numbers  \n",
        "    # between N and 2*N-1. The value -1 indicates  \n",
        "    # that (N+i)'th woman is free \n",
        "    wPartner = [-1 for i in range(N)] \n",
        "  \n",
        "    # An array to store availability of men.  \n",
        "    # If mFree[i] is false, then man 'i' is free, \n",
        "    # otherwise engaged. \n",
        "    mFree = [False for i in range(N)] \n",
        "  \n",
        "    freeCount = N \n",
        "    #Contador de iteraciones\n",
        "    k=0\n",
        "    # While there are free men \n",
        "    while (freeCount > 0): \n",
        "          \n",
        "        # Pick the first free man (we could pick any) \n",
        "        m = 0\n",
        "        while (m < N): \n",
        "            if (mFree[m] == False): \n",
        "                break\n",
        "            m += 1\n",
        "  \n",
        "        # One by one go to all women according to  \n",
        "        # m's preferences. Here m is the picked free man \n",
        "        i = 0\n",
        "        while i < N and mFree[m] == False: \n",
        "            w = prefer[m][i] \n",
        "  \n",
        "            # The woman of preference is free,  \n",
        "            # w and m become partners (Note that  \n",
        "            # the partnership maybe changed later).  \n",
        "            # So we can say they are engaged not married \n",
        "            \n",
        "            if (wPartner[w - N] == -1): \n",
        "                wPartner[w - N] = m \n",
        "                mFree[m] = True\n",
        "                freeCount -= 1\n",
        "  \n",
        "            else:  \n",
        "                  \n",
        "                # If w is not free \n",
        "                # Find current engagement of w \n",
        "                m1 = wPartner[w - N] \n",
        "  \n",
        "                # If w prefers m over her current engagement m1, \n",
        "                # then break the engagement between w and m1 and \n",
        "                # engage m with w. \n",
        "                if (wPrefersM1OverM(prefer, w, m, m1,N) == False): \n",
        "                    wPartner[w - N] = m \n",
        "                    mFree[m] = True\n",
        "                    mFree[m1] = False\n",
        "            i += 1\n",
        "            k+=1\n",
        "  \n",
        "            # End of Else \n",
        "        # End of the for loop that goes  \n",
        "        # to all women in m's list \n",
        "    # End of main while loop \n",
        "  \n",
        "    # Print the solution \n",
        "    print(\"Woman \", \" Man\") \n",
        "    for i in range(N): \n",
        "        print(i + N, \"\\t\", wPartner[i]) \n",
        "\n",
        "    #k:cantidad de iteraciones para resolver el caso\n",
        "    #wPartner: lista de los datos de los matrimonios estables\n",
        "    #arriba ejemplo de como imprimirlo\n",
        "    \n",
        "    return [k,wPartner]\n",
        "# Driver Code \n",
        "#prefer = [[7, 5, 6, 4], [5, 4, 6, 7], \n",
        "#          [4, 5, 6, 7], [4, 5, 6, 7], \n",
        "#          [0, 1, 2, 3], [0, 1, 2, 3], \n",
        "#          [0, 1, 2, 3], [0, 1, 2, 3]] \n",
        "  \n",
        "#stableMarriage(prefer) \n",
        "  \n",
        "# This code is contributed by Mohit Kumar "
      ],
      "execution_count": 2,
      "outputs": []
    },
    {
      "cell_type": "code",
      "metadata": {
        "colab": {
          "base_uri": "https://localhost:8080/"
        },
        "id": "0u_iOWKNHNFM",
        "outputId": "84766e99-ae7c-4c01-df5e-618cae44a172"
      },
      "source": [
        "p=[[5, 4, 6, 7],\n",
        " [7, 6, 4, 5],\n",
        " [5, 6, 4, 7],\n",
        " [4, 5, 6, 7],\n",
        " [3, 1, 0, 2],\n",
        " [0, 3, 1, 2],\n",
        " [1, 2, 0, 3],\n",
        " [1, 2, 3, 0]]\n",
        "\n",
        "print(\"Cantidad de iteraciones: \",stableMarriage(p,4)[0])"
      ],
      "execution_count": 3,
      "outputs": [
        {
          "output_type": "stream",
          "text": [
            "Woman   Man\n",
            "4 \t 3\n",
            "5 \t 0\n",
            "6 \t 2\n",
            "7 \t 1\n",
            "Cantidad de iteraciones:  5\n"
          ],
          "name": "stdout"
        }
      ]
    },
    {
      "cell_type": "markdown",
      "metadata": {
        "id": "W6AqML2mhqG9"
      },
      "source": [
        "## Mejor y peor caso para el algoritmo del matrimonio perfecto"
      ]
    },
    {
      "cell_type": "markdown",
      "metadata": {
        "id": "c92tk3TwmoQZ"
      },
      "source": [
        "### Mejor caso"
      ]
    },
    {
      "cell_type": "markdown",
      "metadata": {
        "id": "mzhv2D-YjRDP"
      },
      "source": [
        "El mejor caso para el algoritmo del matrimonio perfecto es aquel en el que cada hombre tiene como maxima prioridad a la chica que lo tiene a el como maxima prioridad.\n",
        "Para simular este caso, se creo la función \"mejorOpcion\", la cual recibe un entero n, y la cual retorna un arreglo de tamaño 2n el cual posee la caracteristica mencionada"
      ]
    },
    {
      "cell_type": "code",
      "metadata": {
        "colab": {
          "base_uri": "https://localhost:8080/"
        },
        "id": "Ms8bOpXDhpxO",
        "outputId": "b051d19a-3679-472d-da87-bcfd86886106"
      },
      "source": [
        "def mejorOpcion(n):\n",
        "  p=[]\n",
        "  #llenando los datos de los hombre\n",
        "  for i in range(n):\n",
        "    r=[]\n",
        "    for j in range(n):\n",
        "      r.append((i+j)%n+n)\n",
        "    p.append(r)\n",
        "\n",
        "  #llenando para las mujeres\n",
        "  for i in range(n):\n",
        "    r=[]\n",
        "    for j in range(n):\n",
        "      r.append((i+j)%n)\n",
        "    p.append(r)\n",
        "  return p\n",
        "\n",
        "mejorOpcion(4)"
      ],
      "execution_count": 4,
      "outputs": [
        {
          "output_type": "execute_result",
          "data": {
            "text/plain": [
              "[[4, 5, 6, 7],\n",
              " [5, 6, 7, 4],\n",
              " [6, 7, 4, 5],\n",
              " [7, 4, 5, 6],\n",
              " [0, 1, 2, 3],\n",
              " [1, 2, 3, 0],\n",
              " [2, 3, 0, 1],\n",
              " [3, 0, 1, 2]]"
            ]
          },
          "metadata": {
            "tags": []
          },
          "execution_count": 4
        }
      ]
    },
    {
      "cell_type": "code",
      "metadata": {
        "colab": {
          "base_uri": "https://localhost:8080/"
        },
        "id": "c1d1a9v6ly7A",
        "outputId": "00527d09-fdec-470d-c2d2-1151ef355132"
      },
      "source": [
        "n=4\n",
        "p=mejorOpcion(n)\n",
        "print(\"Cantidad de iteraciones: \",stableMarriage(p,n)[0])"
      ],
      "execution_count": 5,
      "outputs": [
        {
          "output_type": "stream",
          "text": [
            "Woman   Man\n",
            "4 \t 0\n",
            "5 \t 1\n",
            "6 \t 2\n",
            "7 \t 3\n",
            "Cantidad de iteraciones:  4\n"
          ],
          "name": "stdout"
        }
      ]
    },
    {
      "cell_type": "code",
      "metadata": {
        "colab": {
          "base_uri": "https://localhost:8080/"
        },
        "id": "S2wJT3rJmTd-",
        "outputId": "041bcddc-3d67-410b-e654-676bf32b0eb2"
      },
      "source": [
        "n=40\n",
        "p=mejorOpcion(n)\n",
        "print(\"Cantidad de iteraciones: \",stableMarriage(p,n)[0])"
      ],
      "execution_count": 6,
      "outputs": [
        {
          "output_type": "stream",
          "text": [
            "Woman   Man\n",
            "40 \t 0\n",
            "41 \t 1\n",
            "42 \t 2\n",
            "43 \t 3\n",
            "44 \t 4\n",
            "45 \t 5\n",
            "46 \t 6\n",
            "47 \t 7\n",
            "48 \t 8\n",
            "49 \t 9\n",
            "50 \t 10\n",
            "51 \t 11\n",
            "52 \t 12\n",
            "53 \t 13\n",
            "54 \t 14\n",
            "55 \t 15\n",
            "56 \t 16\n",
            "57 \t 17\n",
            "58 \t 18\n",
            "59 \t 19\n",
            "60 \t 20\n",
            "61 \t 21\n",
            "62 \t 22\n",
            "63 \t 23\n",
            "64 \t 24\n",
            "65 \t 25\n",
            "66 \t 26\n",
            "67 \t 27\n",
            "68 \t 28\n",
            "69 \t 29\n",
            "70 \t 30\n",
            "71 \t 31\n",
            "72 \t 32\n",
            "73 \t 33\n",
            "74 \t 34\n",
            "75 \t 35\n",
            "76 \t 36\n",
            "77 \t 37\n",
            "78 \t 38\n",
            "79 \t 39\n",
            "Cantidad de iteraciones:  40\n"
          ],
          "name": "stdout"
        }
      ]
    },
    {
      "cell_type": "markdown",
      "metadata": {
        "id": "R2CsS0rdmd2f"
      },
      "source": [
        "En el mejor de los casos, la eficiencia del algoritmo del matrimonio perfecto es de O(n)"
      ]
    },
    {
      "cell_type": "markdown",
      "metadata": {
        "id": "TX05WmKXml6Z"
      },
      "source": [
        "### Peor caso"
      ]
    },
    {
      "cell_type": "markdown",
      "metadata": {
        "id": "Hv2UHXQrm97t"
      },
      "source": [
        "Al igual que para el mejor caso, el peor caso, el cual se encuentra comprobado en https://www.mdpi.com/1999-4893/6/2/371/htm, se creo una función \"peorCaso\" el cual recibe un n y devuelve una lista de tamaño 2n con la combinación para el peor caso del matrimonio estable"
      ]
    },
    {
      "cell_type": "code",
      "metadata": {
        "colab": {
          "base_uri": "https://localhost:8080/"
        },
        "id": "KkYUXAnRnb4J",
        "outputId": "fe58da83-61a6-451f-f9e3-70e3a3b68701"
      },
      "source": [
        "# Generando el peor caso del matrimonio estable, generalización del propuesto en https://www.mdpi.com/1999-4893/6/2/371/htm \n",
        "\n",
        "def peorCaso(n):\n",
        "  #p: lista que guardara los datos que se retornaran al final\n",
        "  p=[]\n",
        "\n",
        "  #llenando los datos de los hombre\n",
        "  for i in range(n):\n",
        "    r=[]\n",
        "    for j in range(n-1):\n",
        "      r.append((i+j)%(n-1)+n)\n",
        "    r.append(2*n-1)\n",
        "    p.append(r)\n",
        "\n",
        "  #llenando para las mujeres\n",
        "  for i in range(n):\n",
        "    r=[]\n",
        "    for j in range(n):\n",
        "      r.append((i+j+1)%(n))\n",
        "    \n",
        "    p.append(r)\n",
        "  return p\n",
        "\n",
        "peorCaso(5)\n"
      ],
      "execution_count": 7,
      "outputs": [
        {
          "output_type": "execute_result",
          "data": {
            "text/plain": [
              "[[5, 6, 7, 8, 9],\n",
              " [6, 7, 8, 5, 9],\n",
              " [7, 8, 5, 6, 9],\n",
              " [8, 5, 6, 7, 9],\n",
              " [5, 6, 7, 8, 9],\n",
              " [1, 2, 3, 4, 0],\n",
              " [2, 3, 4, 0, 1],\n",
              " [3, 4, 0, 1, 2],\n",
              " [4, 0, 1, 2, 3],\n",
              " [0, 1, 2, 3, 4]]"
            ]
          },
          "metadata": {
            "tags": []
          },
          "execution_count": 7
        }
      ]
    },
    {
      "cell_type": "code",
      "metadata": {
        "colab": {
          "base_uri": "https://localhost:8080/"
        },
        "id": "ek6Fa1xJn6Eu",
        "outputId": "56df3e9e-13ab-4252-de04-50ece286b6d1"
      },
      "source": [
        "#corriendo el algoritmo para n=4\n",
        "n=4\n",
        "p=peorCaso(n) \n",
        "print(\"Cantidad de iteraciones: \",stableMarriage(p,n)[0])\n"
      ],
      "execution_count": 8,
      "outputs": [
        {
          "output_type": "stream",
          "text": [
            "Woman   Man\n",
            "4 \t 1\n",
            "5 \t 2\n",
            "6 \t 3\n",
            "7 \t 0\n",
            "Cantidad de iteraciones:  28\n"
          ],
          "name": "stdout"
        }
      ]
    },
    {
      "cell_type": "code",
      "metadata": {
        "colab": {
          "base_uri": "https://localhost:8080/"
        },
        "id": "RBffXiqcqosL",
        "outputId": "a395620f-5742-4a84-df15-c3fdbf2065e6"
      },
      "source": [
        "#corriendo el algoritmo para n=40\n",
        "n=40\n",
        "p=peorCaso(n) \n",
        "print(\"Cantidad de iteraciones: \",stableMarriage(p,n)[0])"
      ],
      "execution_count": 9,
      "outputs": [
        {
          "output_type": "stream",
          "text": [
            "Woman   Man\n",
            "40 \t 1\n",
            "41 \t 2\n",
            "42 \t 3\n",
            "43 \t 4\n",
            "44 \t 5\n",
            "45 \t 6\n",
            "46 \t 7\n",
            "47 \t 8\n",
            "48 \t 9\n",
            "49 \t 10\n",
            "50 \t 11\n",
            "51 \t 12\n",
            "52 \t 13\n",
            "53 \t 14\n",
            "54 \t 15\n",
            "55 \t 16\n",
            "56 \t 17\n",
            "57 \t 18\n",
            "58 \t 19\n",
            "59 \t 20\n",
            "60 \t 21\n",
            "61 \t 22\n",
            "62 \t 23\n",
            "63 \t 24\n",
            "64 \t 25\n",
            "65 \t 26\n",
            "66 \t 27\n",
            "67 \t 28\n",
            "68 \t 29\n",
            "69 \t 30\n",
            "70 \t 31\n",
            "71 \t 32\n",
            "72 \t 33\n",
            "73 \t 34\n",
            "74 \t 35\n",
            "75 \t 36\n",
            "76 \t 37\n",
            "77 \t 38\n",
            "78 \t 39\n",
            "79 \t 0\n",
            "Cantidad de iteraciones:  31240\n"
          ],
          "name": "stdout"
        }
      ]
    },
    {
      "cell_type": "markdown",
      "metadata": {
        "id": "8aq0rh0aIwkT"
      },
      "source": [
        "## Corriendo el algoritmo 100 veces"
      ]
    },
    {
      "cell_type": "markdown",
      "metadata": {
        "id": "WJwGM6cfih1f"
      },
      "source": [
        "Rehacemos la función del matrimonio perfecto pero en este caso sin imprimir los datos del matrimonio en cada caso, ya que solo se necesitan los numeros de iteraciones"
      ]
    },
    {
      "cell_type": "code",
      "metadata": {
        "id": "-UZiBfyBiNQe"
      },
      "source": [
        "# Python3 program for stable marriage problem \n",
        "  \n",
        "\n",
        "  \n",
        "# This function returns true if  \n",
        "# woman 'w' prefers man 'm1' over man 'm' \n",
        "def wPrefersM1OverM(prefer, w, m, m1,N): \n",
        "      \n",
        "    # Check if w prefers m over her  \n",
        "    # current engagment m1 \n",
        "    for i in range(N): \n",
        "          \n",
        "        # If m1 comes before m in lisr of w,  \n",
        "        # then w prefers her current engagement, \n",
        "        # don't do anything \n",
        "        if (prefer[w][i] == m1): \n",
        "            return True\n",
        "  \n",
        "        # If m cmes before m1 in w's list,  \n",
        "        # then free her current engagement  \n",
        "        # and engage her with m \n",
        "        if (prefer[w][i] == m): \n",
        "            return False\n",
        "  \n",
        "# Prints stable matching for N boys and N girls.  \n",
        "# Boys are numbered as 0 to N-1.  \n",
        "# Girls are numbereed as N to 2N-1. \n",
        "def stableMarriageSinPrint(prefer,N): \n",
        "      \n",
        "    # Stores partner of women. This is our output  \n",
        "    # array that stores paing information.  \n",
        "    # The value of wPartner[i] indicates the partner  \n",
        "    # assigned to woman N+i. Note that the woman numbers  \n",
        "    # between N and 2*N-1. The value -1 indicates  \n",
        "    # that (N+i)'th woman is free \n",
        "    wPartner = [-1 for i in range(N)] \n",
        "  \n",
        "    # An array to store availability of men.  \n",
        "    # If mFree[i] is false, then man 'i' is free, \n",
        "    # otherwise engaged. \n",
        "    mFree = [False for i in range(N)] \n",
        "  \n",
        "    freeCount = N \n",
        "    #Contador de iteraciones\n",
        "    k=0\n",
        "    # While there are free men \n",
        "    while (freeCount > 0): \n",
        "          \n",
        "        # Pick the first free man (we could pick any) \n",
        "        m = 0\n",
        "        while (m < N): \n",
        "            if (mFree[m] == False): \n",
        "                break\n",
        "            m += 1\n",
        "  \n",
        "        # One by one go to all women according to  \n",
        "        # m's preferences. Here m is the picked free man \n",
        "        i = 0\n",
        "        while i < N and mFree[m] == False: \n",
        "            w = prefer[m][i] \n",
        "  \n",
        "            # The woman of preference is free,  \n",
        "            # w and m become partners (Note that  \n",
        "            # the partnership maybe changed later).  \n",
        "            # So we can say they are engaged not married \n",
        "            \n",
        "            if (wPartner[w - N] == -1): \n",
        "                wPartner[w - N] = m \n",
        "                mFree[m] = True\n",
        "                freeCount -= 1\n",
        "  \n",
        "            else:  \n",
        "                  \n",
        "                # If w is not free \n",
        "                # Find current engagement of w \n",
        "                m1 = wPartner[w - N] \n",
        "  \n",
        "                # If w prefers m over her current engagement m1, \n",
        "                # then break the engagement between w and m1 and \n",
        "                # engage m with w. \n",
        "                if (wPrefersM1OverM(prefer, w, m, m1,N) == False): \n",
        "                    wPartner[w - N] = m \n",
        "                    mFree[m] = True\n",
        "                    mFree[m1] = False\n",
        "            i += 1\n",
        "            k+=1\n",
        "  \n",
        "            # End of Else \n",
        "        # End of the for loop that goes  \n",
        "        # to all women in m's list \n",
        "    # End of main while loop \n",
        "  \n",
        "    # Print the solution \n",
        "    #print(\"Woman \", \" Man\") \n",
        "    #for i in range(N): \n",
        "     #   print(i + N, \"\\t\", wPartner[i]) \n",
        "\n",
        "    #k:cantidad de iteraciones para resolver el caso\n",
        "    #wPartner: lista de los datos de los matrimonios estables\n",
        "    #arriba ejemplo de como imprimirlo\n",
        "    \n",
        "    return [k,wPartner]\n",
        "# Driver Code \n",
        "#prefer = [[7, 5, 6, 4], [5, 4, 6, 7], \n",
        "#          [4, 5, 6, 7], [4, 5, 6, 7], \n",
        "#          [0, 1, 2, 3], [0, 1, 2, 3], \n",
        "#          [0, 1, 2, 3], [0, 1, 2, 3]] \n",
        "  \n",
        "#stableMarriage(prefer) \n",
        "  \n",
        "# This code is contributed by Mohit Kumar "
      ],
      "execution_count": 10,
      "outputs": []
    },
    {
      "cell_type": "code",
      "metadata": {
        "id": "7v10YP8ZCHZc"
      },
      "source": [
        "#genera una lista aleatoria desde first hasta last\n",
        "def lista_aleatoria(first,last):\n",
        "  lista=[]\n",
        "  #calcular a partir del first y el last el tamaño de la lista\n",
        "  while(len(lista)<(last-first+1)):\n",
        "    k=random.randint(first,last);\n",
        "    #si el valor no esta en la lista, lo agrega\n",
        "    if k not in lista:\n",
        "      lista.append(k)\n",
        "  \n",
        "  return lista;\n",
        "\n",
        "\n",
        "\n",
        "#Generar lista de preferencias aleatorias dado un valor de n\n",
        "#n mujeres y n hombres\n",
        "def preferidos(n):\n",
        "  prefer=[]\n",
        "\n",
        "\n",
        "  #primero la lista de preferidos para los hombres\n",
        "  #los hombres se encuentran desde la posición n hasta el final dentro de la lista \n",
        "  for i in range(n):\n",
        "    prefer.append(lista_aleatoria(n,2*n-1))\n",
        "\n",
        "  #luego las preferencias de las mujeres\n",
        "  #las mujeres ocupan los primeros puestos de 0 a n-1 en la lista\n",
        "  for i in range(n):\n",
        "    prefer.append(lista_aleatoria(0,n-1))\n",
        "\n",
        "  return prefer;"
      ],
      "execution_count": 11,
      "outputs": []
    },
    {
      "cell_type": "code",
      "metadata": {
        "id": "ujIfoebRJjZr"
      },
      "source": [
        "x=[]\n",
        "y=np.array([])\n",
        "\n",
        "#correr un for 100 veces\n",
        "for i in range(100):\n",
        "  #generando un valor aleatorio para n, este valor se usara para encontrar el stableMarriage\n",
        "  N=random.randint(4,40)\n",
        "  x.append(N)\n",
        "  y=np.append(y,stableMarriageSinPrint(preferidos(N),N)[0])"
      ],
      "execution_count": 12,
      "outputs": []
    },
    {
      "cell_type": "code",
      "metadata": {
        "colab": {
          "base_uri": "https://localhost:8080/"
        },
        "id": "eSwcnMbsxhdK",
        "outputId": "45b3a4ad-b1cc-4e1d-9c4f-dde70e72ee30"
      },
      "source": [
        "#Minimo, maximo y promedio de los datos\n",
        "print(\"El minimo numero de iteraciones fue de: \",np.min(y))\n",
        "print(\"El maximo numero de iteraciones fue de: \",np.max(y))\n",
        "print(\"El valor promedio de iteraciones para listas de tamaño n, 4<=n<=40 es: \",np.average(y))"
      ],
      "execution_count": 13,
      "outputs": [
        {
          "output_type": "stream",
          "text": [
            "El minimo numero de iteraciones fue de:  6.0\n",
            "El maximo numero de iteraciones fue de:  489.0\n",
            "El valor promedio de iteraciones para listas de tamaño n, 4<=n<=40 es:  109.89\n"
          ],
          "name": "stdout"
        }
      ]
    },
    {
      "cell_type": "code",
      "metadata": {
        "colab": {
          "base_uri": "https://localhost:8080/",
          "height": 265
        },
        "id": "naaqe-I8M0y-",
        "outputId": "510b61b1-5f47-47ab-95f2-c2adda5c6c43"
      },
      "source": [
        "#Graficando los datos\n",
        "plt.bar(x,y)\n",
        "plt.show()"
      ],
      "execution_count": 14,
      "outputs": [
        {
          "output_type": "display_data",
          "data": {
            "image/png": "[encoded data removed]",
            "text/plain": [
              "<Figure size 432x288 with 1 Axes>"
            ]
          },
          "metadata": {
            "tags": [],
            "needs_background": "light"
          }
        }
      ]
    },
    {
      "cell_type": "markdown",
      "metadata": {
        "id": "wLgwRwltxI9y"
      },
      "source": [
        "Podemos ver en la grafica que, se sigue una tendencia a un mayor tiempo, aunque dado que son listas aleatorias, la posibilidad de que una lista mas pequeña tarde mas que una lista mas grande existe, y eso lo podemos ver con los datos no uniformes en el grafico"
      ]
    },
    {
      "cell_type": "markdown",
      "metadata": {
        "id": "xSjd_7EoB7pF"
      },
      "source": [
        "##Referencias\n",
        "- Stable Marriage Problem:https://www.geeksforgeeks.org/stable-marriage-problem/\n",
        "- Improving Man-Optimal Stable Matchings by Minimum Change of Preference Lists: https://www.mdpi.com/1999-4893/6/2/371/htm"
      ]
    }
  ]
}